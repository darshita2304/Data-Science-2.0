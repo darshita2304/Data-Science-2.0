{
 "cells": [
  {
   "cell_type": "code",
   "execution_count": null,
   "metadata": {},
   "outputs": [],
   "source": [
    "def swap_case(s):\n",
    "    x = s.swapcase()\n",
    "    return x\n",
    "\n",
    "if __name__ == '__main__':\n",
    "    s = input()\n",
    "    result = swap_case(s)\n",
    "    print(result)"
   ]
  },
  {
   "cell_type": "code",
   "execution_count": null,
   "metadata": {},
   "outputs": [],
   "source": [
    "#\n",
    "# Complete the 'print_full_name' function below.\n",
    "#\n",
    "# The function is expected to return a STRING.\n",
    "# The function accepts following parameters:\n",
    "#  1. STRING first\n",
    "#  2. STRING last\n",
    "#\n",
    "\n",
    "def print_full_name(first, last):\n",
    "    print(f\"Hello {first} {last}! You just delved into python.\")\n",
    "    return\n",
    "    # Write your code here\n",
    "\n",
    "if __name__ == '__main__':\n",
    "    first_name = input()\n",
    "    last_name = input()\n",
    "    print_full_name(first_name, last_name)"
   ]
  },
  {
   "cell_type": "code",
   "execution_count": null,
   "metadata": {},
   "outputs": [],
   "source": [
    "def mutate_string(string, position, character):\n",
    "    s = list(string)\n",
    "    s[position] = character\n",
    "    st = ''.join(s)\n",
    "    return st\n",
    "\n",
    "if __name__ == '__main__':\n",
    "    s = input()\n",
    "    i, c = input().split()\n",
    "    s_new = mutate_string(s, int(i), c)\n",
    "    print(s_new)"
   ]
  },
  {
   "cell_type": "code",
   "execution_count": null,
   "metadata": {},
   "outputs": [],
   "source": [
    "def count_substring(string, sub_string):\n",
    "    cnt = 0\n",
    "    n = len(sub_string)\n",
    "    for i in range(0, len(string)):        \n",
    "        sub = string[i:i+n]\n",
    "        if (sub == sub_string):\n",
    "            cnt = cnt +1\n",
    "            \n",
    "    return cnt\n",
    "\n",
    "if __name__ == '__main__':\n",
    "    string = input().strip()\n",
    "    sub_string = input().strip()\n",
    "    \n",
    "    count = count_substring(string, sub_string)\n",
    "    print(count)"
   ]
  },
  {
   "cell_type": "code",
   "execution_count": null,
   "metadata": {},
   "outputs": [],
   "source": [
    "import re\n",
    "\n",
    "if __name__ == '__main__':\n",
    "    s = input()\n",
    "    \n",
    "    # for i in range(0,len(s)):\n",
    "        # str1 = s[i]\n",
    "    x = re.findall(\"[a-z]|[A-Z]|[0-9]\", s)\n",
    "    print('True') if len(x)>0 else print('False')\n",
    "    \n",
    "    x = re.findall(\"[a-z]|[A-Z]\", s)\n",
    "    print('True') if len(x)>0 else print('False')\n",
    "        \n",
    "    x = re.findall(\"[0-9]\", s)\n",
    "    print('True') if len(x)>0 else print('False')\n",
    "        \n",
    "    x = re.findall(\"[a-z]\", s)\n",
    "    print('True') if len(x)>0 else print('False')\n",
    "    \n",
    "    x = re.findall(\"[A-Z]\", s)\n",
    "    print('True') if len(x)>0 else print('False')\n",
    "        "
   ]
  }
 ],
 "metadata": {
  "language_info": {
   "name": "python"
  },
  "orig_nbformat": 4
 },
 "nbformat": 4,
 "nbformat_minor": 2
}
