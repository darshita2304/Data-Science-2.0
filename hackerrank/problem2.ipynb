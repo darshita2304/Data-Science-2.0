{
 "cells": [
  {
   "cell_type": "code",
   "execution_count": null,
   "metadata": {},
   "outputs": [
    {
     "ename": "SyntaxError",
     "evalue": "invalid syntax (1490716146.py, line 3)",
     "output_type": "error",
     "traceback": [
      "\u001b[1;36m  File \u001b[1;32m\"C:\\Users\\Darshi\\AppData\\Local\\Temp\\ipykernel_18548\\1490716146.py\"\u001b[1;36m, line \u001b[1;32m3\u001b[0m\n\u001b[1;33m    sort_by_value = dict(sorted(dic.items(), key=lambda x:x[1]x[0]))\u001b[0m\n\u001b[1;37m                                                              ^\u001b[0m\n\u001b[1;31mSyntaxError\u001b[0m\u001b[1;31m:\u001b[0m invalid syntax\n"
     ]
    }
   ],
   "source": [
    "\n",
    "    \n",
    "sort_by_value = dict(sorted(dic.items(), key=lambda x:x[1]))\n",
    "\n",
    "lowest = sort\n",
    "ed(sort_by_value)\n",
    "\n",
    "sort_by_value\n"
   ]
  },
  {
   "cell_type": "code",
   "execution_count": 5,
   "metadata": {},
   "outputs": [],
   "source": [
    "dic = {'Eusebio': 104.78, 'Cruyff': 132.78, 'Pele': 150, 'Ronaldo': 132.78, 'Messi': 125}"
   ]
  },
  {
   "cell_type": "code",
   "execution_count": 36,
   "metadata": {},
   "outputs": [],
   "source": [
    "lst = sorted(dic.values(),reverse=True)"
   ]
  },
  {
   "cell_type": "code",
   "execution_count": 37,
   "metadata": {},
   "outputs": [
    {
     "data": {
      "text/plain": [
       "[150, 132, 132, 125, 104]"
      ]
     },
     "execution_count": 37,
     "metadata": {},
     "output_type": "execute_result"
    }
   ],
   "source": [
    "lst"
   ]
  },
  {
   "cell_type": "code",
   "execution_count": 38,
   "metadata": {},
   "outputs": [],
   "source": [
    "sh = lst[1]"
   ]
  },
  {
   "cell_type": "code",
   "execution_count": 39,
   "metadata": {},
   "outputs": [
    {
     "data": {
      "text/plain": [
       "132"
      ]
     },
     "execution_count": 39,
     "metadata": {},
     "output_type": "execute_result"
    }
   ],
   "source": [
    "sh"
   ]
  },
  {
   "cell_type": "code",
   "execution_count": 41,
   "metadata": {},
   "outputs": [
    {
     "name": "stdout",
     "output_type": "stream",
     "text": [
      "dict_keys(['Cruyff', 'Ronaldo'])\n"
     ]
    }
   ],
   "source": [
    "res = {key : val for key, val in (dic.items())\n",
    "                   if val == sh}\n",
    "\n",
    "print(res.keys())\n",
    "    "
   ]
  },
  {
   "cell_type": "code",
   "execution_count": 33,
   "metadata": {},
   "outputs": [
    {
     "name": "stdout",
     "output_type": "stream",
     "text": [
      "dict_items([('brand', 'Ford'), ('model', 'Mustang'), ('year', 1964)])\n"
     ]
    }
   ],
   "source": [
    "thisdict = {\n",
    "  \"brand\": \"Ford\",\n",
    "  \"model\": \"Mustang\",\n",
    "  \"year\": 1964\n",
    "}\n",
    "\n",
    "x = thisdict.items()\n",
    "\n",
    "print(x)"
   ]
  },
  {
   "cell_type": "code",
   "execution_count": 6,
   "metadata": {},
   "outputs": [],
   "source": [
    "lst = sorted(dic.values(),reverse=True) #getting score\n",
    "sh = lst[1] # second highest\n",
    "res = {key : val for key, val in (dic.items())\n",
    "                   if val == sh} # getting data == to sh\n",
    "\n"
   ]
  },
  {
   "cell_type": "code",
   "execution_count": 7,
   "metadata": {},
   "outputs": [
    {
     "name": "stdout",
     "output_type": "stream",
     "text": [
      "dict_keys(['Cruyff', 'Ronaldo'])\n"
     ]
    }
   ],
   "source": [
    "print(res.keys())  "
   ]
  },
  {
   "cell_type": "code",
   "execution_count": null,
   "metadata": {},
   "outputs": [],
   "source": [
    "if __name__ == '__main__':\n",
    "    \n",
    "    dic = dict()\n",
    "    \n",
    "    for i in range(int(input())):\n",
    "        name = input()\n",
    "        score = float(input())\n",
    "        \n",
    "        dic[name] = score\n",
    "lst = sorted(dic.values()) #getting score\n",
    "sh = lst[1] # second highest\n",
    "res = {key : val for key, val in (dic.items())\n",
    "                   if val == sh} # getting data == to sh\n",
    "\n",
    "      \n",
    "for i in sorted(res.keys()):\n",
    "        print(i)\n"
   ]
  },
  {
   "cell_type": "code",
   "execution_count": null,
   "metadata": {},
   "outputs": [],
   "source": [
    "if __name__ == '__main__':\n",
    "    \n",
    "    dic = dict()\n",
    "    \n",
    "    for i in range(int(input())):\n",
    "        name = input()\n",
    "        score = float(input())\n",
    "        \n",
    "        dic[name] = score\n",
    "        \n",
    "lst = set(sorted(dic.values())) #getting score\n",
    "\n",
    "lst = list(lst)\n",
    "\n",
    "if len(lst)>1:\n",
    "    sh = lst[1] # second highest\n",
    "else:\n",
    "    sh = lst[0]\n",
    "\n",
    "res = {key : val for key, val in (dic.items())\n",
    "                   if val == sh} # getting data == to sh\n",
    "\n",
    "      \n",
    "for i in sorted(res.keys()):\n",
    "        print(i)\n",
    "\n",
    "\n",
    "\n",
    "\n",
    "4\n",
    "Rachel\n",
    "-50\n",
    "Mawer\n",
    "-50\n",
    "Sheen\n",
    "-50\n",
    "Shaheen\n",
    "51\n",
    "\n",
    "\n",
    "5\n",
    "Harsh\n",
    "20\n",
    "Beria\n",
    "20\n",
    "Varun\n",
    "19\n",
    "Kakunami\n",
    "19\n",
    "Vikas\n",
    "21\n",
    "\n",
    "4\n",
    "Sona\n",
    "-25.001\n",
    "Mona\n",
    "-25.0001\n",
    "Mini\n",
    "-25.000\n",
    "Rita\n",
    "-25.0"
   ]
  }
 ],
 "metadata": {
  "kernelspec": {
   "display_name": "Python 3.9.13 ('base')",
   "language": "python",
   "name": "python3"
  },
  "language_info": {
   "codemirror_mode": {
    "name": "ipython",
    "version": 3
   },
   "file_extension": ".py",
   "mimetype": "text/x-python",
   "name": "python",
   "nbconvert_exporter": "python",
   "pygments_lexer": "ipython3",
   "version": "3.9.13"
  },
  "orig_nbformat": 4,
  "vscode": {
   "interpreter": {
    "hash": "a4df7a6600e22bae99e6e8f837be5af686fd7a404512ca9c2620376f38fe7d31"
   }
  }
 },
 "nbformat": 4,
 "nbformat_minor": 2
}
