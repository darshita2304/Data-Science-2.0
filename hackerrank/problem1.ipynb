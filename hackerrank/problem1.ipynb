{
 "cells": [
  {
   "cell_type": "code",
   "execution_count": 1,
   "metadata": {},
   "outputs": [
    {
     "name": "stdout",
     "output_type": "stream",
     "text": [
      "5\n"
     ]
    }
   ],
   "source": [
    "\"\"\"\n",
    "Given the participants' score sheet for your University Sports Day, you are required to find the runner-up score. You are given  scores. Store them in a list and find the score of the runner-up.\n",
    "\n",
    "Input Format\n",
    "\n",
    "The first line contains . The second line contains an array   of  integers each separated by a space.\n",
    "\n",
    "Constraints\n",
    "\n",
    "Output Format\n",
    "\n",
    "Print the runner-up score.\n",
    "\n",
    "Sample Input 0\n",
    "\n",
    "5\n",
    "2 3 6 6 5\n",
    "Sample Output 0\n",
    "\n",
    "5\n",
    "Explanation 0\n",
    "\n",
    "Given list is . The maximum score is , second maximum is . Hence, we print  as the runner-up score.\n",
    "\"\"\"\n",
    "\n",
    "if __name__ == '__main__':\n",
    "    n = int(input())\n",
    "    arr = [int(n) for n in input().split()]\n",
    "    \n",
    "    new_arr = sorted(set(arr), reverse=True)\n",
    "    \n",
    "    print(new_arr[1])"
   ]
  },
  {
   "cell_type": "code",
   "execution_count": null,
   "metadata": {},
   "outputs": [],
   "source": [
    "[[0, 0, 0], \n",
    "[0, 0, 1], \n",
    "\n",
    "[0, 1, 0], \n",
    "[0, 1, 2], \n",
    "\n",
    "[0, 2, 1], \n",
    "[0, 2, 2], \n",
    "\n",
    "[1, 0, 0], \n",
    "[1, 0, 2],\n",
    "\n",
    " [1, 1, 1],\n",
    " [1, 1, 2], \n",
    " \n",
    " [1, 2, 0], \n",
    " [1, 2, 1],\n",
    " [1, 2, 2], \n",
    " \n",
    " [2, 0, 1], \n",
    " [2, 0, 2],\n",
    "\n",
    " [2, 1, 0], \n",
    " [2, 1, 1], \n",
    " [2, 1, 2], \n",
    "\n",
    " [2, 2, 0], \n",
    " [2, 2, 1], \n",
    " [2, 2, 2]]"
   ]
  }
 ],
 "metadata": {
  "kernelspec": {
   "display_name": "Python 3.9.13 ('base')",
   "language": "python",
   "name": "python3"
  },
  "language_info": {
   "codemirror_mode": {
    "name": "ipython",
    "version": 3
   },
   "file_extension": ".py",
   "mimetype": "text/x-python",
   "name": "python",
   "nbconvert_exporter": "python",
   "pygments_lexer": "ipython3",
   "version": "3.9.13"
  },
  "orig_nbformat": 4,
  "vscode": {
   "interpreter": {
    "hash": "a4df7a6600e22bae99e6e8f837be5af686fd7a404512ca9c2620376f38fe7d31"
   }
  }
 },
 "nbformat": 4,
 "nbformat_minor": 2
}
