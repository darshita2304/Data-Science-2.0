{
 "cells": [
  {
   "cell_type": "code",
   "execution_count": 10,
   "metadata": {},
   "outputs": [
    {
     "name": "stdout",
     "output_type": "stream",
     "text": [
      "abcde\n",
      "abcde\n",
      "abcde\n",
      "abcde\n",
      "tree\n",
      "tree\n",
      "tree\n"
     ]
    }
   ],
   "source": [
    "# strs = [\"abcdef\",\"tree\",\"tan\",\"ate\",\"nat\",\"bat\"]\n",
    "strs = [\"abcde\",\"tree\"]\n",
    "\n",
    "\n",
    "def printpermutn(s):\n",
    "\n",
    "    for i in range(1,len(s)):        \n",
    "        str = s[i:i:1] #starting pos\n",
    "        str = str + s[i::] #crop rest\n",
    "        str = str + s[0:(i):] \n",
    "        arr.append(str)\n",
    "\n",
    "        if(i == len(s)):\n",
    "            return arr\n",
    "        else:\n",
    "            print('permute it again')\n",
    "            printpermutn(str)\n",
    "\n",
    "        # print(arr1)\n",
    "    return arr\n",
    "    \n",
    "\n",
    "arr1 = []\n",
    "for s in strs:\n",
    "    print(printpermutn(s))    \n",
    "\n",
    "# print(f\"arr1={arr1}\")\n",
    "\n",
    "# for ss in arr:\n",
    "#     for j in strs:\n",
    "\n",
    "#         if j == ss:\n",
    "#     # if (ss in strs):\n",
    "#             print(f\"string found is-{ss}\")        \n",
    "        \n",
    "    # print(f\"arr-{arr}\")\n",
    "        # print(i)\n"
   ]
  },
  {
   "cell_type": "code",
   "execution_count": 8,
   "metadata": {},
   "outputs": [
    {
     "name": "stdout",
     "output_type": "stream",
     "text": [
      "None\n",
      "None\n",
      "None\n",
      "None\n",
      "None\n",
      "None\n"
     ]
    }
   ],
   "source": [
    "def swap(ch, i, j):\n",
    "    temp = ch[i]\n",
    "    ch[i] = ch[j]\n",
    "    ch[j] = temp\n",
    " \n",
    " \n",
    "# Recursive function to generate all permutations of a string\n",
    "def permutations(ch, curr_index=0):\n",
    " \n",
    "    if curr_index == len(ch) - 1:\n",
    "        print(''.join(ch))\n",
    " \n",
    "    for i in range(curr_index, len(ch)):\n",
    "        swap(ch, curr_index, i)\n",
    "        permutations(ch, curr_index + 1)\n",
    "        swap(ch, curr_index, i) \n",
    " \n",
    "if __name__ == '__main__':\n",
    " \n",
    "    strs = [\"abcdef\",\"tree\",\"tan\",\"ate\",\"nat\",\"bat\"]\n",
    "    for s in strs:\n",
    "        print(permutations(list(s)))"
   ]
  },
  {
   "cell_type": "code",
   "execution_count": 1,
   "metadata": {},
   "outputs": [
    {
     "name": "stdout",
     "output_type": "stream",
     "text": [
      "abcd\n",
      "tree\n"
     ]
    }
   ],
   "source": [
    "# strs = [\"abcdef\",\"tree\",\"tan\",\"ate\",\"nat\",\"bat\"]\n",
    "strs = [\"abcd\",\"tree\"]\n",
    "\n",
    "def permutations(s, i=0):\n",
    "\n",
    "    for i in range(0, len(s)):\n",
    "        \n",
    "        # fstr = s[i:i:1] #starting pos\n",
    "        str = s[i::] #crop rest\n",
    "        # permutations(str)\n",
    "        str = str + s[0:(i):] \n",
    "        print(str)\n",
    "        # permutations(str)\n",
    "        return\n",
    "\n",
    "for s in strs:\n",
    "    arr = (permutations(s))"
   ]
  },
  {
   "cell_type": "code",
   "execution_count": null,
   "metadata": {},
   "outputs": [],
   "source": []
  }
 ],
 "metadata": {
  "kernelspec": {
   "display_name": "base",
   "language": "python",
   "name": "python3"
  },
  "language_info": {
   "codemirror_mode": {
    "name": "ipython",
    "version": 3
   },
   "file_extension": ".py",
   "mimetype": "text/x-python",
   "name": "python",
   "nbconvert_exporter": "python",
   "pygments_lexer": "ipython3",
   "version": "3.9.13"
  },
  "orig_nbformat": 4
 },
 "nbformat": 4,
 "nbformat_minor": 2
}
