{
 "cells": [
  {
   "cell_type": "code",
   "execution_count": null,
   "metadata": {},
   "outputs": [],
   "source": [
    "if __name__ == '__main__':\n",
    "    N = int(input())\n",
    "    lst = []\n",
    "    \n",
    "    for i in range(0,N):\n",
    "        command = str(input())\n",
    "        com = command.split()\n",
    "        arg = com[1:]\n",
    "        # print(com[0])\n",
    "        if len(arg) == 0 and com[0] == 'print':\n",
    "            print(lst)\n",
    "            \n",
    "        elif len(arg) == 0 and com[0] == 'pop':\n",
    "            lst.pop()\n",
    "            \n",
    "        elif len(arg) == 0 and com[0] == 'reverse':\n",
    "            lst.reverse()\n",
    "        \n",
    "        elif len(arg) == 0 and com[0] == 'sort':\n",
    "            lst.sort()\n",
    "            \n",
    "        elif len(arg) == 1 and com[0] == 'remove':\n",
    "            lst.remove(int(arg[0])) \n",
    "            \n",
    "        elif len(arg) == 1 and com[0] == 'append':\n",
    "            lst.append(int(arg[0]))\n",
    "            \n",
    "        elif len(arg) == 2 and com[0] == 'insert':\n",
    "            lst.insert(int(arg[0]), int(arg[1]))\n"
   ]
  },
  {
   "cell_type": "code",
   "execution_count": null,
   "metadata": {},
   "outputs": [],
   "source": [
    "if __name__ == '__main__':\n",
    "    n = int(input())\n",
    "    integer_list = map(int, input().split())\n",
    "    t = tuple(integer_list)\n",
    "    print(hash(t))"
   ]
  }
 ],
 "metadata": {
  "language_info": {
   "name": "python"
  },
  "orig_nbformat": 4
 },
 "nbformat": 4,
 "nbformat_minor": 2
}
