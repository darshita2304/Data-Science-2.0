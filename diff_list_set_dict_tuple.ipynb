{
 "cells": [
  {
   "cell_type": "code",
   "execution_count": null,
   "metadata": {},
   "outputs": [],
   "source": [
    "l = [2,3,4,5,6,7,8] # list - mutable\n",
    "t = (2,3,4,5,7,6) #tuple -  immutable\n",
    "s = {3,4,5,6,7,8} # sets - ds which  remove all duplicate\n",
    "\n",
    "# what is dictionary\n",
    "\"\"\" key and values will be stored which will not hv repeated\n",
    "data within it.. u can create it by { } \n",
    "\n",
    "bydefault python understand python dict by {} but by values\n",
    "it will decide whether it is set or dic\"\"\"\n",
    "\n",
    "d = {'key':'value','key1':[1,2,3,4]}"
   ]
  }
 ],
 "metadata": {
  "kernelspec": {
   "display_name": "Python 3.9.13 ('base')",
   "language": "python",
   "name": "python3"
  },
  "language_info": {
   "name": "python",
   "version": "3.9.13"
  },
  "orig_nbformat": 4,
  "vscode": {
   "interpreter": {
    "hash": "a4df7a6600e22bae99e6e8f837be5af686fd7a404512ca9c2620376f38fe7d31"
   }
  }
 },
 "nbformat": 4,
 "nbformat_minor": 2
}
