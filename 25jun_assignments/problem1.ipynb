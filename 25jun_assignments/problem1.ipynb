{
 "cells": [
  {
   "attachments": {},
   "cell_type": "markdown",
   "metadata": {},
   "source": [
    "Implement a stack using a list in Python. Include the necessary methods such as push, pop, and isEmpty."
   ]
  },
  {
   "cell_type": "code",
   "execution_count": 4,
   "metadata": {},
   "outputs": [
    {
     "name": "stdout",
     "output_type": "stream",
     "text": [
      "['a', 'bb', 'ccc']\n"
     ]
    }
   ],
   "source": [
    "stack = []\n",
    "\n",
    "def push(str):\n",
    "    stack.append(str)\n",
    "    \n",
    "def stack_pop():\n",
    "    print(stack.pop)\n",
    "    \n",
    "def stack_isEmpty():\n",
    "    print(stack.isEmpty())\n",
    "    \n",
    "    \n",
    "# # append() function to push\n",
    "# # element in the stack\n",
    "# stack.append('a')\n",
    "# stack.append('b')\n",
    "# stack.append('c')\n",
    " \n",
    "# print('Initial stack')\n",
    "# print(stack)\n",
    " \n",
    "# # pop() function to pop\n",
    "# # element from stack in\n",
    "# # LIFO order\n",
    "# print('\\nElements popped from stack:')\n",
    "# print(stack.pop())\n",
    "# print(stack.pop())\n",
    "# print(stack.pop())\n",
    " \n",
    "# print('\\nStack after elements are popped:')\n",
    "push(\"a\")\n",
    "push(\"bb\")\n",
    "push(\"ccc\")\n",
    "\n",
    "print(stack)\n",
    "\n"
   ]
  },
  {
   "cell_type": "code",
   "execution_count": null,
   "metadata": {},
   "outputs": [],
   "source": []
  }
 ],
 "metadata": {
  "kernelspec": {
   "display_name": "base",
   "language": "python",
   "name": "python3"
  },
  "language_info": {
   "codemirror_mode": {
    "name": "ipython",
    "version": 3
   },
   "file_extension": ".py",
   "mimetype": "text/x-python",
   "name": "python",
   "nbconvert_exporter": "python",
   "pygments_lexer": "ipython3",
   "version": "3.9.13"
  },
  "orig_nbformat": 4
 },
 "nbformat": 4,
 "nbformat_minor": 2
}
