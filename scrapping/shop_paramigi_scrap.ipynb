{
 "cells": [
  {
   "cell_type": "code",
   "execution_count": 1,
   "metadata": {},
   "outputs": [],
   "source": [
    "import time\n",
    "import pandas as pd\n",
    "from selenium import webdriver\n",
    "from selenium.webdriver import Chrome\n",
    "from selenium.webdriver.common.by import By"
   ]
  },
  {
   "cell_type": "code",
   "execution_count": 2,
   "metadata": {},
   "outputs": [],
   "source": [
    "# Define the Chrome webdriver options\n",
    "options = webdriver.ChromeOptions()\n",
    "# Pass the defined options objects to initialize the web driver\n",
    "driver = Chrome(options=options)\n",
    "# Set an implicit wait of 5 seconds to allow time for elements to appear before throwing an exception\n",
    "driver.implicitly_wait(20)"
   ]
  },
  {
   "cell_type": "code",
   "execution_count": 3,
   "metadata": {},
   "outputs": [],
   "source": [
    "search_url = \"https://shop.parmigianoreggiano.com/it/shop.html\"\n",
    "\n",
    "# query = \"canon eos-1d x mark iii\"\n",
    "# query = query.replace(\" \", \"+\")\n",
    "\n",
    "# search_url = search_url.format(q=query)"
   ]
  },
  {
   "cell_type": "code",
   "execution_count": 4,
   "metadata": {},
   "outputs": [],
   "source": [
    "driver.get(search_url)\n",
    "\n",
    "main_page = driver.current_window_handle\n",
    "\n",
    "time.sleep(20)"
   ]
  },
  {
   "cell_type": "code",
   "execution_count": 15,
   "metadata": {},
   "outputs": [],
   "source": [
    "# clicking in review links\n",
    "# driver.find_element(By.CLASS_NAME, \"X8v1lc UHCRod\").click()\n",
    "from selenium.webdriver.common.by import By\n",
    "from selenium.webdriver.support.wait import WebDriverWait\n",
    "from selenium.webdriver.support import expected_conditions as EC\n",
    "from selenium.webdriver.common.action_chains import ActionChains\n",
    "\n",
    "\n",
    "price_per_kg = driver.find_elements(By.XPATH, \"//span[@class='product prezzo-kg']\")\n",
    "company_name = driver.find_elements(By.XPATH,\"//a[@class='nome-caseificio']/span\")\n",
    "\n",
    "product_name = driver.find_elements(By.XPATH,\"//a[@class='product-item-link']\")\n",
    "price = driver.find_elements(By.XPATH,\"//span[@class='price']\")\n",
    "weight = driver.find_elements(By.XPATH,\"//span[@class='product formato-peso']\")\n",
    "driver.implicitly_wait(20)\n",
    "# review_btn.click()\n",
    "# ActionChains(driver).move_to_element(review_btn).click(review_btn).perform()"
   ]
  },
  {
   "cell_type": "code",
   "execution_count": 16,
   "metadata": {},
   "outputs": [
    {
     "data": {
      "text/plain": [
       "12"
      ]
     },
     "execution_count": 16,
     "metadata": {},
     "output_type": "execute_result"
    }
   ],
   "source": [
    "len(price_per_kg)"
   ]
  },
  {
   "cell_type": "code",
   "execution_count": 17,
   "metadata": {},
   "outputs": [
    {
     "data": {
      "text/plain": [
       "12"
      ]
     },
     "execution_count": 17,
     "metadata": {},
     "output_type": "execute_result"
    }
   ],
   "source": [
    "len(product_name)"
   ]
  },
  {
   "cell_type": "code",
   "execution_count": 18,
   "metadata": {},
   "outputs": [
    {
     "data": {
      "text/plain": [
       "12"
      ]
     },
     "execution_count": 18,
     "metadata": {},
     "output_type": "execute_result"
    }
   ],
   "source": [
    "len(company_name)"
   ]
  },
  {
   "cell_type": "code",
   "execution_count": 19,
   "metadata": {},
   "outputs": [],
   "source": [
    "## click on more products\n",
    "\n",
    "load_more_btn = driver.find_element(\n",
    "    By.XPATH, \"//div[@class='amscroll-load-button']\")\n",
    "driver.implicitly_wait(20)\n",
    "load_more_btn.click()\n",
    "# ActionChains(driver).move_to_element(review_btn).click(review_btn).perform()"
   ]
  },
  {
   "cell_type": "code",
   "execution_count": 20,
   "metadata": {},
   "outputs": [],
   "source": [
    "price_per_kg = driver.find_elements(\n",
    "    By.XPATH, \"//span[@class='product prezzo-kg']\")\n",
    "company_name = driver.find_elements(\n",
    "    By.XPATH, \"//a[@class='nome-caseificio']/span\")\n",
    "\n",
    "product_name = driver.find_elements(\n",
    "    By.XPATH, \"//a[@class='product-item-link']\")\n",
    "price = driver.find_elements(By.XPATH, \"//span[@class='price']\")\n",
    "weight = driver.find_elements(\n",
    "    By.XPATH, \"//span[@class='product formato-peso']\")\n",
    "driver.implicitly_wait(20)"
   ]
  },
  {
   "cell_type": "code",
   "execution_count": 21,
   "metadata": {},
   "outputs": [
    {
     "data": {
      "text/plain": [
       "24"
      ]
     },
     "execution_count": 21,
     "metadata": {},
     "output_type": "execute_result"
    }
   ],
   "source": [
    "len(company_name)"
   ]
  },
  {
   "cell_type": "code",
   "execution_count": 25,
   "metadata": {},
   "outputs": [
    {
     "name": "stdout",
     "output_type": "stream",
     "text": [
      "Caseificio San Salvatore\n",
      "Caseificio San Salvatore\n",
      "Caseificio San Salvatore\n",
      "Caseificio San Salvatore\n",
      "Caseificio San Salvatore\n",
      "Caseificio San Salvatore\n",
      "Caseificio San Salvatore\n",
      "Soc. Agricola Valserena\n",
      "Soc. Agricola Valserena\n",
      "Soc. Agricola Valserena\n",
      "Soc. Agricola Valserena\n",
      "Soc. Agricola Valserena\n",
      "Caseificio Araldi\n",
      "Caseificio Araldi\n",
      "Caseificio Araldi\n",
      "Caseificio Araldi\n",
      "Caseificio Araldi\n",
      "Caseificio Butteri\n",
      "Caseificio Butteri\n",
      "Caseificio Butteri\n",
      "Caseificio Butteri\n",
      "Caseificio Butteri\n",
      "Caseificio Butteri\n",
      "Consorzio Vacche Rosse\n"
     ]
    }
   ],
   "source": [
    "for i in company_name:\n",
    "    print(i.text)"
   ]
  },
  {
   "cell_type": "code",
   "execution_count": 30,
   "metadata": {},
   "outputs": [],
   "source": [
    "price_per_kg_arr = []\n",
    "company_name_arr = []\n",
    "product_name_arr = []\n",
    "price_arr = []\n",
    "weight_arr = []\n",
    "\n",
    "for i in range(0,len(price_per_kg)-1):\n",
    "    price_per_kg_arr.append(price_per_kg[i].text)\n",
    "    company_name_arr.append(company_name[i].text)\n",
    "    product_name_arr.append(product_name[i].text)\n",
    "    price_arr.append(price[i].text)\n",
    "    weight_arr.append(weight[i].text)\n",
    "    "
   ]
  },
  {
   "cell_type": "code",
   "execution_count": 32,
   "metadata": {},
   "outputs": [],
   "source": [
    "df = {\"price_per_kg\": price_per_kg_arr,\n",
    "                  \"company_name\": company_name_arr,\n",
    "                  \"product_name\": product_name_arr,\n",
    "                  \"price\": price_arr,\n",
    "                  \"weight\":weight_arr}\n",
    "\n",
    "\n",
    "\n",
    "df1 = pd.DataFrame(df)"
   ]
  },
  {
   "cell_type": "code",
   "execution_count": 33,
   "metadata": {},
   "outputs": [
    {
     "data": {
      "text/html": [
       "<div>\n",
       "<style scoped>\n",
       "    .dataframe tbody tr th:only-of-type {\n",
       "        vertical-align: middle;\n",
       "    }\n",
       "\n",
       "    .dataframe tbody tr th {\n",
       "        vertical-align: top;\n",
       "    }\n",
       "\n",
       "    .dataframe thead th {\n",
       "        text-align: right;\n",
       "    }\n",
       "</style>\n",
       "<table border=\"1\" class=\"dataframe\">\n",
       "  <thead>\n",
       "    <tr style=\"text-align: right;\">\n",
       "      <th></th>\n",
       "      <th>price_per_kg</th>\n",
       "      <th>company_name</th>\n",
       "      <th>product_name</th>\n",
       "      <th>price</th>\n",
       "      <th>weight</th>\n",
       "    </tr>\n",
       "  </thead>\n",
       "  <tbody>\n",
       "    <tr>\n",
       "      <th>0</th>\n",
       "      <td>19.20€/kg</td>\n",
       "      <td>Caseificio San Salvatore</td>\n",
       "      <td>Parmigiano Reggiano 12 Mesi</td>\n",
       "      <td>19,20 €</td>\n",
       "      <td>1kg</td>\n",
       "    </tr>\n",
       "    <tr>\n",
       "      <th>1</th>\n",
       "      <td>22.50€/kg</td>\n",
       "      <td>Caseificio San Salvatore</td>\n",
       "      <td>Parmigiano Reggiano 24 Mesi</td>\n",
       "      <td>22,50 €</td>\n",
       "      <td>1kg</td>\n",
       "    </tr>\n",
       "    <tr>\n",
       "      <th>2</th>\n",
       "      <td>24.50€/kg</td>\n",
       "      <td>Caseificio San Salvatore</td>\n",
       "      <td>Parmigiano Reggiano 30 Mesi</td>\n",
       "      <td>24,50 €</td>\n",
       "      <td>1kg</td>\n",
       "    </tr>\n",
       "    <tr>\n",
       "      <th>3</th>\n",
       "      <td>26.50€/kg</td>\n",
       "      <td>Caseificio San Salvatore</td>\n",
       "      <td>Parmigiano Reggiano 36 Mesi</td>\n",
       "      <td>26,50 €</td>\n",
       "      <td>1kg</td>\n",
       "    </tr>\n",
       "    <tr>\n",
       "      <th>4</th>\n",
       "      <td>34.00€/kg</td>\n",
       "      <td>Caseificio San Salvatore</td>\n",
       "      <td>Parmigiano Reggiano 48 Mesi</td>\n",
       "      <td>34,00 €</td>\n",
       "      <td>1kg</td>\n",
       "    </tr>\n",
       "    <tr>\n",
       "      <th>5</th>\n",
       "      <td>45.00€/kg</td>\n",
       "      <td>Caseificio San Salvatore</td>\n",
       "      <td>Parmigiano Reggiano 60 Mesi</td>\n",
       "      <td>45,00 €</td>\n",
       "      <td>1kg</td>\n",
       "    </tr>\n",
       "    <tr>\n",
       "      <th>6</th>\n",
       "      <td>54.00€/kg</td>\n",
       "      <td>Caseificio San Salvatore</td>\n",
       "      <td>Parmigiano Reggiano 70 Mesi</td>\n",
       "      <td>54,00 €</td>\n",
       "      <td>1kg</td>\n",
       "    </tr>\n",
       "    <tr>\n",
       "      <th>7</th>\n",
       "      <td>19.80€/kg</td>\n",
       "      <td>Soc. Agricola Valserena</td>\n",
       "      <td>Parmigiano Reggiano Vacca Bruna 12 Mesi</td>\n",
       "      <td>9,90 €</td>\n",
       "      <td>0.5kg</td>\n",
       "    </tr>\n",
       "    <tr>\n",
       "      <th>8</th>\n",
       "      <td>19.80€/kg</td>\n",
       "      <td>Soc. Agricola Valserena</td>\n",
       "      <td>Parmigiano Reggiano Vacca Bruna 12 Mesi</td>\n",
       "      <td>19,80 €</td>\n",
       "      <td>1kg</td>\n",
       "    </tr>\n",
       "    <tr>\n",
       "      <th>9</th>\n",
       "      <td>19.8€/kg</td>\n",
       "      <td>Soc. Agricola Valserena</td>\n",
       "      <td>Parmigiano Reggiano Vacca Bruna 12 Mesi - Quar...</td>\n",
       "      <td>198,00 €</td>\n",
       "      <td>9.5kg min</td>\n",
       "    </tr>\n",
       "    <tr>\n",
       "      <th>10</th>\n",
       "      <td>24.40€/kg</td>\n",
       "      <td>Soc. Agricola Valserena</td>\n",
       "      <td>Parmigiano Reggiano Vacca Bruna 24 Mesi</td>\n",
       "      <td>12,20 €</td>\n",
       "      <td>0.5kg</td>\n",
       "    </tr>\n",
       "    <tr>\n",
       "      <th>11</th>\n",
       "      <td>24.30€/kg</td>\n",
       "      <td>Soc. Agricola Valserena</td>\n",
       "      <td>Parmigiano Reggiano Vacca Bruna 24 Mesi</td>\n",
       "      <td>24,30 €</td>\n",
       "      <td>1kg</td>\n",
       "    </tr>\n",
       "    <tr>\n",
       "      <th>12</th>\n",
       "      <td>21.10€/kg</td>\n",
       "      <td>Caseificio Araldi</td>\n",
       "      <td>Parmigiano Reggiano 30 Mesi</td>\n",
       "      <td>21,10 €</td>\n",
       "      <td>1kg</td>\n",
       "    </tr>\n",
       "    <tr>\n",
       "      <th>13</th>\n",
       "      <td>24.60€/kg</td>\n",
       "      <td>Caseificio Araldi</td>\n",
       "      <td>Parmigiano Reggiano 36 Mesi</td>\n",
       "      <td>12,30 €</td>\n",
       "      <td>0.5kg</td>\n",
       "    </tr>\n",
       "    <tr>\n",
       "      <th>14</th>\n",
       "      <td>23.70€/kg</td>\n",
       "      <td>Caseificio Araldi</td>\n",
       "      <td>Parmigiano Reggiano 36 Mesi</td>\n",
       "      <td>23,70 €</td>\n",
       "      <td>1kg</td>\n",
       "    </tr>\n",
       "    <tr>\n",
       "      <th>15</th>\n",
       "      <td>28.00€/kg</td>\n",
       "      <td>Caseificio Araldi</td>\n",
       "      <td>Parmigiano Reggiano 40 Mesi</td>\n",
       "      <td>14,00 €</td>\n",
       "      <td>0.5kg</td>\n",
       "    </tr>\n",
       "    <tr>\n",
       "      <th>16</th>\n",
       "      <td>27.50€/kg</td>\n",
       "      <td>Caseificio Araldi</td>\n",
       "      <td>Parmigiano Reggiano 40 Mesi</td>\n",
       "      <td>27,50 €</td>\n",
       "      <td>1kg</td>\n",
       "    </tr>\n",
       "    <tr>\n",
       "      <th>17</th>\n",
       "      <td>15.70€/kg</td>\n",
       "      <td>Caseificio Butteri</td>\n",
       "      <td>Parmigiano Reggiano 12 Mesi</td>\n",
       "      <td>7,85 €</td>\n",
       "      <td>0.5kg</td>\n",
       "    </tr>\n",
       "    <tr>\n",
       "      <th>18</th>\n",
       "      <td>15.70€/kg</td>\n",
       "      <td>Caseificio Butteri</td>\n",
       "      <td>Parmigiano Reggiano 12 Mesi</td>\n",
       "      <td>15,70 €</td>\n",
       "      <td>1kg</td>\n",
       "    </tr>\n",
       "    <tr>\n",
       "      <th>19</th>\n",
       "      <td>18.90€/kg</td>\n",
       "      <td>Caseificio Butteri</td>\n",
       "      <td>Parmigiano Reggiano Oltre 22 Mesi</td>\n",
       "      <td>9,45 €</td>\n",
       "      <td>0.5kg</td>\n",
       "    </tr>\n",
       "    <tr>\n",
       "      <th>20</th>\n",
       "      <td>18.90€/kg</td>\n",
       "      <td>Caseificio Butteri</td>\n",
       "      <td>Parmigiano Reggiano Oltre 22 Mesi</td>\n",
       "      <td>18,90 €</td>\n",
       "      <td>1kg</td>\n",
       "    </tr>\n",
       "    <tr>\n",
       "      <th>21</th>\n",
       "      <td>20.50€/kg</td>\n",
       "      <td>Caseificio Butteri</td>\n",
       "      <td>Parmigiano Reggiano Oltre 30 Mesi</td>\n",
       "      <td>10,25 €</td>\n",
       "      <td>0.5kg</td>\n",
       "    </tr>\n",
       "    <tr>\n",
       "      <th>22</th>\n",
       "      <td>20.50€/kg</td>\n",
       "      <td>Caseificio Butteri</td>\n",
       "      <td>Parmigiano Reggiano Oltre 30 Mesi</td>\n",
       "      <td>20,50 €</td>\n",
       "      <td>1kg</td>\n",
       "    </tr>\n",
       "  </tbody>\n",
       "</table>\n",
       "</div>"
      ],
      "text/plain": [
       "   price_per_kg              company_name  \\\n",
       "0     19.20€/kg  Caseificio San Salvatore   \n",
       "1     22.50€/kg  Caseificio San Salvatore   \n",
       "2     24.50€/kg  Caseificio San Salvatore   \n",
       "3     26.50€/kg  Caseificio San Salvatore   \n",
       "4     34.00€/kg  Caseificio San Salvatore   \n",
       "5     45.00€/kg  Caseificio San Salvatore   \n",
       "6     54.00€/kg  Caseificio San Salvatore   \n",
       "7     19.80€/kg   Soc. Agricola Valserena   \n",
       "8     19.80€/kg   Soc. Agricola Valserena   \n",
       "9      19.8€/kg   Soc. Agricola Valserena   \n",
       "10    24.40€/kg   Soc. Agricola Valserena   \n",
       "11    24.30€/kg   Soc. Agricola Valserena   \n",
       "12    21.10€/kg         Caseificio Araldi   \n",
       "13    24.60€/kg         Caseificio Araldi   \n",
       "14    23.70€/kg         Caseificio Araldi   \n",
       "15    28.00€/kg         Caseificio Araldi   \n",
       "16    27.50€/kg         Caseificio Araldi   \n",
       "17    15.70€/kg        Caseificio Butteri   \n",
       "18    15.70€/kg        Caseificio Butteri   \n",
       "19    18.90€/kg        Caseificio Butteri   \n",
       "20    18.90€/kg        Caseificio Butteri   \n",
       "21    20.50€/kg        Caseificio Butteri   \n",
       "22    20.50€/kg        Caseificio Butteri   \n",
       "\n",
       "                                         product_name     price     weight  \n",
       "0                         Parmigiano Reggiano 12 Mesi   19,20 €        1kg  \n",
       "1                         Parmigiano Reggiano 24 Mesi   22,50 €        1kg  \n",
       "2                         Parmigiano Reggiano 30 Mesi   24,50 €        1kg  \n",
       "3                         Parmigiano Reggiano 36 Mesi   26,50 €        1kg  \n",
       "4                         Parmigiano Reggiano 48 Mesi   34,00 €        1kg  \n",
       "5                         Parmigiano Reggiano 60 Mesi   45,00 €        1kg  \n",
       "6                         Parmigiano Reggiano 70 Mesi   54,00 €        1kg  \n",
       "7             Parmigiano Reggiano Vacca Bruna 12 Mesi    9,90 €      0.5kg  \n",
       "8             Parmigiano Reggiano Vacca Bruna 12 Mesi   19,80 €        1kg  \n",
       "9   Parmigiano Reggiano Vacca Bruna 12 Mesi - Quar...  198,00 €  9.5kg min  \n",
       "10            Parmigiano Reggiano Vacca Bruna 24 Mesi   12,20 €      0.5kg  \n",
       "11            Parmigiano Reggiano Vacca Bruna 24 Mesi   24,30 €        1kg  \n",
       "12                        Parmigiano Reggiano 30 Mesi   21,10 €        1kg  \n",
       "13                        Parmigiano Reggiano 36 Mesi   12,30 €      0.5kg  \n",
       "14                        Parmigiano Reggiano 36 Mesi   23,70 €        1kg  \n",
       "15                        Parmigiano Reggiano 40 Mesi   14,00 €      0.5kg  \n",
       "16                        Parmigiano Reggiano 40 Mesi   27,50 €        1kg  \n",
       "17                        Parmigiano Reggiano 12 Mesi    7,85 €      0.5kg  \n",
       "18                        Parmigiano Reggiano 12 Mesi   15,70 €        1kg  \n",
       "19                  Parmigiano Reggiano Oltre 22 Mesi    9,45 €      0.5kg  \n",
       "20                  Parmigiano Reggiano Oltre 22 Mesi   18,90 €        1kg  \n",
       "21                  Parmigiano Reggiano Oltre 30 Mesi   10,25 €      0.5kg  \n",
       "22                  Parmigiano Reggiano Oltre 30 Mesi   20,50 €        1kg  "
      ]
     },
     "execution_count": 33,
     "metadata": {},
     "output_type": "execute_result"
    }
   ],
   "source": [
    "df1"
   ]
  },
  {
   "cell_type": "code",
   "execution_count": null,
   "metadata": {},
   "outputs": [],
   "source": []
  }
 ],
 "metadata": {
  "kernelspec": {
   "display_name": "base",
   "language": "python",
   "name": "python3"
  },
  "language_info": {
   "codemirror_mode": {
    "name": "ipython",
    "version": 3
   },
   "file_extension": ".py",
   "mimetype": "text/x-python",
   "name": "python",
   "nbconvert_exporter": "python",
   "pygments_lexer": "ipython3",
   "version": "3.9.13"
  }
 },
 "nbformat": 4,
 "nbformat_minor": 2
}
