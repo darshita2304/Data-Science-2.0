{
 "cells": [
  {
   "cell_type": "code",
   "execution_count": 1,
   "metadata": {},
   "outputs": [],
   "source": [
    "from flask import Flask, render_template, request, jsonify\n",
    "from flask_cors import CORS, cross_origin\n",
    "import requests\n",
    "from bs4 import BeautifulSoup as bs\n",
    "from urllib.request import urlopen as uReq"
   ]
  },
  {
   "cell_type": "code",
   "execution_count": 2,
   "metadata": {},
   "outputs": [
    {
     "data": {
      "text/plain": [
       "'https://www.google.com/search?q=canon+eos-1d+x+mark+iii&rlz=1C1ONGR_enIN952IN952&oq=canon+eos-1d+x+mark+iii'"
      ]
     },
     "execution_count": 2,
     "metadata": {},
     "output_type": "execute_result"
    }
   ],
   "source": [
    "# search_url = \"https://www.google.com/search?safe=off&site=&tbm=isch&source=hp&q={q}&oq={q}&gs_l=img\"\n",
    "\n",
    "search_url = \"https://www.google.com/search?q={q}&rlz=1C1ONGR_enIN952IN952&oq={q}\"\n",
    "\n",
    "query = \"canon eos-1d x mark iii\"\n",
    "query = query.replace(\" \", \"+\")\n",
    "\n",
    "search_url = search_url.format(q=query)\n",
    "search_url\n",
    "\n",
    "# https://www.google.com/search?q={q}&rlz=1C1ONGR_enIN952IN952&oq={q}"
   ]
  },
  {
   "cell_type": "code",
   "execution_count": 3,
   "metadata": {},
   "outputs": [],
   "source": [
    "import time\n",
    "import pandas as pd\n",
    "from selenium import webdriver\n",
    "from selenium.webdriver import Chrome\n",
    "from selenium.webdriver.common.by import By"
   ]
  },
  {
   "cell_type": "code",
   "execution_count": 4,
   "metadata": {},
   "outputs": [],
   "source": [
    "# Define the Chrome webdriver options\n",
    "options = webdriver.ChromeOptions()\n",
    "# Set the Chrome webdriver to run in headless mode for scalability\n",
    "# options.add_argument(\"--headless\")\n",
    "\n",
    "# # By default, Selenium waits for all resources to download before taking actions.\n",
    "# # However, we don't need it as the page is populated with dynamically generated JavaScript code.\n",
    "# options.page_load_strategy = \"none\"\n",
    "\n",
    "# Pass the defined options objects to initialize the web driver\n",
    "driver = Chrome(options=options)\n",
    "# Set an implicit wait of 5 seconds to allow time for elements to appear before throwing an exception\n",
    "driver.implicitly_wait(20)"
   ]
  },
  {
   "cell_type": "code",
   "execution_count": 5,
   "metadata": {},
   "outputs": [],
   "source": [
    "\n",
    "driver.get(search_url)\n",
    "\n",
    "main_page = driver.current_window_handle\n",
    "\n",
    "time.sleep(20)"
   ]
  },
  {
   "cell_type": "code",
   "execution_count": 6,
   "metadata": {},
   "outputs": [],
   "source": [
    "#clicking in review links\n",
    "# driver.find_element(By.CLASS_NAME, \"X8v1lc UHCRod\").click()\n",
    "from selenium.webdriver.common.by import By\n",
    "from selenium.webdriver.support.wait import WebDriverWait\n",
    "from selenium.webdriver.support import expected_conditions as EC\n",
    "from selenium.webdriver.common.action_chains import ActionChains\n",
    "\n",
    "\n",
    "review_btn = driver.find_element(By.XPATH, \"//*[@id='kp-wp-tab-overview']/div[1]/div/div/div/div[1]/div/div/button[2]\")\n",
    "driver.implicitly_wait(20)\n",
    "review_btn.click()\n",
    "# ActionChains(driver).move_to_element(review_btn).click(review_btn).perform()\n",
    "\n"
   ]
  },
  {
   "cell_type": "code",
   "execution_count": 7,
   "metadata": {},
   "outputs": [],
   "source": [
    "# //*[@id=\"_k56KZcfmIKvb4-EP1YmzuAo_142\"]/div/div[1]/div[1]/div[1]/span/div\n",
    "\n",
    "reviews = driver.find_elements(By.XPATH, \"//*[@id='_rJ6KZbubNN_x4-EPitGH2AE_1-title']\")"
   ]
  },
  {
   "cell_type": "code",
   "execution_count": null,
   "metadata": {},
   "outputs": [],
   "source": [
    "for i in reviews:\n",
    "    print(i.text)"
   ]
  },
  {
   "cell_type": "code",
   "execution_count": 8,
   "metadata": {},
   "outputs": [],
   "source": [
    "# div class name is q7ToWe\n",
    "reviews_names = driver.find_elements(\n",
    "    By.CLASS_NAME, \"q7ToWe\")\n",
    "\n",
    "stars = driver.find_elements(\n",
    "    By.XPATH, \"//span[@class='DWpv6c']//span[@class='Y0A0hc']//span[@class='yi40Hd YrbPuc']\")\n",
    "\n",
    "xp = \"//div[@class='KTsGge']//span[@class='KTsGge']\"\n",
    "review_titles = driver.find_elements(By.XPATH, xp)\n",
    "\n",
    "\n",
    "# xp = \"//div[@class='YKsAwb Kq2q2c']\"\n",
    "xp = '//div[@class=\"YKsAwb Kq2q2c\" and substring(@id, string-length(@id) - string-length(\"-full\") + 1) = \"-full\"]'\n",
    "review_details = driver.find_elements(By.XPATH, xp)\n",
    "\n",
    "#reviews on url..\n",
    "xp = \"//div[@class='MR6qfb']\"\n",
    "review_on = driver.find_elements(By.XPATH, xp)"
   ]
  },
  {
   "cell_type": "code",
   "execution_count": null,
   "metadata": {},
   "outputs": [
    {
     "data": {
      "text/plain": [
       "11"
      ]
     },
     "execution_count": 119,
     "metadata": {},
     "output_type": "execute_result"
    }
   ],
   "source": [
    "# div class name is q7ToWe\n",
    "review_div = driver.find_elements(\n",
    "    By.XPATH, \"//div[@class='HDso9d' and @tabindex='-1']\")\n",
    "\n",
    "\n",
    "# reviews_names = review_div.findElement(By.XPATH, \"//div[@class='q7ToWe']\")\n",
    "\n",
    "\n",
    "# review_div[1]\n",
    "\n",
    "len(reviews_names)"
   ]
  },
  {
   "cell_type": "code",
   "execution_count": 16,
   "metadata": {},
   "outputs": [],
   "source": [
    "# div class name is q7ToWe\n",
    "parent = driver.find_elements(\n",
    "    By.CLASS_NAME, \"HDso9d\")"
   ]
  },
  {
   "cell_type": "code",
   "execution_count": 17,
   "metadata": {},
   "outputs": [
    {
     "data": {
      "text/plain": [
       "11"
      ]
     },
     "execution_count": 17,
     "metadata": {},
     "output_type": "execute_result"
    }
   ],
   "source": [
    "len(parent)"
   ]
  },
  {
   "cell_type": "code",
   "execution_count": 59,
   "metadata": {},
   "outputs": [],
   "source": [
    "import re\n",
    "def remove_words(input_string, word_to_replace):\n",
    "    pattern = re.compile(\n",
    "        r'\\b' + re.escape(word_to_replace) + r'\\b', re.IGNORECASE)\n",
    "    modified_string = pattern.sub(\"\", input_string)\n",
    "    return modified_string"
   ]
  },
  {
   "cell_type": "code",
   "execution_count": 61,
   "metadata": {},
   "outputs": [
    {
     "name": "stdout",
     "output_type": "stream",
     "text": [
      "['camott12_uk', 'indurain66', 'Raphael', 'Barbara', 'James', 'Jon', 'Arthur', 'Cameron', 'wyatearp123_8', 'Charles']\n",
      "['5', '5', '5', '4', '4', '5', '4', '5', '5', '5']\n",
      "['Beautiful image quality and DCI 4k Video, Fast auto focus, the Swiss knife of Canon! a beast of a camera!', 'A true professional machine for those capable of handling such a beast and have a soft spot for photography history', 'Just wow', 'Pretty darned good', 'An improvement?- Yes! A breakthrough? Not quite.', 'A serious camera for serious photographers', 'Evolutionary Update', \"Was worried I'd regret it\", 'Best DSLR from Canon, bar none!', 'Beautiful camera - great results']\n",
      "['I really love my 1D X MKII, the size is great for getting stable handheld shots and so is the touch screen with autofocus. The DCI 4K video is smooth and finally 4K in a DSLR! Cheaper than the RED camera system especially when it comes to accessories. One really nice feature is that you can shoot up to 120 fps in 1080, giving really cool slow-mo with no crop. It uses CFast for 4Kthe cards are not cheap but then you can shoot up to 60 fps in UHD 4K. For stillsthe speed of the camera is unbelievable, great for sports with face detection focus, it is also weather resistant providing resistance against water and dust getting into it when you shoot outdoors. A beast of a camera.', \"This is the ultimate machine for Canon users still attached to their legacy EF mount lenses. Canon knew very well this will be their last DSLR before moving all their professional cameras to the mirrorless line and they clearly spared no effort or expense in trying to leave a lasting impression. In other words, they left with a bang. All the complaints people had about Canon AF, dynamic range, low-light performance, etc.. have been addressed leaving very little to complain about. But that won't stop people from complaining anyway. Mine is that in the process of checking every box, the camera is seriously heavy and needs someone with very steady large hands to avoid camera shake if you plan to use it anywhere outside of a studio or mounted on a tripod on the side lines of a ...More\", 'Since this is being the last flagship camera Canon, I got a bit of nostalgic and kind of bummed. It is not like I was shooting with a 1D Series since the beginning I was always wanted to experience it and I do have a couple of projects that need the kind of power. I do prefer shooting with a DSLR body rather than a mirrorless form factor. However, a mirrorless body it is really light. Image quality is still great regardless of what form fact you use. I feel like the RF roadmap will for sure develop for the years to come just like the EF lineup developed over the years. Both camera bodies and lenses will eventually get another version to what is out there right now. I do own the R5 and I still have my 5D MIV. I am fully invested in the EF lens line up and I was a little late ...More', \"I only own one of these, vs. maybe five 1DX Mark IIs, so I may have been unlucky.\\n\\nIt's an excellent camera but, in side-by-side comparisons, the resulting images look pretty much like the Mark II images. Instead, the far larger files simply mean I spend more on hard drives/storage.\\n\\nIn addition, after about 5-6 months of use, the Mark III got a slight light leak. When a lens is mounted - of whatever size (Canon 16-35s to 500 f4) - the resulting image has a slight light leak at top.\\n\\nAs such, images have a slight white glare, as if you'd been shooting toward the sun.\\n\\nI've been able to repair each shot with Photoshop, when necessary - it's small. But it's absolutely there.\\n\\nBetween those two things, I personally can't say this camera was worth buying, in comparison with the ...More\", \"I suppose I am one of those with more money than skill when it comes to camera equipment. I've been using mostly Canons since I said goodbye to my old Nikon 8008S years ago - mostly the mid-range equipment until a few years ago. My interest in photography was peaking then, and I began to pursue it more seriously.\\n\\nPhotographers I met (more experienced than I) sang the praises of the 1 DX (Mk II at the time), and it was (is still actually) almost impossible to find a review that's critical of of the 1D X. Finally, having encountered a couple of real limitations in my 5D MkIII, I plunked down a wad for a 1D X MkII. That was about 3 years ago.\\n\\nFor nearly 2 years, I thought this camera's capabilities were unlimited - its designers had covered all the bases, and it left nothing ...More\", \"I'm an enthusiast photographer and have used my 5D IV primarily for wildlife, landscape/flowers, sports for 3 or 4 years but i was itching to upgrade/supplement it with something new and better. I tried the EOS R but really didn't like anything about it so when the 1DXiii got announced i decided to go for it and put my pre-order in as soon as i could. When it finally arrived i was a bit astounded at how small the 5D IV felt in comparison.\\n\\nThe first thing i did after charging the battery was, of course, to check out the high-speed mode and holy smoke. Going from 7fps to 16 or 20fps is incredible. And the AF seems to have improved by leaps and bounds as well. My 85mm 1.2L focuses quicker and more accurately on the 1DXiii, and doesn't hunt around to fine-tune like it does on ...More\", \"Purchased principally for better low light performance and the rare occasion during a wildlife shoot that 16 FPS rather than 7 FPS is genuinely essential rather than just nice. It's perhaps 2 stops better than my 5D Mark IV, but image obtained when pushing beyond ISO 3200 is still noticeably degraded by grain and diminished dynamic range. Cropping will be limited relative to my 5Ds given the lower resolution. On the plus side, the new AF-On smart controller is miraculous. You can select the AF point merely by sliding a finger on it. By assigning the adjacent native AE lock button's function to the second, customizable multi-function button, you can convert the native AE lock button to start back button AF at a second, registered AF point. So, you can swap between two AF ...More\", \"I am a professionally working videographer and photographer. My work is about 60 percent music based and about 40 percent portraiture and model work. Since most of what I get hired to do is video based I needed something that would hold up to my 6K RED Epic Dragon in terms of resolution and speed. As well as be a fast and reliable photo driven camera. Basically the perfect hybrid. I know Canon is now focusing on their R Lenses and cameras but with how much money I have invested in L glass that isn't really an option right now. And to be honest its given new life to all the lenses I already own. Yes, the price IS quite expensive for this camera but since the day it showed up at my door I have loved this thing. The image is superb and video is on par with my expectations. In ...More\", \"Absolutely phenomenal camera for sports, fast action, events, wildlife. Anything you need speed or just want an amazing pro body, this camera delivers. The IQ is phenomenal and the colors, dynamic range, sharpness, clean high ISO is amazing. Main thing it lacks is resolution, so that is a consideration if you print large or if your customer has high IQ requirements. If you don't need the ultimate in high speed, get the R5. It costs a lot less and is better suited for just about everything that doesn't need the latest and greatest AF and speed with more than double the resolution. Other reason you might want the 1Dx III is simply you are not ready to jump ship to mirrorless, in which case this is the best camera Canon makes, if you don't need high resolution. Because you have ...More\", \"At this price level you would expect a camera to be very good and the 1DX Mark III doesn't disappoint. I don't do much video so won't comment on that although from what I've read it is superb in that respect. From a still photography perspective I can note several enhancements over the Mark II. First though, I'll note that much of the control layout, menus, etc. are unchanged so a previous 1DX user will have a very easy learning curve. It also maintains the previous versions rock solid build and quality feel.\\n\\nAlthough the megapixel count is about the same I find the images to look slightly sharper. There also appears to be a bit less noise at higher ISO's. The auto-focus is quicker and more accurate and the continuous shooting is faster.\\n\\nI'm sure many of you are more tech ...More\"]\n",
      "['ebay.com', 'ebay.com', 'bhphotovideo.com', 'bhphotovideo.com', 'bhphotovideo.com', 'bhphotovideo.com', 'bhphotovideo.com', 'bhphotovideo.com', 'ebay.com', 'bhphotovideo.com']\n"
     ]
    }
   ],
   "source": [
    "names = []\n",
    "stars = []\n",
    "titles = []\n",
    "details=[]\n",
    "review_on = []\n",
    "cnt = 0\n",
    "\n",
    "for item in parent:\n",
    "    if cnt>0:\n",
    "        names.append(item.find_element(By.CLASS_NAME, \"q7ToWe\").text)\n",
    "        # stars.append(item.find_element(By.CLASS_NAME, \"yi40Hd YrbPuc\"))\n",
    "        \n",
    "        stars.append(item.find_element(By.CSS_SELECTOR, 'span.yi40Hd').text)    \n",
    "            \n",
    "        titles.append(item.find_element(By.CLASS_NAME,\"KTsGge\").text)\n",
    "        details.append(item.find_element(By.CSS_SELECTOR,\"div.YKsAwb\").text)\n",
    "        \n",
    "        onn = item.find_element(By.CSS_SELECTOR, \"div.MR6qfb\").text\n",
    "        review_on.append(remove_words(onn, \"Reviewed on \"))\n",
    "    \n",
    "    cnt+=1\n",
    "    \n",
    "# print(names)\n",
    "print(names)\n",
    "print(stars)\n",
    "print(titles)\n",
    "print(details)\n",
    "print(review_on)"
   ]
  },
  {
   "cell_type": "code",
   "execution_count": 62,
   "metadata": {},
   "outputs": [],
   "source": [
    "import pandas as pd\n",
    "\n",
    "dict = {'reviews_names_arr': names,\n",
    "        'stars_arr': stars,\n",
    "        'review_titles_arr': titles,\n",
    "        'review_details_arr': details,\n",
    "        'review_on_arr': review_on}\n",
    "\n",
    "df = pd.DataFrame(dict)"
   ]
  },
  {
   "cell_type": "code",
   "execution_count": 63,
   "metadata": {},
   "outputs": [
    {
     "data": {
      "text/html": [
       "<div>\n",
       "<style scoped>\n",
       "    .dataframe tbody tr th:only-of-type {\n",
       "        vertical-align: middle;\n",
       "    }\n",
       "\n",
       "    .dataframe tbody tr th {\n",
       "        vertical-align: top;\n",
       "    }\n",
       "\n",
       "    .dataframe thead th {\n",
       "        text-align: right;\n",
       "    }\n",
       "</style>\n",
       "<table border=\"1\" class=\"dataframe\">\n",
       "  <thead>\n",
       "    <tr style=\"text-align: right;\">\n",
       "      <th></th>\n",
       "      <th>reviews_names_arr</th>\n",
       "      <th>stars_arr</th>\n",
       "      <th>review_titles_arr</th>\n",
       "      <th>review_details_arr</th>\n",
       "      <th>review_on_arr</th>\n",
       "    </tr>\n",
       "  </thead>\n",
       "  <tbody>\n",
       "    <tr>\n",
       "      <th>0</th>\n",
       "      <td>camott12_uk</td>\n",
       "      <td>5</td>\n",
       "      <td>Beautiful image quality and DCI 4k Video, Fast...</td>\n",
       "      <td>I really love my 1D X MKII, the size is great ...</td>\n",
       "      <td>ebay.com</td>\n",
       "    </tr>\n",
       "    <tr>\n",
       "      <th>1</th>\n",
       "      <td>indurain66</td>\n",
       "      <td>5</td>\n",
       "      <td>A true professional machine for those capable ...</td>\n",
       "      <td>This is the ultimate machine for Canon users s...</td>\n",
       "      <td>ebay.com</td>\n",
       "    </tr>\n",
       "    <tr>\n",
       "      <th>2</th>\n",
       "      <td>Raphael</td>\n",
       "      <td>5</td>\n",
       "      <td>Just wow</td>\n",
       "      <td>Since this is being the last flagship camera C...</td>\n",
       "      <td>bhphotovideo.com</td>\n",
       "    </tr>\n",
       "    <tr>\n",
       "      <th>3</th>\n",
       "      <td>Barbara</td>\n",
       "      <td>4</td>\n",
       "      <td>Pretty darned good</td>\n",
       "      <td>I only own one of these, vs. maybe five 1DX Ma...</td>\n",
       "      <td>bhphotovideo.com</td>\n",
       "    </tr>\n",
       "    <tr>\n",
       "      <th>4</th>\n",
       "      <td>James</td>\n",
       "      <td>4</td>\n",
       "      <td>An improvement?- Yes! A breakthrough? Not quite.</td>\n",
       "      <td>I suppose I am one of those with more money th...</td>\n",
       "      <td>bhphotovideo.com</td>\n",
       "    </tr>\n",
       "    <tr>\n",
       "      <th>5</th>\n",
       "      <td>Jon</td>\n",
       "      <td>5</td>\n",
       "      <td>A serious camera for serious photographers</td>\n",
       "      <td>I'm an enthusiast photographer and have used m...</td>\n",
       "      <td>bhphotovideo.com</td>\n",
       "    </tr>\n",
       "    <tr>\n",
       "      <th>6</th>\n",
       "      <td>Arthur</td>\n",
       "      <td>4</td>\n",
       "      <td>Evolutionary Update</td>\n",
       "      <td>Purchased principally for better low light per...</td>\n",
       "      <td>bhphotovideo.com</td>\n",
       "    </tr>\n",
       "    <tr>\n",
       "      <th>7</th>\n",
       "      <td>Cameron</td>\n",
       "      <td>5</td>\n",
       "      <td>Was worried I'd regret it</td>\n",
       "      <td>I am a professionally working videographer and...</td>\n",
       "      <td>bhphotovideo.com</td>\n",
       "    </tr>\n",
       "    <tr>\n",
       "      <th>8</th>\n",
       "      <td>wyatearp123_8</td>\n",
       "      <td>5</td>\n",
       "      <td>Best DSLR from Canon, bar none!</td>\n",
       "      <td>Absolutely phenomenal camera for sports, fast ...</td>\n",
       "      <td>ebay.com</td>\n",
       "    </tr>\n",
       "    <tr>\n",
       "      <th>9</th>\n",
       "      <td>Charles</td>\n",
       "      <td>5</td>\n",
       "      <td>Beautiful camera - great results</td>\n",
       "      <td>At this price level you would expect a camera ...</td>\n",
       "      <td>bhphotovideo.com</td>\n",
       "    </tr>\n",
       "  </tbody>\n",
       "</table>\n",
       "</div>"
      ],
      "text/plain": [
       "  reviews_names_arr stars_arr  \\\n",
       "0       camott12_uk         5   \n",
       "1        indurain66         5   \n",
       "2           Raphael         5   \n",
       "3           Barbara         4   \n",
       "4             James         4   \n",
       "5               Jon         5   \n",
       "6            Arthur         4   \n",
       "7           Cameron         5   \n",
       "8     wyatearp123_8         5   \n",
       "9           Charles         5   \n",
       "\n",
       "                                   review_titles_arr  \\\n",
       "0  Beautiful image quality and DCI 4k Video, Fast...   \n",
       "1  A true professional machine for those capable ...   \n",
       "2                                           Just wow   \n",
       "3                                 Pretty darned good   \n",
       "4   An improvement?- Yes! A breakthrough? Not quite.   \n",
       "5         A serious camera for serious photographers   \n",
       "6                                Evolutionary Update   \n",
       "7                          Was worried I'd regret it   \n",
       "8                    Best DSLR from Canon, bar none!   \n",
       "9                   Beautiful camera - great results   \n",
       "\n",
       "                                  review_details_arr     review_on_arr  \n",
       "0  I really love my 1D X MKII, the size is great ...          ebay.com  \n",
       "1  This is the ultimate machine for Canon users s...          ebay.com  \n",
       "2  Since this is being the last flagship camera C...  bhphotovideo.com  \n",
       "3  I only own one of these, vs. maybe five 1DX Ma...  bhphotovideo.com  \n",
       "4  I suppose I am one of those with more money th...  bhphotovideo.com  \n",
       "5  I'm an enthusiast photographer and have used m...  bhphotovideo.com  \n",
       "6  Purchased principally for better low light per...  bhphotovideo.com  \n",
       "7  I am a professionally working videographer and...  bhphotovideo.com  \n",
       "8  Absolutely phenomenal camera for sports, fast ...          ebay.com  \n",
       "9  At this price level you would expect a camera ...  bhphotovideo.com  "
      ]
     },
     "execution_count": 63,
     "metadata": {},
     "output_type": "execute_result"
    }
   ],
   "source": [
    "df"
   ]
  },
  {
   "cell_type": "code",
   "execution_count": 9,
   "metadata": {},
   "outputs": [],
   "source": [
    "def webEleToArr(WebElements):\n",
    "    arr = []\n",
    "    for i in WebElements:\n",
    "        arr.append(i.text)\n",
    "        # print(i.text)\n",
    "    # print(len(arr))\n",
    "    return arr\n",
    "    "
   ]
  },
  {
   "cell_type": "code",
   "execution_count": 10,
   "metadata": {},
   "outputs": [
    {
     "data": {
      "text/plain": [
       "10"
      ]
     },
     "execution_count": 10,
     "metadata": {},
     "output_type": "execute_result"
    }
   ],
   "source": [
    "import pandas as pd\n",
    "\n",
    "\n",
    "reviews_names_arr = webEleToArr(reviews_names)[1:] #trimming 1st element\n",
    "stars_arr = webEleToArr(stars)[1:]\n",
    "review_titles_arr = webEleToArr(review_titles)[1:]\n",
    "review_details_arr = webEleToArr(review_details)\n",
    "review_on_arr = webEleToArr(review_on)[1:]\n",
    "\n",
    "# review_details_arr = review_details_arr\n",
    "len(reviews_names_arr)\n",
    "len(stars_arr)\n",
    "len(review_titles_arr)\n",
    "len(review_details_arr)\n",
    "len(review_on_arr)"
   ]
  },
  {
   "cell_type": "code",
   "execution_count": 11,
   "metadata": {},
   "outputs": [],
   "source": [
    "import pandas as pd\n",
    "\n",
    "dict = {'reviews_names_arr': reviews_names_arr,\n",
    "        'stars_arr': stars_arr, \n",
    "        'review_titles_arr': review_titles_arr, \n",
    "        'review_details_arr': review_details_arr, \n",
    "        'review_on_arr': review_on_arr}\n",
    "\n",
    "df = pd.DataFrame(dict)"
   ]
  },
  {
   "cell_type": "code",
   "execution_count": 12,
   "metadata": {},
   "outputs": [
    {
     "data": {
      "text/html": [
       "<div>\n",
       "<style scoped>\n",
       "    .dataframe tbody tr th:only-of-type {\n",
       "        vertical-align: middle;\n",
       "    }\n",
       "\n",
       "    .dataframe tbody tr th {\n",
       "        vertical-align: top;\n",
       "    }\n",
       "\n",
       "    .dataframe thead th {\n",
       "        text-align: right;\n",
       "    }\n",
       "</style>\n",
       "<table border=\"1\" class=\"dataframe\">\n",
       "  <thead>\n",
       "    <tr style=\"text-align: right;\">\n",
       "      <th></th>\n",
       "      <th>reviews_names_arr</th>\n",
       "      <th>stars_arr</th>\n",
       "      <th>review_titles_arr</th>\n",
       "      <th>review_details_arr</th>\n",
       "      <th>review_on_arr</th>\n",
       "    </tr>\n",
       "  </thead>\n",
       "  <tbody>\n",
       "    <tr>\n",
       "      <th>0</th>\n",
       "      <td>camott12_uk</td>\n",
       "      <td>5</td>\n",
       "      <td>Beautiful image quality and DCI 4k Video, Fast...</td>\n",
       "      <td>I really love my 1D X MKII, the size is great ...</td>\n",
       "      <td>Reviewed on ebay.com</td>\n",
       "    </tr>\n",
       "    <tr>\n",
       "      <th>1</th>\n",
       "      <td>indurain66</td>\n",
       "      <td>5</td>\n",
       "      <td>A true professional machine for those capable ...</td>\n",
       "      <td></td>\n",
       "      <td>Reviewed on ebay.com</td>\n",
       "    </tr>\n",
       "    <tr>\n",
       "      <th>2</th>\n",
       "      <td>Raphael</td>\n",
       "      <td>5</td>\n",
       "      <td>Just wow</td>\n",
       "      <td></td>\n",
       "      <td>Reviewed on bhphotovideo.com</td>\n",
       "    </tr>\n",
       "    <tr>\n",
       "      <th>3</th>\n",
       "      <td>Barbara</td>\n",
       "      <td>4</td>\n",
       "      <td>Pretty darned good</td>\n",
       "      <td></td>\n",
       "      <td>Reviewed on bhphotovideo.com</td>\n",
       "    </tr>\n",
       "    <tr>\n",
       "      <th>4</th>\n",
       "      <td>James</td>\n",
       "      <td>4</td>\n",
       "      <td>An improvement?- Yes! A breakthrough? Not quite.</td>\n",
       "      <td></td>\n",
       "      <td>Reviewed on bhphotovideo.com</td>\n",
       "    </tr>\n",
       "    <tr>\n",
       "      <th>5</th>\n",
       "      <td>Jon</td>\n",
       "      <td>5</td>\n",
       "      <td>A serious camera for serious photographers</td>\n",
       "      <td></td>\n",
       "      <td>Reviewed on bhphotovideo.com</td>\n",
       "    </tr>\n",
       "    <tr>\n",
       "      <th>6</th>\n",
       "      <td>Arthur</td>\n",
       "      <td>4</td>\n",
       "      <td>Evolutionary Update</td>\n",
       "      <td></td>\n",
       "      <td>Reviewed on bhphotovideo.com</td>\n",
       "    </tr>\n",
       "    <tr>\n",
       "      <th>7</th>\n",
       "      <td>Cameron</td>\n",
       "      <td>5</td>\n",
       "      <td>Was worried I'd regret it</td>\n",
       "      <td></td>\n",
       "      <td>Reviewed on bhphotovideo.com</td>\n",
       "    </tr>\n",
       "    <tr>\n",
       "      <th>8</th>\n",
       "      <td>wyatearp123_8</td>\n",
       "      <td>5</td>\n",
       "      <td>Best DSLR from Canon, bar none!</td>\n",
       "      <td></td>\n",
       "      <td>Reviewed on ebay.com</td>\n",
       "    </tr>\n",
       "    <tr>\n",
       "      <th>9</th>\n",
       "      <td>Charles</td>\n",
       "      <td>5</td>\n",
       "      <td>Beautiful camera - great results</td>\n",
       "      <td></td>\n",
       "      <td>Reviewed on bhphotovideo.com</td>\n",
       "    </tr>\n",
       "  </tbody>\n",
       "</table>\n",
       "</div>"
      ],
      "text/plain": [
       "  reviews_names_arr stars_arr  \\\n",
       "0       camott12_uk         5   \n",
       "1        indurain66         5   \n",
       "2           Raphael         5   \n",
       "3           Barbara         4   \n",
       "4             James         4   \n",
       "5               Jon         5   \n",
       "6            Arthur         4   \n",
       "7           Cameron         5   \n",
       "8     wyatearp123_8         5   \n",
       "9           Charles         5   \n",
       "\n",
       "                                   review_titles_arr  \\\n",
       "0  Beautiful image quality and DCI 4k Video, Fast...   \n",
       "1  A true professional machine for those capable ...   \n",
       "2                                           Just wow   \n",
       "3                                 Pretty darned good   \n",
       "4   An improvement?- Yes! A breakthrough? Not quite.   \n",
       "5         A serious camera for serious photographers   \n",
       "6                                Evolutionary Update   \n",
       "7                          Was worried I'd regret it   \n",
       "8                    Best DSLR from Canon, bar none!   \n",
       "9                   Beautiful camera - great results   \n",
       "\n",
       "                                  review_details_arr  \\\n",
       "0  I really love my 1D X MKII, the size is great ...   \n",
       "1                                                      \n",
       "2                                                      \n",
       "3                                                      \n",
       "4                                                      \n",
       "5                                                      \n",
       "6                                                      \n",
       "7                                                      \n",
       "8                                                      \n",
       "9                                                      \n",
       "\n",
       "                  review_on_arr  \n",
       "0          Reviewed on ebay.com  \n",
       "1          Reviewed on ebay.com  \n",
       "2  Reviewed on bhphotovideo.com  \n",
       "3  Reviewed on bhphotovideo.com  \n",
       "4  Reviewed on bhphotovideo.com  \n",
       "5  Reviewed on bhphotovideo.com  \n",
       "6  Reviewed on bhphotovideo.com  \n",
       "7  Reviewed on bhphotovideo.com  \n",
       "8          Reviewed on ebay.com  \n",
       "9  Reviewed on bhphotovideo.com  "
      ]
     },
     "execution_count": 12,
     "metadata": {},
     "output_type": "execute_result"
    }
   ],
   "source": [
    "df"
   ]
  },
  {
   "cell_type": "code",
   "execution_count": 89,
   "metadata": {},
   "outputs": [],
   "source": [
    "stars = driver.find_elements(By.XPATH, \"//span[@class='yi40Hd YrbPuc']\"\n",
    "    )"
   ]
  },
  {
   "cell_type": "code",
   "execution_count": 90,
   "metadata": {},
   "outputs": [
    {
     "name": "stdout",
     "output_type": "stream",
     "text": [
      "top ten reviews name....\n",
      "\n",
      "\n",
      "\n",
      "\n",
      "5\n",
      "5\n",
      "5\n",
      "4\n",
      "4\n",
      "5\n",
      "4\n",
      "5\n",
      "5\n",
      "5\n"
     ]
    }
   ],
   "source": [
    "print(\"top ten reviews name....\")\n",
    "\n",
    "for i in stars:\n",
    "    print(i.text)"
   ]
  },
  {
   "cell_type": "code",
   "execution_count": 91,
   "metadata": {},
   "outputs": [
    {
     "name": "stdout",
     "output_type": "stream",
     "text": [
      "top ten reviews name....\n",
      "\n",
      "camott12_uk\n",
      "indurain66\n",
      "Raphael\n",
      "Barbara\n",
      "James\n",
      "Jon\n",
      "Arthur\n",
      "Cameron\n",
      "wyatearp123_8\n",
      "Charles\n"
     ]
    }
   ],
   "source": [
    "print(\"top ten reviews name....\")\n",
    "\n",
    "for i in reviews_names:\n",
    "    print(i.text)"
   ]
  },
  {
   "cell_type": "code",
   "execution_count": 92,
   "metadata": {},
   "outputs": [
    {
     "name": "stdout",
     "output_type": "stream",
     "text": [
      "top ten review titles\n"
     ]
    },
    {
     "name": "stdout",
     "output_type": "stream",
     "text": [
      "\n",
      "Beautiful image quality and DCI 4k Video, Fast auto focus, the Swiss knife of Canon! a beast of a camera!\n",
      "A true professional machine for those capable of handling such a beast and have a soft spot for photography history\n",
      "Just wow\n",
      "Pretty darned good\n",
      "An improvement?- Yes! A breakthrough? Not quite.\n",
      "A serious camera for serious photographers\n",
      "Evolutionary Update\n",
      "Was worried I'd regret it\n",
      "Best DSLR from Canon, bar none!\n",
      "Beautiful camera - great results\n"
     ]
    }
   ],
   "source": [
    "# span tag \"_t6SKZfiPLNnH4-EP9vi-iA4_3-title\"\n",
    "print (\"top ten review titles\")\n",
    "# for ind in range(1,11):\n",
    "xp = \"//div[@class='KTsGge']//span[@class='KTsGge']\"\n",
    "# xp = xp.format(ind=ind)\n",
    "re = driver.find_elements(By.XPATH, xp)\n",
    "for i in re:\n",
    "    print(i.text)    \n",
    "    "
   ]
  },
  {
   "cell_type": "code",
   "execution_count": 74,
   "metadata": {},
   "outputs": [
    {
     "name": "stdout",
     "output_type": "stream",
     "text": [
      "review details....\n"
     ]
    }
   ],
   "source": [
    "\n",
    "# # click more reviews.........\n",
    "# print(\"review details....\")\n",
    "# reviewmore_btn = driver.find_element(By.XPATH, \"//*[@id='gsr']/div[13]/div/div[2]/div/div[3]/div[2]/button/span[2]\")\n",
    "# driver.implicitly_wait(20)\n",
    "# reviewmore_btn.click()"
   ]
  },
  {
   "cell_type": "code",
   "execution_count": 15,
   "metadata": {},
   "outputs": [
    {
     "name": "stdout",
     "output_type": "stream",
     "text": [
      "10\n",
      "I really love my 1D X MKII, the size is great for getting stable handheld shots and so is the touch screen with autofocus. The DCI 4K video is smooth and finally 4K in a DSLR! Cheaper than the RED camera system especially when it comes to accessories. One really nice feature is that you can shoot up to 120 fps in 1080, giving really cool slow-mo with no crop. It uses CFast for 4Kthe cards are not cheap but then you can shoot up to 60 fps in UHD 4K. For stillsthe speed of the camera is unbelievable, great for sports with face detection focus, it is also weather resistant providing resistance against water and dust getting into it when you shoot outdoors. A beast of a camera.\n",
      "\n",
      "\n",
      "\n",
      "\n",
      "\n",
      "\n",
      "\n",
      "\n",
      "\n"
     ]
    }
   ],
   "source": [
    "# xp = \"//div[@class='YKsAwb Kq2q2c']\"\n",
    "# xp = xp.format(ind=ind)\n",
    "# review_details = driver.find_elements(By.XPATH, xp)\n",
    "# for i in review_details:\n",
    "#     print(i.text) \n",
    "    \n",
    "# xp = \"//div[@class='YKsAwb Kq2q2c'][ends-with(@id='-full')]\"\n",
    "\n",
    "# /html/body/div[13]/div/div[2]/div/div[3]/div[2]/div[1]/div/div[8]/div[1]/div[3]/div[2]\n",
    "# //*[@id=\"_wsKKZa7FI4qI4-EP5u2p8Ao_8-full\"]/text()\n",
    "\n",
    "# xp = '//div[@class=\"YKsAwb Kq2q2c\"][@style, \"display:none\"]'\n",
    "\n",
    "# xp = '//div[@class=\"YKsAwb Kq2q2c\" and starts-with(@id, \"_wsKKZa7FI4qI4\")]'\n",
    "xp = '//div[@class=\"YKsAwb Kq2q2c\" and substring(@id, string-length(@id) - string-length(\"-full\") + 1) = \"-full\"]'\n",
    "\n",
    "# //*[@id=\"_2LiKZZDqAtCVg8UPmo2o-AI_9-short\"]\n",
    "# //*[@id=\"_2LiKZZDqAtCVg8UPmo2o-AI_6-short\"]\n",
    "# //*[@id=\"_2LiKZZDqAtCVg8UPmo2o-AI_6-full\"]\n",
    "review_details = driver.find_elements(By.XPATH, xp)\n",
    "\n",
    "print(len(review_details))\n",
    "# review_details = driver.find_elements(By.XPATH, xp)\n",
    "for i in review_details:\n",
    "    print(i.text)"
   ]
  },
  {
   "cell_type": "code",
   "execution_count": 20,
   "metadata": {},
   "outputs": [
    {
     "name": "stdout",
     "output_type": "stream",
     "text": [
      "\n",
      "ebay.com\n",
      "ebay.com\n",
      "bhphotovideo.com\n",
      "bhphotovideo.com\n",
      "bhphotovideo.com\n",
      "bhphotovideo.com\n",
      "bhphotovideo.com\n",
      "bhphotovideo.com\n",
      "ebay.com\n",
      "bhphotovideo.com\n",
      "bhphotovideo.com\n",
      "bhphotovideo.com\n",
      "bhphotovideo.com\n",
      "bhphotovideo.com\n",
      "bhphotovideo.com\n",
      "bhphotovideo.com\n",
      "bhphotovideo.com\n",
      "bhphotovideo.com\n",
      "bhphotovideo.com\n",
      "bhphotovideo.com\n"
     ]
    }
   ],
   "source": [
    "import re\n",
    "xp = \"//div[@class='MR6qfb']\"\n",
    "review_on = driver.find_elements(By.XPATH, xp)\n",
    "\n",
    "\n",
    "def remove_words(input_string, word_to_replace):\n",
    "    pattern = re.compile(\n",
    "        r'\\b' + re.escape(word_to_replace) + r'\\b', re.IGNORECASE)\n",
    "    modified_string = pattern.sub(\"\", input_string)\n",
    "    return modified_string\n",
    "\n",
    "# modified_string = remove_words(original_string, \"Reviewed on \")\n",
    "\n",
    "for i in review_on:\n",
    "    # print(i.text)\n",
    "    print(remove_words(i.text, \"Reviewed on \"))"
   ]
  },
  {
   "cell_type": "code",
   "execution_count": null,
   "metadata": {},
   "outputs": [
    {
     "ename": "KeyboardInterrupt",
     "evalue": "",
     "output_type": "error",
     "traceback": [
      "\u001b[1;31m---------------------------------------------------------------------------\u001b[0m",
      "\u001b[1;31mKeyboardInterrupt\u001b[0m                         Traceback (most recent call last)",
      "\u001b[1;32m~\\AppData\\Local\\Temp\\ipykernel_17628\\3463309180.py\u001b[0m in \u001b[0;36m<module>\u001b[1;34m\u001b[0m\n\u001b[0;32m      5\u001b[0m     \u001b[0mxp\u001b[0m \u001b[1;33m=\u001b[0m \u001b[1;34m\"//*[@id='_k56KZcfmIKvb4-EP1YmzuAo_142']/div[2]/div[{ind}]/div[1]/div[1]/span/div\"\u001b[0m\u001b[1;33m\u001b[0m\u001b[1;33m\u001b[0m\u001b[0m\n\u001b[0;32m      6\u001b[0m     \u001b[0mxp\u001b[0m \u001b[1;33m=\u001b[0m \u001b[0mxp\u001b[0m\u001b[1;33m.\u001b[0m\u001b[0mformat\u001b[0m\u001b[1;33m(\u001b[0m\u001b[0mind\u001b[0m\u001b[1;33m=\u001b[0m\u001b[0mind\u001b[0m\u001b[1;33m)\u001b[0m\u001b[1;33m\u001b[0m\u001b[1;33m\u001b[0m\u001b[0m\n\u001b[1;32m----> 7\u001b[1;33m     i = driver.find_elements(\n\u001b[0m\u001b[0;32m      8\u001b[0m         By.XPATH, xp)\n\u001b[0;32m      9\u001b[0m     \u001b[0mprint\u001b[0m\u001b[1;33m(\u001b[0m\u001b[0mi\u001b[0m\u001b[1;33m[\u001b[0m\u001b[1;36m0\u001b[0m\u001b[1;33m]\u001b[0m\u001b[1;33m.\u001b[0m\u001b[0mtext\u001b[0m\u001b[1;33m)\u001b[0m\u001b[1;33m\u001b[0m\u001b[1;33m\u001b[0m\u001b[0m\n",
      "\u001b[1;32mf:\\anaconda3\\lib\\site-packages\\selenium\\webdriver\\remote\\webdriver.py\u001b[0m in \u001b[0;36mfind_elements\u001b[1;34m(self, by, value)\u001b[0m\n\u001b[0;32m    770\u001b[0m         \u001b[1;31m# Return empty list if driver returns null\u001b[0m\u001b[1;33m\u001b[0m\u001b[1;33m\u001b[0m\u001b[0m\n\u001b[0;32m    771\u001b[0m         \u001b[1;31m# See https://github.com/SeleniumHQ/selenium/issues/4555\u001b[0m\u001b[1;33m\u001b[0m\u001b[1;33m\u001b[0m\u001b[0m\n\u001b[1;32m--> 772\u001b[1;33m         \u001b[1;32mreturn\u001b[0m \u001b[0mself\u001b[0m\u001b[1;33m.\u001b[0m\u001b[0mexecute\u001b[0m\u001b[1;33m(\u001b[0m\u001b[0mCommand\u001b[0m\u001b[1;33m.\u001b[0m\u001b[0mFIND_ELEMENTS\u001b[0m\u001b[1;33m,\u001b[0m \u001b[1;33m{\u001b[0m\u001b[1;34m\"using\"\u001b[0m\u001b[1;33m:\u001b[0m \u001b[0mby\u001b[0m\u001b[1;33m,\u001b[0m \u001b[1;34m\"value\"\u001b[0m\u001b[1;33m:\u001b[0m \u001b[0mvalue\u001b[0m\u001b[1;33m}\u001b[0m\u001b[1;33m)\u001b[0m\u001b[1;33m[\u001b[0m\u001b[1;34m\"value\"\u001b[0m\u001b[1;33m]\u001b[0m \u001b[1;32mor\u001b[0m \u001b[1;33m[\u001b[0m\u001b[1;33m]\u001b[0m\u001b[1;33m\u001b[0m\u001b[1;33m\u001b[0m\u001b[0m\n\u001b[0m\u001b[0;32m    773\u001b[0m \u001b[1;33m\u001b[0m\u001b[0m\n\u001b[0;32m    774\u001b[0m     \u001b[1;33m@\u001b[0m\u001b[0mproperty\u001b[0m\u001b[1;33m\u001b[0m\u001b[1;33m\u001b[0m\u001b[0m\n",
      "\u001b[1;32mf:\\anaconda3\\lib\\site-packages\\selenium\\webdriver\\remote\\webdriver.py\u001b[0m in \u001b[0;36mexecute\u001b[1;34m(self, driver_command, params)\u001b[0m\n\u001b[0;32m    344\u001b[0m                 \u001b[0mparams\u001b[0m\u001b[1;33m[\u001b[0m\u001b[1;34m\"sessionId\"\u001b[0m\u001b[1;33m]\u001b[0m \u001b[1;33m=\u001b[0m \u001b[0mself\u001b[0m\u001b[1;33m.\u001b[0m\u001b[0msession_id\u001b[0m\u001b[1;33m\u001b[0m\u001b[1;33m\u001b[0m\u001b[0m\n\u001b[0;32m    345\u001b[0m \u001b[1;33m\u001b[0m\u001b[0m\n\u001b[1;32m--> 346\u001b[1;33m         \u001b[0mresponse\u001b[0m \u001b[1;33m=\u001b[0m \u001b[0mself\u001b[0m\u001b[1;33m.\u001b[0m\u001b[0mcommand_executor\u001b[0m\u001b[1;33m.\u001b[0m\u001b[0mexecute\u001b[0m\u001b[1;33m(\u001b[0m\u001b[0mdriver_command\u001b[0m\u001b[1;33m,\u001b[0m \u001b[0mparams\u001b[0m\u001b[1;33m)\u001b[0m\u001b[1;33m\u001b[0m\u001b[1;33m\u001b[0m\u001b[0m\n\u001b[0m\u001b[0;32m    347\u001b[0m         \u001b[1;32mif\u001b[0m \u001b[0mresponse\u001b[0m\u001b[1;33m:\u001b[0m\u001b[1;33m\u001b[0m\u001b[1;33m\u001b[0m\u001b[0m\n\u001b[0;32m    348\u001b[0m             \u001b[0mself\u001b[0m\u001b[1;33m.\u001b[0m\u001b[0merror_handler\u001b[0m\u001b[1;33m.\u001b[0m\u001b[0mcheck_response\u001b[0m\u001b[1;33m(\u001b[0m\u001b[0mresponse\u001b[0m\u001b[1;33m)\u001b[0m\u001b[1;33m\u001b[0m\u001b[1;33m\u001b[0m\u001b[0m\n",
      "\u001b[1;32mf:\\anaconda3\\lib\\site-packages\\selenium\\webdriver\\remote\\remote_connection.py\u001b[0m in \u001b[0;36mexecute\u001b[1;34m(self, command, params)\u001b[0m\n\u001b[0;32m    298\u001b[0m         \u001b[0mdata\u001b[0m \u001b[1;33m=\u001b[0m \u001b[0mutils\u001b[0m\u001b[1;33m.\u001b[0m\u001b[0mdump_json\u001b[0m\u001b[1;33m(\u001b[0m\u001b[0mparams\u001b[0m\u001b[1;33m)\u001b[0m\u001b[1;33m\u001b[0m\u001b[1;33m\u001b[0m\u001b[0m\n\u001b[0;32m    299\u001b[0m         \u001b[0murl\u001b[0m \u001b[1;33m=\u001b[0m \u001b[1;34mf\"{self._url}{path}\"\u001b[0m\u001b[1;33m\u001b[0m\u001b[1;33m\u001b[0m\u001b[0m\n\u001b[1;32m--> 300\u001b[1;33m         \u001b[1;32mreturn\u001b[0m \u001b[0mself\u001b[0m\u001b[1;33m.\u001b[0m\u001b[0m_request\u001b[0m\u001b[1;33m(\u001b[0m\u001b[0mcommand_info\u001b[0m\u001b[1;33m[\u001b[0m\u001b[1;36m0\u001b[0m\u001b[1;33m]\u001b[0m\u001b[1;33m,\u001b[0m \u001b[0murl\u001b[0m\u001b[1;33m,\u001b[0m \u001b[0mbody\u001b[0m\u001b[1;33m=\u001b[0m\u001b[0mdata\u001b[0m\u001b[1;33m)\u001b[0m\u001b[1;33m\u001b[0m\u001b[1;33m\u001b[0m\u001b[0m\n\u001b[0m\u001b[0;32m    301\u001b[0m \u001b[1;33m\u001b[0m\u001b[0m\n\u001b[0;32m    302\u001b[0m     \u001b[1;32mdef\u001b[0m \u001b[0m_request\u001b[0m\u001b[1;33m(\u001b[0m\u001b[0mself\u001b[0m\u001b[1;33m,\u001b[0m \u001b[0mmethod\u001b[0m\u001b[1;33m,\u001b[0m \u001b[0murl\u001b[0m\u001b[1;33m,\u001b[0m \u001b[0mbody\u001b[0m\u001b[1;33m=\u001b[0m\u001b[1;32mNone\u001b[0m\u001b[1;33m)\u001b[0m\u001b[1;33m:\u001b[0m\u001b[1;33m\u001b[0m\u001b[1;33m\u001b[0m\u001b[0m\n",
      "\u001b[1;32mf:\\anaconda3\\lib\\site-packages\\selenium\\webdriver\\remote\\remote_connection.py\u001b[0m in \u001b[0;36m_request\u001b[1;34m(self, method, url, body)\u001b[0m\n\u001b[0;32m    319\u001b[0m \u001b[1;33m\u001b[0m\u001b[0m\n\u001b[0;32m    320\u001b[0m         \u001b[1;32mif\u001b[0m \u001b[0mself\u001b[0m\u001b[1;33m.\u001b[0m\u001b[0mkeep_alive\u001b[0m\u001b[1;33m:\u001b[0m\u001b[1;33m\u001b[0m\u001b[1;33m\u001b[0m\u001b[0m\n\u001b[1;32m--> 321\u001b[1;33m             \u001b[0mresponse\u001b[0m \u001b[1;33m=\u001b[0m \u001b[0mself\u001b[0m\u001b[1;33m.\u001b[0m\u001b[0m_conn\u001b[0m\u001b[1;33m.\u001b[0m\u001b[0mrequest\u001b[0m\u001b[1;33m(\u001b[0m\u001b[0mmethod\u001b[0m\u001b[1;33m,\u001b[0m \u001b[0murl\u001b[0m\u001b[1;33m,\u001b[0m \u001b[0mbody\u001b[0m\u001b[1;33m=\u001b[0m\u001b[0mbody\u001b[0m\u001b[1;33m,\u001b[0m \u001b[0mheaders\u001b[0m\u001b[1;33m=\u001b[0m\u001b[0mheaders\u001b[0m\u001b[1;33m)\u001b[0m\u001b[1;33m\u001b[0m\u001b[1;33m\u001b[0m\u001b[0m\n\u001b[0m\u001b[0;32m    322\u001b[0m             \u001b[0mstatuscode\u001b[0m \u001b[1;33m=\u001b[0m \u001b[0mresponse\u001b[0m\u001b[1;33m.\u001b[0m\u001b[0mstatus\u001b[0m\u001b[1;33m\u001b[0m\u001b[1;33m\u001b[0m\u001b[0m\n\u001b[0;32m    323\u001b[0m         \u001b[1;32melse\u001b[0m\u001b[1;33m:\u001b[0m\u001b[1;33m\u001b[0m\u001b[1;33m\u001b[0m\u001b[0m\n",
      "\u001b[1;32mf:\\anaconda3\\lib\\site-packages\\urllib3\\request.py\u001b[0m in \u001b[0;36mrequest\u001b[1;34m(self, method, url, fields, headers, **urlopen_kw)\u001b[0m\n\u001b[0;32m     76\u001b[0m             )\n\u001b[0;32m     77\u001b[0m         \u001b[1;32melse\u001b[0m\u001b[1;33m:\u001b[0m\u001b[1;33m\u001b[0m\u001b[1;33m\u001b[0m\u001b[0m\n\u001b[1;32m---> 78\u001b[1;33m             return self.request_encode_body(\n\u001b[0m\u001b[0;32m     79\u001b[0m                 \u001b[0mmethod\u001b[0m\u001b[1;33m,\u001b[0m \u001b[0murl\u001b[0m\u001b[1;33m,\u001b[0m \u001b[0mfields\u001b[0m\u001b[1;33m=\u001b[0m\u001b[0mfields\u001b[0m\u001b[1;33m,\u001b[0m \u001b[0mheaders\u001b[0m\u001b[1;33m=\u001b[0m\u001b[0mheaders\u001b[0m\u001b[1;33m,\u001b[0m \u001b[1;33m**\u001b[0m\u001b[0murlopen_kw\u001b[0m\u001b[1;33m\u001b[0m\u001b[1;33m\u001b[0m\u001b[0m\n\u001b[0;32m     80\u001b[0m             )\n",
      "\u001b[1;32mf:\\anaconda3\\lib\\site-packages\\urllib3\\request.py\u001b[0m in \u001b[0;36mrequest_encode_body\u001b[1;34m(self, method, url, fields, headers, encode_multipart, multipart_boundary, **urlopen_kw)\u001b[0m\n\u001b[0;32m    168\u001b[0m         \u001b[0mextra_kw\u001b[0m\u001b[1;33m.\u001b[0m\u001b[0mupdate\u001b[0m\u001b[1;33m(\u001b[0m\u001b[0murlopen_kw\u001b[0m\u001b[1;33m)\u001b[0m\u001b[1;33m\u001b[0m\u001b[1;33m\u001b[0m\u001b[0m\n\u001b[0;32m    169\u001b[0m \u001b[1;33m\u001b[0m\u001b[0m\n\u001b[1;32m--> 170\u001b[1;33m         \u001b[1;32mreturn\u001b[0m \u001b[0mself\u001b[0m\u001b[1;33m.\u001b[0m\u001b[0murlopen\u001b[0m\u001b[1;33m(\u001b[0m\u001b[0mmethod\u001b[0m\u001b[1;33m,\u001b[0m \u001b[0murl\u001b[0m\u001b[1;33m,\u001b[0m \u001b[1;33m**\u001b[0m\u001b[0mextra_kw\u001b[0m\u001b[1;33m)\u001b[0m\u001b[1;33m\u001b[0m\u001b[1;33m\u001b[0m\u001b[0m\n\u001b[0m",
      "\u001b[1;32mf:\\anaconda3\\lib\\site-packages\\urllib3\\poolmanager.py\u001b[0m in \u001b[0;36murlopen\u001b[1;34m(self, method, url, redirect, **kw)\u001b[0m\n\u001b[0;32m    374\u001b[0m             \u001b[0mresponse\u001b[0m \u001b[1;33m=\u001b[0m \u001b[0mconn\u001b[0m\u001b[1;33m.\u001b[0m\u001b[0murlopen\u001b[0m\u001b[1;33m(\u001b[0m\u001b[0mmethod\u001b[0m\u001b[1;33m,\u001b[0m \u001b[0murl\u001b[0m\u001b[1;33m,\u001b[0m \u001b[1;33m**\u001b[0m\u001b[0mkw\u001b[0m\u001b[1;33m)\u001b[0m\u001b[1;33m\u001b[0m\u001b[1;33m\u001b[0m\u001b[0m\n\u001b[0;32m    375\u001b[0m         \u001b[1;32melse\u001b[0m\u001b[1;33m:\u001b[0m\u001b[1;33m\u001b[0m\u001b[1;33m\u001b[0m\u001b[0m\n\u001b[1;32m--> 376\u001b[1;33m             \u001b[0mresponse\u001b[0m \u001b[1;33m=\u001b[0m \u001b[0mconn\u001b[0m\u001b[1;33m.\u001b[0m\u001b[0murlopen\u001b[0m\u001b[1;33m(\u001b[0m\u001b[0mmethod\u001b[0m\u001b[1;33m,\u001b[0m \u001b[0mu\u001b[0m\u001b[1;33m.\u001b[0m\u001b[0mrequest_uri\u001b[0m\u001b[1;33m,\u001b[0m \u001b[1;33m**\u001b[0m\u001b[0mkw\u001b[0m\u001b[1;33m)\u001b[0m\u001b[1;33m\u001b[0m\u001b[1;33m\u001b[0m\u001b[0m\n\u001b[0m\u001b[0;32m    377\u001b[0m \u001b[1;33m\u001b[0m\u001b[0m\n\u001b[0;32m    378\u001b[0m         \u001b[0mredirect_location\u001b[0m \u001b[1;33m=\u001b[0m \u001b[0mredirect\u001b[0m \u001b[1;32mand\u001b[0m \u001b[0mresponse\u001b[0m\u001b[1;33m.\u001b[0m\u001b[0mget_redirect_location\u001b[0m\u001b[1;33m(\u001b[0m\u001b[1;33m)\u001b[0m\u001b[1;33m\u001b[0m\u001b[1;33m\u001b[0m\u001b[0m\n",
      "\u001b[1;32mf:\\anaconda3\\lib\\site-packages\\urllib3\\connectionpool.py\u001b[0m in \u001b[0;36murlopen\u001b[1;34m(self, method, url, body, headers, retries, redirect, assert_same_host, timeout, pool_timeout, release_conn, chunked, body_pos, **response_kw)\u001b[0m\n\u001b[0;32m    701\u001b[0m \u001b[1;33m\u001b[0m\u001b[0m\n\u001b[0;32m    702\u001b[0m             \u001b[1;31m# Make the request on the httplib connection object.\u001b[0m\u001b[1;33m\u001b[0m\u001b[1;33m\u001b[0m\u001b[0m\n\u001b[1;32m--> 703\u001b[1;33m             httplib_response = self._make_request(\n\u001b[0m\u001b[0;32m    704\u001b[0m                 \u001b[0mconn\u001b[0m\u001b[1;33m,\u001b[0m\u001b[1;33m\u001b[0m\u001b[1;33m\u001b[0m\u001b[0m\n\u001b[0;32m    705\u001b[0m                 \u001b[0mmethod\u001b[0m\u001b[1;33m,\u001b[0m\u001b[1;33m\u001b[0m\u001b[1;33m\u001b[0m\u001b[0m\n",
      "\u001b[1;32mf:\\anaconda3\\lib\\site-packages\\urllib3\\connectionpool.py\u001b[0m in \u001b[0;36m_make_request\u001b[1;34m(self, conn, method, url, timeout, chunked, **httplib_request_kw)\u001b[0m\n\u001b[0;32m    447\u001b[0m                     \u001b[1;31m# Python 3 (including for exceptions like SystemExit).\u001b[0m\u001b[1;33m\u001b[0m\u001b[1;33m\u001b[0m\u001b[0m\n\u001b[0;32m    448\u001b[0m                     \u001b[1;31m# Otherwise it looks like a bug in the code.\u001b[0m\u001b[1;33m\u001b[0m\u001b[1;33m\u001b[0m\u001b[0m\n\u001b[1;32m--> 449\u001b[1;33m                     \u001b[0msix\u001b[0m\u001b[1;33m.\u001b[0m\u001b[0mraise_from\u001b[0m\u001b[1;33m(\u001b[0m\u001b[0me\u001b[0m\u001b[1;33m,\u001b[0m \u001b[1;32mNone\u001b[0m\u001b[1;33m)\u001b[0m\u001b[1;33m\u001b[0m\u001b[1;33m\u001b[0m\u001b[0m\n\u001b[0m\u001b[0;32m    450\u001b[0m         \u001b[1;32mexcept\u001b[0m \u001b[1;33m(\u001b[0m\u001b[0mSocketTimeout\u001b[0m\u001b[1;33m,\u001b[0m \u001b[0mBaseSSLError\u001b[0m\u001b[1;33m,\u001b[0m \u001b[0mSocketError\u001b[0m\u001b[1;33m)\u001b[0m \u001b[1;32mas\u001b[0m \u001b[0me\u001b[0m\u001b[1;33m:\u001b[0m\u001b[1;33m\u001b[0m\u001b[1;33m\u001b[0m\u001b[0m\n\u001b[0;32m    451\u001b[0m             \u001b[0mself\u001b[0m\u001b[1;33m.\u001b[0m\u001b[0m_raise_timeout\u001b[0m\u001b[1;33m(\u001b[0m\u001b[0merr\u001b[0m\u001b[1;33m=\u001b[0m\u001b[0me\u001b[0m\u001b[1;33m,\u001b[0m \u001b[0murl\u001b[0m\u001b[1;33m=\u001b[0m\u001b[0murl\u001b[0m\u001b[1;33m,\u001b[0m \u001b[0mtimeout_value\u001b[0m\u001b[1;33m=\u001b[0m\u001b[0mread_timeout\u001b[0m\u001b[1;33m)\u001b[0m\u001b[1;33m\u001b[0m\u001b[1;33m\u001b[0m\u001b[0m\n",
      "\u001b[1;32mf:\\anaconda3\\lib\\site-packages\\urllib3\\packages\\six.py\u001b[0m in \u001b[0;36mraise_from\u001b[1;34m(value, from_value)\u001b[0m\n",
      "\u001b[1;32mf:\\anaconda3\\lib\\site-packages\\urllib3\\connectionpool.py\u001b[0m in \u001b[0;36m_make_request\u001b[1;34m(self, conn, method, url, timeout, chunked, **httplib_request_kw)\u001b[0m\n\u001b[0;32m    442\u001b[0m                 \u001b[1;31m# Python 3\u001b[0m\u001b[1;33m\u001b[0m\u001b[1;33m\u001b[0m\u001b[0m\n\u001b[0;32m    443\u001b[0m                 \u001b[1;32mtry\u001b[0m\u001b[1;33m:\u001b[0m\u001b[1;33m\u001b[0m\u001b[1;33m\u001b[0m\u001b[0m\n\u001b[1;32m--> 444\u001b[1;33m                     \u001b[0mhttplib_response\u001b[0m \u001b[1;33m=\u001b[0m \u001b[0mconn\u001b[0m\u001b[1;33m.\u001b[0m\u001b[0mgetresponse\u001b[0m\u001b[1;33m(\u001b[0m\u001b[1;33m)\u001b[0m\u001b[1;33m\u001b[0m\u001b[1;33m\u001b[0m\u001b[0m\n\u001b[0m\u001b[0;32m    445\u001b[0m                 \u001b[1;32mexcept\u001b[0m \u001b[0mBaseException\u001b[0m \u001b[1;32mas\u001b[0m \u001b[0me\u001b[0m\u001b[1;33m:\u001b[0m\u001b[1;33m\u001b[0m\u001b[1;33m\u001b[0m\u001b[0m\n\u001b[0;32m    446\u001b[0m                     \u001b[1;31m# Remove the TypeError from the exception chain in\u001b[0m\u001b[1;33m\u001b[0m\u001b[1;33m\u001b[0m\u001b[0m\n",
      "\u001b[1;32mf:\\anaconda3\\lib\\http\\client.py\u001b[0m in \u001b[0;36mgetresponse\u001b[1;34m(self)\u001b[0m\n\u001b[0;32m   1375\u001b[0m         \u001b[1;32mtry\u001b[0m\u001b[1;33m:\u001b[0m\u001b[1;33m\u001b[0m\u001b[1;33m\u001b[0m\u001b[0m\n\u001b[0;32m   1376\u001b[0m             \u001b[1;32mtry\u001b[0m\u001b[1;33m:\u001b[0m\u001b[1;33m\u001b[0m\u001b[1;33m\u001b[0m\u001b[0m\n\u001b[1;32m-> 1377\u001b[1;33m                 \u001b[0mresponse\u001b[0m\u001b[1;33m.\u001b[0m\u001b[0mbegin\u001b[0m\u001b[1;33m(\u001b[0m\u001b[1;33m)\u001b[0m\u001b[1;33m\u001b[0m\u001b[1;33m\u001b[0m\u001b[0m\n\u001b[0m\u001b[0;32m   1378\u001b[0m             \u001b[1;32mexcept\u001b[0m \u001b[0mConnectionError\u001b[0m\u001b[1;33m:\u001b[0m\u001b[1;33m\u001b[0m\u001b[1;33m\u001b[0m\u001b[0m\n\u001b[0;32m   1379\u001b[0m                 \u001b[0mself\u001b[0m\u001b[1;33m.\u001b[0m\u001b[0mclose\u001b[0m\u001b[1;33m(\u001b[0m\u001b[1;33m)\u001b[0m\u001b[1;33m\u001b[0m\u001b[1;33m\u001b[0m\u001b[0m\n",
      "\u001b[1;32mf:\\anaconda3\\lib\\http\\client.py\u001b[0m in \u001b[0;36mbegin\u001b[1;34m(self)\u001b[0m\n\u001b[0;32m    318\u001b[0m         \u001b[1;31m# read until we get a non-100 response\u001b[0m\u001b[1;33m\u001b[0m\u001b[1;33m\u001b[0m\u001b[0m\n\u001b[0;32m    319\u001b[0m         \u001b[1;32mwhile\u001b[0m \u001b[1;32mTrue\u001b[0m\u001b[1;33m:\u001b[0m\u001b[1;33m\u001b[0m\u001b[1;33m\u001b[0m\u001b[0m\n\u001b[1;32m--> 320\u001b[1;33m             \u001b[0mversion\u001b[0m\u001b[1;33m,\u001b[0m \u001b[0mstatus\u001b[0m\u001b[1;33m,\u001b[0m \u001b[0mreason\u001b[0m \u001b[1;33m=\u001b[0m \u001b[0mself\u001b[0m\u001b[1;33m.\u001b[0m\u001b[0m_read_status\u001b[0m\u001b[1;33m(\u001b[0m\u001b[1;33m)\u001b[0m\u001b[1;33m\u001b[0m\u001b[1;33m\u001b[0m\u001b[0m\n\u001b[0m\u001b[0;32m    321\u001b[0m             \u001b[1;32mif\u001b[0m \u001b[0mstatus\u001b[0m \u001b[1;33m!=\u001b[0m \u001b[0mCONTINUE\u001b[0m\u001b[1;33m:\u001b[0m\u001b[1;33m\u001b[0m\u001b[1;33m\u001b[0m\u001b[0m\n\u001b[0;32m    322\u001b[0m                 \u001b[1;32mbreak\u001b[0m\u001b[1;33m\u001b[0m\u001b[1;33m\u001b[0m\u001b[0m\n",
      "\u001b[1;32mf:\\anaconda3\\lib\\http\\client.py\u001b[0m in \u001b[0;36m_read_status\u001b[1;34m(self)\u001b[0m\n\u001b[0;32m    279\u001b[0m \u001b[1;33m\u001b[0m\u001b[0m\n\u001b[0;32m    280\u001b[0m     \u001b[1;32mdef\u001b[0m \u001b[0m_read_status\u001b[0m\u001b[1;33m(\u001b[0m\u001b[0mself\u001b[0m\u001b[1;33m)\u001b[0m\u001b[1;33m:\u001b[0m\u001b[1;33m\u001b[0m\u001b[1;33m\u001b[0m\u001b[0m\n\u001b[1;32m--> 281\u001b[1;33m         \u001b[0mline\u001b[0m \u001b[1;33m=\u001b[0m \u001b[0mstr\u001b[0m\u001b[1;33m(\u001b[0m\u001b[0mself\u001b[0m\u001b[1;33m.\u001b[0m\u001b[0mfp\u001b[0m\u001b[1;33m.\u001b[0m\u001b[0mreadline\u001b[0m\u001b[1;33m(\u001b[0m\u001b[0m_MAXLINE\u001b[0m \u001b[1;33m+\u001b[0m \u001b[1;36m1\u001b[0m\u001b[1;33m)\u001b[0m\u001b[1;33m,\u001b[0m \u001b[1;34m\"iso-8859-1\"\u001b[0m\u001b[1;33m)\u001b[0m\u001b[1;33m\u001b[0m\u001b[1;33m\u001b[0m\u001b[0m\n\u001b[0m\u001b[0;32m    282\u001b[0m         \u001b[1;32mif\u001b[0m \u001b[0mlen\u001b[0m\u001b[1;33m(\u001b[0m\u001b[0mline\u001b[0m\u001b[1;33m)\u001b[0m \u001b[1;33m>\u001b[0m \u001b[0m_MAXLINE\u001b[0m\u001b[1;33m:\u001b[0m\u001b[1;33m\u001b[0m\u001b[1;33m\u001b[0m\u001b[0m\n\u001b[0;32m    283\u001b[0m             \u001b[1;32mraise\u001b[0m \u001b[0mLineTooLong\u001b[0m\u001b[1;33m(\u001b[0m\u001b[1;34m\"status line\"\u001b[0m\u001b[1;33m)\u001b[0m\u001b[1;33m\u001b[0m\u001b[1;33m\u001b[0m\u001b[0m\n",
      "\u001b[1;32mf:\\anaconda3\\lib\\socket.py\u001b[0m in \u001b[0;36mreadinto\u001b[1;34m(self, b)\u001b[0m\n\u001b[0;32m    702\u001b[0m         \u001b[1;32mwhile\u001b[0m \u001b[1;32mTrue\u001b[0m\u001b[1;33m:\u001b[0m\u001b[1;33m\u001b[0m\u001b[1;33m\u001b[0m\u001b[0m\n\u001b[0;32m    703\u001b[0m             \u001b[1;32mtry\u001b[0m\u001b[1;33m:\u001b[0m\u001b[1;33m\u001b[0m\u001b[1;33m\u001b[0m\u001b[0m\n\u001b[1;32m--> 704\u001b[1;33m                 \u001b[1;32mreturn\u001b[0m \u001b[0mself\u001b[0m\u001b[1;33m.\u001b[0m\u001b[0m_sock\u001b[0m\u001b[1;33m.\u001b[0m\u001b[0mrecv_into\u001b[0m\u001b[1;33m(\u001b[0m\u001b[0mb\u001b[0m\u001b[1;33m)\u001b[0m\u001b[1;33m\u001b[0m\u001b[1;33m\u001b[0m\u001b[0m\n\u001b[0m\u001b[0;32m    705\u001b[0m             \u001b[1;32mexcept\u001b[0m \u001b[0mtimeout\u001b[0m\u001b[1;33m:\u001b[0m\u001b[1;33m\u001b[0m\u001b[1;33m\u001b[0m\u001b[0m\n\u001b[0;32m    706\u001b[0m                 \u001b[0mself\u001b[0m\u001b[1;33m.\u001b[0m\u001b[0m_timeout_occurred\u001b[0m \u001b[1;33m=\u001b[0m \u001b[1;32mTrue\u001b[0m\u001b[1;33m\u001b[0m\u001b[1;33m\u001b[0m\u001b[0m\n",
      "\u001b[1;31mKeyboardInterrupt\u001b[0m: "
     ]
    }
   ],
   "source": [
    "###page more\n",
    "# //*[@id=\"_k56KZcfmIKvb4-EP1YmzuAo_142\"]/div[2]/div[1]/div[1]/div[1]/span/div\n",
    "\n",
    "for ind in range(1,11):\n",
    "    xp = \"//*[@id='_k56KZcfmIKvb4-EP1YmzuAo_142']/div[2]/div[{ind}]/div[1]/div[1]/span/div\"\n",
    "    xp = xp.format(ind=ind)\n",
    "    i = driver.find_elements(\n",
    "        By.XPATH, xp)\n",
    "    print(i[0].text)\n",
    "    \n",
    "    "
   ]
  }
 ],
 "metadata": {
  "kernelspec": {
   "display_name": "base",
   "language": "python",
   "name": "python3"
  },
  "language_info": {
   "codemirror_mode": {
    "name": "ipython",
    "version": 3
   },
   "file_extension": ".py",
   "mimetype": "text/x-python",
   "name": "python",
   "nbconvert_exporter": "python",
   "pygments_lexer": "ipython3",
   "version": "3.9.13"
  }
 },
 "nbformat": 4,
 "nbformat_minor": 2
}
