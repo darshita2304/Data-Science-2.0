{
 "cells": [
  {
   "cell_type": "code",
   "execution_count": 22,
   "metadata": {},
   "outputs": [],
   "source": [
    "import time\n",
    "import pandas as pd\n",
    "from selenium import webdriver\n",
    "from selenium.webdriver import Chrome\n",
    "from selenium.webdriver.common.by import By\n",
    "\n",
    "from selenium.webdriver.common.by import By\n",
    "from selenium.webdriver.support.wait import WebDriverWait\n",
    "from selenium.webdriver.support import expected_conditions as EC\n",
    "from selenium.webdriver.common.action_chains import ActionChains"
   ]
  },
  {
   "cell_type": "code",
   "execution_count": 23,
   "metadata": {},
   "outputs": [
    {
     "data": {
      "text/plain": [
       "'https://www.google.com/search?q=Nikon+Coolpix+P950&rlz=1C1ONGR_enIN952IN952&oq=Nikon+Coolpix+P950'"
      ]
     },
     "execution_count": 23,
     "metadata": {},
     "output_type": "execute_result"
    }
   ],
   "source": [
    "search_url = \"https://www.google.com/search?q={q}&rlz=1C1ONGR_enIN952IN952&oq={q}\"\n",
    "\n",
    "query = \"Nikon Coolpix P950\"\n",
    "query = query.replace(\" \", \"+\")\n",
    "\n",
    "search_url = search_url.format(q=query)\n",
    "search_url"
   ]
  },
  {
   "cell_type": "code",
   "execution_count": 24,
   "metadata": {},
   "outputs": [],
   "source": [
    "options = webdriver.ChromeOptions()\n",
    "driver = Chrome(options=options)\n",
    "driver.implicitly_wait(20)"
   ]
  },
  {
   "cell_type": "code",
   "execution_count": 25,
   "metadata": {},
   "outputs": [],
   "source": [
    "driver.get(search_url)\n",
    "main_page = driver.current_window_handle\n",
    "time.sleep(20)"
   ]
  },
  {
   "cell_type": "code",
   "execution_count": 26,
   "metadata": {},
   "outputs": [],
   "source": [
    "review_btn = driver.find_element(\n",
    "    By.XPATH, \"//*[@id='kp-wp-tab-overview']/div[1]/div/div/div/div[1]/div/div/button[2]\")\n",
    "driver.implicitly_wait(20)\n",
    "review_btn.click()"
   ]
  },
  {
   "cell_type": "code",
   "execution_count": 33,
   "metadata": {},
   "outputs": [],
   "source": [
    "parent = driver.find_elements(\n",
    "    By.CSS_SELECTOR, \"div.HDso9d\")"
   ]
  },
  {
   "cell_type": "code",
   "execution_count": 34,
   "metadata": {},
   "outputs": [
    {
     "data": {
      "text/plain": [
       "11"
      ]
     },
     "execution_count": 34,
     "metadata": {},
     "output_type": "execute_result"
    }
   ],
   "source": [
    "len(parent)"
   ]
  },
  {
   "cell_type": "code",
   "execution_count": 36,
   "metadata": {},
   "outputs": [],
   "source": [
    "import re\n",
    "\n",
    "\n",
    "def remove_words(input_string, word_to_replace):\n",
    "    pattern = re.compile(\n",
    "        r'\\b' + re.escape(word_to_replace) + r'\\b', re.IGNORECASE)\n",
    "    modified_string = pattern.sub(\"\", input_string)\n",
    "    return modified_string"
   ]
  },
  {
   "cell_type": "code",
   "execution_count": 37,
   "metadata": {},
   "outputs": [
    {
     "name": "stdout",
     "output_type": "stream",
     "text": [
      "['Karen', 'Kate J.', 'stephen', 'Cece', 'Patrice', 'MURRAY', 'MICHELLE', 'William', 'Patricia P.', 'MARCIA']\n",
      "['5', '3', '4', '4', '4', '5', '5', '4', '5', '4']\n",
      "['My first Nikon', 'Good rental experience; not the camera for birding', 'great camera for what i wanted', \"It's heavier than I'm used to but troubles started\", 'Nice point-and-shoot', 'Great!', 'A good camera considering how small the sensor is!', 'Great for birding', 'Fun camera and great service!', 'Coolpix P950']\n",
      "[\"I have used Sony bridge cameras for years and when I read about the Nikon P950, I knew it was time to make a change. It is used for birding, so I LOVE the bird mode feature. I also take videos and like getting close up. I'm still learning how close to can get without being shaky because I will not use a tripod when in the field birding. I was able to get a very good video 25 feet away with close up details of a bird bathing. Water details were just as amazing as the wet feathers. Then I tried capturing a very high flying fast bird (Chimney Swift). I could not use full zoom and follow the bird, but upon processing the photos and zoomin within iPhoto,\\n\\nI was very pleased to get at least one clear picture (even the fast moving wings) Today I went to a very dense area and was ...More\", 'I wanted to try a bridge camera for bird photography to get that “super zoom.” I am used to a full frame Canon. On one hand, this camera is great—you can get zoomed in on far away birds to I.D. them. Despite not “speaking Nikon” I was quickly able to figure out the controls I needed and I loved how light this camera is. On the other hand, a lot of negatives, especially if you are used to a crop sensor or full frame camera. I used the “Bird” setting, but despite that I found it very hard to properly focus on a bird. Zooming in and out was slow—sluggish. Obviously both of these are problems with fast moving wild life. I was prepared for the fact that 1400-2000 mm the camera was going to “bounce” around on the subject making it very hard to frame, but it was still frustrating ...More', \"i bought this mainly to photograph birds from a fixed location (my apartment balcony) or otherwise while out walking. and for that purpose, it is outstanding. it has a bird icon on the mechanical control dial! which btw I used to photograph any animals. the lens is surprisingly sharp, and produced excellent bokeh too btw. there's a grackle nest about 30 feet from my balcony and I shot stills and video in may and june of the little ones hatching and being fed round the clock by their parents. and, pics of many other birds and animals as well. it's a fun camera. not especially portable.\", \"It's heavier than I'm used to. I didn't realize that the viewer swung out but that's ok. The battery charged up just fine and I have used it about 3 times and the photos are great and the zoom is fast and fantastic. It died on me in the middle of a job with the zoom still out and I had to use my phone. Usually when the battery runs out, my previous Nikon shuts down all the way so this was odd. So I get back home and plug the camera in and it's not charging. I have batteries and a separate charger coming in a couple of days. Meanwhile, I'm going to call BB and see if they can get me a new camera. Luckily I don't have an immediate need.\", \"The COOLPIX P950 is a nice point-and-shoot camera loaded with features. I gave it a good workout at a music festival over the past few days and was for the most part pleased with my results. What impressed me most was the vibration reduction that helped keep my photos sharp when shooting hand-held at telephoto lengths. I was surprised, though, that its smallest aperture is F8, which is not mentioned in the tech specs on Nikon's website; I guess I would have expected it to range to F16.\\n\\nI've been shooting mostly in manual or aperture priority thus far, so can't speak to the many exposure and scene modes this baby has, but I'm looking forward to giving them a shot.\", 'The lens, software and sensor are all excellent, but what earns the camera 5 stars are its well-thought-out, intuitive controls. I use the camera mostly for photographing birds, and the little devils flit around very quickly. A camera that is slow to operate will mostly take pictures of twigs and branches where birds used to be. This one is fast. It focuses and sets exposure quickly, and allows you to place necessary adjustments under your thumb and/or forefinger for rapid access. Birds need exposure compensation, not occasionally but most of the time. Being able to adjust this rapidly and intuitively and see the result in the viewfinder is a joy! The camera is well balanced and points where you look. Both viewfinder and view screen are bright, and the display can be adjusted ...More', \"I will preface this review by stating that I shoot RAW and Manual. I've been shooting like this for years with a DSLR and a mirrorless, so it's a matter of habit, as well as me being happier with the pictures. I've put this camera on Auto ISO, 100 to 3200, something I haven't done before. The sensor seems to adjust the ISO perfectly most of the time. It also has excellent vibration control. I'm quite happy with the one video I took. My other videos with other cameras jumped all over the place. Let's face it, I'm not a videographer. What I don't like is that the camera doesn't show me battery level. It's got the little icon, it always shows the battery as full. Maybe it's just my camera. I carry a charged spare. Also, watch where your hands are, or you might be stopping the ...More\", 'Bought this to help identify birds from afar. After a few outings and getting used to the camera, I think it\\'s doing what I intended it to do. It even has a \"bird\" mode. It\\'s lighter and far more compact than lugging a camera body and a big zoom. The compromise is, I\\'m not going to win any photo contests with my zoomed in photos. At maximum zoom, it\\'s quite hard to hold steady without some form of support, but that\\'s to be expected. The auto-focus in \"bird\" mode works quite well. I think it\\'s a good buy for what I want to do with it.', 'Fun camera and great service! I was testing the Nikon Coolpix P950 before renting it again for a trip to Africa. I liked it for the incredible zoom, the bird setting, and the ability to take wide angle photos. I also got wonderful photos of our dogs with the pet portrait mode. As others have noted It does not do well with \"sports\" motion (animals running). I will still take my Nikon D750 with its 28-300 mm lens which has served me well during past safaris, along with the Coolpix 950. Between these two cameras I won\\'t need any other gear.', 'After trying two other bridge cameras (Sony, excellent but complicated menus & controls; Panasonic Lumix DC FZ80?.ok but did not quite fit my needs)this Nikon P950 will probably be a keeper?..easy to use (on line videos help), great zoom, heavier than the other two but way lighter than a dslr and long zoom lens. Having a little trouble with manual focus, but auto focus works well. Also slower in all aspects, not just aperture, but for an ?always with you?camera having the ability to shoot birds/wildlife at a distance it works well. Have taken bird photos at 100? away with good focus?would like more detail/clarity but I am still learning the camera so it may be user error. Would suggest ISO of 1600 or less to avoid grain. Only complaint is the battery life ?.. will contact ...More']\n",
      "['bhphotovideo.com', 'lensrentals.com', 'bhphotovideo.com', 'bestbuy.com', 'bhphotovideo.com', 'adorama.com', 'adorama.com', 'bhphotovideo.com', 'lensrentals.com', 'adorama.com']\n"
     ]
    }
   ],
   "source": [
    "names = []\n",
    "stars = []\n",
    "titles = []\n",
    "details = []\n",
    "review_on = []\n",
    "cnt = 0\n",
    "\n",
    "for item in parent:\n",
    "    if cnt > 0:\n",
    "        names.append(item.find_element(By.CLASS_NAME, \"q7ToWe\").text)\n",
    "        # stars.append(item.find_element(By.CLASS_NAME, \"yi40Hd YrbPuc\"))\n",
    "\n",
    "        stars.append(item.find_element(By.CSS_SELECTOR, 'span.yi40Hd').text)\n",
    "\n",
    "        titles.append(item.find_element(By.CLASS_NAME, \"KTsGge\").text)\n",
    "        details.append(item.find_element(By.CSS_SELECTOR, \"div.YKsAwb\").text)\n",
    "\n",
    "        onn = item.find_element(By.CSS_SELECTOR, \"div.MR6qfb\").text\n",
    "        review_on.append(remove_words(onn, \"Reviewed on \"))\n",
    "\n",
    "    cnt += 1\n",
    "\n",
    "# print(names)\n",
    "print(names)\n",
    "print(stars)\n",
    "print(titles)\n",
    "print(details)\n",
    "print(review_on)"
   ]
  },
  {
   "cell_type": "code",
   "execution_count": 38,
   "metadata": {},
   "outputs": [],
   "source": [
    "import pandas as pd\n",
    "\n",
    "dict = {'reviews_names_arr': names,\n",
    "        'stars_arr': stars,\n",
    "        'review_titles_arr': titles,\n",
    "        'review_details_arr': details,\n",
    "        'review_on_arr': review_on}\n",
    "\n",
    "df = pd.DataFrame(dict)"
   ]
  },
  {
   "cell_type": "code",
   "execution_count": 39,
   "metadata": {},
   "outputs": [
    {
     "data": {
      "text/html": [
       "<div>\n",
       "<style scoped>\n",
       "    .dataframe tbody tr th:only-of-type {\n",
       "        vertical-align: middle;\n",
       "    }\n",
       "\n",
       "    .dataframe tbody tr th {\n",
       "        vertical-align: top;\n",
       "    }\n",
       "\n",
       "    .dataframe thead th {\n",
       "        text-align: right;\n",
       "    }\n",
       "</style>\n",
       "<table border=\"1\" class=\"dataframe\">\n",
       "  <thead>\n",
       "    <tr style=\"text-align: right;\">\n",
       "      <th></th>\n",
       "      <th>reviews_names_arr</th>\n",
       "      <th>stars_arr</th>\n",
       "      <th>review_titles_arr</th>\n",
       "      <th>review_details_arr</th>\n",
       "      <th>review_on_arr</th>\n",
       "    </tr>\n",
       "  </thead>\n",
       "  <tbody>\n",
       "    <tr>\n",
       "      <th>0</th>\n",
       "      <td>Karen</td>\n",
       "      <td>5</td>\n",
       "      <td>My first Nikon</td>\n",
       "      <td>I have used Sony bridge cameras for years and ...</td>\n",
       "      <td>bhphotovideo.com</td>\n",
       "    </tr>\n",
       "    <tr>\n",
       "      <th>1</th>\n",
       "      <td>Kate J.</td>\n",
       "      <td>3</td>\n",
       "      <td>Good rental experience; not the camera for bir...</td>\n",
       "      <td>I wanted to try a bridge camera for bird photo...</td>\n",
       "      <td>lensrentals.com</td>\n",
       "    </tr>\n",
       "    <tr>\n",
       "      <th>2</th>\n",
       "      <td>stephen</td>\n",
       "      <td>4</td>\n",
       "      <td>great camera for what i wanted</td>\n",
       "      <td>i bought this mainly to photograph birds from ...</td>\n",
       "      <td>bhphotovideo.com</td>\n",
       "    </tr>\n",
       "    <tr>\n",
       "      <th>3</th>\n",
       "      <td>Cece</td>\n",
       "      <td>4</td>\n",
       "      <td>It's heavier than I'm used to but troubles sta...</td>\n",
       "      <td>It's heavier than I'm used to. I didn't realiz...</td>\n",
       "      <td>bestbuy.com</td>\n",
       "    </tr>\n",
       "    <tr>\n",
       "      <th>4</th>\n",
       "      <td>Patrice</td>\n",
       "      <td>4</td>\n",
       "      <td>Nice point-and-shoot</td>\n",
       "      <td>The COOLPIX P950 is a nice point-and-shoot cam...</td>\n",
       "      <td>bhphotovideo.com</td>\n",
       "    </tr>\n",
       "    <tr>\n",
       "      <th>5</th>\n",
       "      <td>MURRAY</td>\n",
       "      <td>5</td>\n",
       "      <td>Great!</td>\n",
       "      <td>The lens, software and sensor are all excellen...</td>\n",
       "      <td>adorama.com</td>\n",
       "    </tr>\n",
       "    <tr>\n",
       "      <th>6</th>\n",
       "      <td>MICHELLE</td>\n",
       "      <td>5</td>\n",
       "      <td>A good camera considering how small the sensor...</td>\n",
       "      <td>I will preface this review by stating that I s...</td>\n",
       "      <td>adorama.com</td>\n",
       "    </tr>\n",
       "    <tr>\n",
       "      <th>7</th>\n",
       "      <td>William</td>\n",
       "      <td>4</td>\n",
       "      <td>Great for birding</td>\n",
       "      <td>Bought this to help identify birds from afar. ...</td>\n",
       "      <td>bhphotovideo.com</td>\n",
       "    </tr>\n",
       "    <tr>\n",
       "      <th>8</th>\n",
       "      <td>Patricia P.</td>\n",
       "      <td>5</td>\n",
       "      <td>Fun camera and great service!</td>\n",
       "      <td>Fun camera and great service! I was testing th...</td>\n",
       "      <td>lensrentals.com</td>\n",
       "    </tr>\n",
       "    <tr>\n",
       "      <th>9</th>\n",
       "      <td>MARCIA</td>\n",
       "      <td>4</td>\n",
       "      <td>Coolpix P950</td>\n",
       "      <td>After trying two other bridge cameras (Sony, e...</td>\n",
       "      <td>adorama.com</td>\n",
       "    </tr>\n",
       "  </tbody>\n",
       "</table>\n",
       "</div>"
      ],
      "text/plain": [
       "  reviews_names_arr stars_arr  \\\n",
       "0             Karen         5   \n",
       "1           Kate J.         3   \n",
       "2           stephen         4   \n",
       "3              Cece         4   \n",
       "4           Patrice         4   \n",
       "5            MURRAY         5   \n",
       "6          MICHELLE         5   \n",
       "7           William         4   \n",
       "8       Patricia P.         5   \n",
       "9            MARCIA         4   \n",
       "\n",
       "                                   review_titles_arr  \\\n",
       "0                                     My first Nikon   \n",
       "1  Good rental experience; not the camera for bir...   \n",
       "2                     great camera for what i wanted   \n",
       "3  It's heavier than I'm used to but troubles sta...   \n",
       "4                               Nice point-and-shoot   \n",
       "5                                             Great!   \n",
       "6  A good camera considering how small the sensor...   \n",
       "7                                  Great for birding   \n",
       "8                      Fun camera and great service!   \n",
       "9                                       Coolpix P950   \n",
       "\n",
       "                                  review_details_arr     review_on_arr  \n",
       "0  I have used Sony bridge cameras for years and ...  bhphotovideo.com  \n",
       "1  I wanted to try a bridge camera for bird photo...   lensrentals.com  \n",
       "2  i bought this mainly to photograph birds from ...  bhphotovideo.com  \n",
       "3  It's heavier than I'm used to. I didn't realiz...       bestbuy.com  \n",
       "4  The COOLPIX P950 is a nice point-and-shoot cam...  bhphotovideo.com  \n",
       "5  The lens, software and sensor are all excellen...       adorama.com  \n",
       "6  I will preface this review by stating that I s...       adorama.com  \n",
       "7  Bought this to help identify birds from afar. ...  bhphotovideo.com  \n",
       "8  Fun camera and great service! I was testing th...   lensrentals.com  \n",
       "9  After trying two other bridge cameras (Sony, e...       adorama.com  "
      ]
     },
     "execution_count": 39,
     "metadata": {},
     "output_type": "execute_result"
    }
   ],
   "source": [
    "df"
   ]
  },
  {
   "cell_type": "code",
   "execution_count": null,
   "metadata": {},
   "outputs": [],
   "source": []
  }
 ],
 "metadata": {
  "kernelspec": {
   "display_name": "base",
   "language": "python",
   "name": "python3"
  },
  "language_info": {
   "codemirror_mode": {
    "name": "ipython",
    "version": 3
   },
   "file_extension": ".py",
   "mimetype": "text/x-python",
   "name": "python",
   "nbconvert_exporter": "python",
   "pygments_lexer": "ipython3",
   "version": "3.9.13"
  }
 },
 "nbformat": 4,
 "nbformat_minor": 2
}
