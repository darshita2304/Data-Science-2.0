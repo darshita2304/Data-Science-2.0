{
 "cells": [
  {
   "attachments": {},
   "cell_type": "markdown",
   "metadata": {},
   "source": [
    "<aside>\n",
    "💡 Question 1\n",
    "\n",
    "Q1. Given an array of size N. The task is to find the maximum and the\n",
    "minimum element of the array using the minimum number of comparisons.\n",
    "Examples:\n",
    "Input: arr[] = {3, 5, 4, 1, 9}\n",
    "Output: Minimum element is: 1\n",
    "Maximum element is: 9\n",
    "\n",
    "TC : O(n)\n",
    "SC: O(n)\n",
    "\n",
    "</aside>"
   ]
  },
  {
   "cell_type": "code",
   "execution_count": 2,
   "metadata": {},
   "outputs": [
    {
     "name": "stdout",
     "output_type": "stream",
     "text": [
      "Minimum element is 1\n",
      "Maximum element is 3000\n"
     ]
    }
   ],
   "source": [
    "class pair:\n",
    "\tdef __init__(self):\n",
    "\t\tself.min = 0\n",
    "\t\tself.max = 0\n",
    " \n",
    "def getMinMax(arr: list, n: int) -> pair:\n",
    "\tminmax = pair()\n",
    " \n",
    "\t# If there is only one element then return it as min and max both\n",
    "\tif n == 1:\n",
    "\t\tminmax.max = arr[0]\n",
    "\t\tminmax.min = arr[0]\n",
    "\t\treturn minmax\n",
    " \n",
    "\t# If there are more than one elements, then initialize min\n",
    "\t# and max\n",
    "\tif arr[0] > arr[1]:\n",
    "\t\tminmax.max = arr[0]\n",
    "\t\tminmax.min = arr[1]\n",
    "\telse:\n",
    "\t\tminmax.max = arr[1]\n",
    "\t\tminmax.min = arr[0]\n",
    " \n",
    "\tfor i in range(2, n):\n",
    "\t\tif arr[i] > minmax.max:\n",
    "\t\t\tminmax.max = arr[i]\n",
    "\t\telif arr[i] < minmax.min:\n",
    "\t\t\tminmax.min = arr[i]\n",
    " \n",
    "\treturn minmax\n",
    " \n",
    "# Driver Code\n",
    "if __name__ == \"__main__\":\n",
    "\tarr = [1000, 11, 445, 1, 330, 3000]\n",
    "\tarr_size = 6\n",
    "\tminmax = getMinMax(arr, arr_size)\n",
    "\tprint(\"Minimum element is\", minmax.min)\n",
    "\tprint(\"Maximum element is\", minmax.max)"
   ]
  },
  {
   "attachments": {},
   "cell_type": "markdown",
   "metadata": {},
   "source": [
    "<aside>\n",
    "💡 Question 2\n",
    "\n",
    "You are given an array prices where prices[i] is the price of a given stock\n",
    "on the ith day.\n",
    "You want to maximize your profit by choosing a single day to buy one stock\n",
    "and choosing a different day in the future to sell that stock.\n",
    "Return the maximum profit you can achieve from this transaction. If you\n",
    "cannot achieve any profit, return 0.\n",
    "Example :\n",
    "Input: prices = [7,1,5,3,6,4]\n",
    "Output: 5\n",
    "Explanation: Buy on day 2 (price = 1) and sell on day 5 (price = 6), profit = 6-1\n",
    "= 5.\n",
    "Note that buying on day 2 and selling on day 1 is not allowed because you\n",
    "must buy before you sell.\n",
    "Solution:\n",
    "\n",
    "</aside>"
   ]
  },
  {
   "cell_type": "code",
   "execution_count": 4,
   "metadata": {},
   "outputs": [],
   "source": [
    "class Solution:\n",
    "    def maxProfit(self, prices: list[int]) -> int:\n",
    "        min_price = float('inf')\n",
    "        max_profit = 0\n",
    "        for i in range(len(prices)):\n",
    "            if prices[i] < min_price:\n",
    "                min_price = prices[i]\n",
    "            elif prices[i] - min_price > max_profit:\n",
    "                max_profit = prices[i] - min_price\n",
    " \n",
    "        return max_profit"
   ]
  },
  {
   "attachments": {},
   "cell_type": "markdown",
   "metadata": {},
   "source": [
    "<aside>\n",
    "💡 Question 3\n",
    "\n",
    "Given an integer array nums, find a subarray that has the largest product,\n",
    "and return the product.\n",
    "The test cases are generated so that the answer will fit in a 32-bit integer.\n",
    "Example:\n",
    "Input: nums = [2,3,-2,4]\n",
    "Output: 6\n",
    "Explanation: [2,3] has the largest product 6.\n",
    "\n",
    "</aside>"
   ]
  },
  {
   "cell_type": "code",
   "execution_count": 6,
   "metadata": {},
   "outputs": [],
   "source": [
    "class Solution:\n",
    "    def maxProduct(self, nums: list[int]) -> int:\n",
    "        if len(nums) == 0:\n",
    "            return 0\n",
    " \n",
    "        max_so_far = nums[0]\n",
    "        min_so_far = nums[0]\n",
    "        result = max_so_far\n",
    " \n",
    "        for i in range(1, len(nums)):\n",
    "            curr = nums[i]\n",
    "            temp_max = max(curr, max_so_far * curr, min_so_far * curr)\n",
    "            min_so_far = min(curr, max_so_far * curr, min_so_far * curr)\n",
    " \n",
    "            max_so_far = temp_max\n",
    " \n",
    "            result = max(max_so_far, result)\n",
    " \n",
    "        return result"
   ]
  },
  {
   "attachments": {},
   "cell_type": "markdown",
   "metadata": {},
   "source": [
    "<aside>\n",
    "💡 Question 4\n",
    "\n",
    "Given an integer array nums, return all the triplets [nums[i], nums[j],\n",
    "nums[k]] such that i != j, i != k, and j != k, and nums[i] + nums[j] + nums[k] ==\n",
    "0.\n",
    "Notice that the solution set must not contain duplicate triplets.\n",
    "Example:\n",
    "Input: nums = [-1,0,1,2,-1,-4]\n",
    "Output: [[-1,-1,2],[-1,0,1]]\n",
    "Explanation:\n",
    "nums[0] + nums[1] + nums[2] = (-1) + 0 + 1 = 0.\n",
    "nums[1] + nums[2] + nums[4] = 0 + 1 + (-1) = 0.\n",
    "nums[0] + nums[3] + nums[4] = (-1) + 2 + (-1) = 0.\n",
    "The distinct triplets are [-1,0,1] and [-1,-1,2].\n",
    "Notice that the order of the output and the order of the triplets does not\n",
    "matter.\n",
    "\n",
    "</aside>"
   ]
  },
  {
   "cell_type": "code",
   "execution_count": 12,
   "metadata": {},
   "outputs": [],
   "source": [
    "class Solution:\n",
    "    def threeSum(self, nums: list[int]) -> list[list[int]]:\n",
    "        res = []\n",
    "        nums.sort()\n",
    "        for i in range(len(nums)):\n",
    "            if nums[i] > 0:\n",
    "                break\n",
    "            if i == 0 or nums[i - 1] != nums[i]:\n",
    "                self.twoSumII(nums, i, res)\n",
    "        return res\n",
    " \n",
    "    def twoSumII(self, nums: list[int], i: int, res: list[list[int]]):\n",
    "        lo, hi = i + 1, len(nums) - 1\n",
    "        while (lo < hi):\n",
    "            sum = nums[i] + nums[lo] + nums[hi]\n",
    "            if sum < 0:\n",
    "                lo += 1\n",
    "            elif sum > 0:\n",
    "                hi -= 1\n",
    "            else:\n",
    "                res.append([nums[i], nums[lo], nums[hi]])\n",
    "                lo += 1\n",
    "                hi -= 1\n",
    "                while lo < hi and nums[lo] == nums[lo - 1]:\n",
    "                    lo += 1"
   ]
  },
  {
   "attachments": {},
   "cell_type": "markdown",
   "metadata": {},
   "source": [
    "<aside>\n",
    "💡 Question 5\n",
    "\n",
    "Given an integer array nums and an integer k, return the kth largest\n",
    "element in the array. Note that it is the kth largest element in the sorted order,\n",
    "not the kth distinct element.\n",
    "Example 1:\n",
    "Input: nums = [3,2,1,5,6,4], k = 2\n",
    "Output: 5\n",
    "\n",
    "</aside>"
   ]
  },
  {
   "cell_type": "code",
   "execution_count": 13,
   "metadata": {},
   "outputs": [],
   "source": [
    "class Solution:\n",
    "    def findKthLargest(self, nums, k):\n",
    "        \"\"\"\n",
    "        :type nums: List[int]\n",
    "        :type k: int\n",
    "        :rtype: int\n",
    "        \"\"\"\n",
    "        return heapq.nlargest(k, nums)[-1]"
   ]
  },
  {
   "attachments": {},
   "cell_type": "markdown",
   "metadata": {},
   "source": [
    "<aside>\n",
    "💡 Question 6\n",
    "\n",
    "Given an integer array nums and an integer k, return the kth smallest\n",
    "element in the array. Note that it is the kth smallest element in the sorted\n",
    "order, not the kth distinct element.\n",
    "Example 1:\n",
    "Input: nums = [3,2,1,5,6,4], k = 2\n",
    "Output: 2\n",
    "\n",
    "</aside>"
   ]
  },
  {
   "cell_type": "code",
   "execution_count": 14,
   "metadata": {},
   "outputs": [],
   "source": [
    "import heapq\n",
    " \n",
    "def find_kth_smallest(nums, k):\n",
    "    return heapq.nsmallest(k, nums)[-1]"
   ]
  },
  {
   "attachments": {},
   "cell_type": "markdown",
   "metadata": {},
   "source": []
  },
  {
   "cell_type": "code",
   "execution_count": null,
   "metadata": {},
   "outputs": [],
   "source": []
  }
 ],
 "metadata": {
  "kernelspec": {
   "display_name": "base",
   "language": "python",
   "name": "python3"
  },
  "language_info": {
   "codemirror_mode": {
    "name": "ipython",
    "version": 3
   },
   "file_extension": ".py",
   "mimetype": "text/x-python",
   "name": "python",
   "nbconvert_exporter": "python",
   "pygments_lexer": "ipython3",
   "version": "3.9.13"
  },
  "orig_nbformat": 4
 },
 "nbformat": 4,
 "nbformat_minor": 2
}
