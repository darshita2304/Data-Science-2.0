{
 "cells": [
  {
   "cell_type": "code",
   "execution_count": 1,
   "metadata": {},
   "outputs": [
    {
     "data": {
      "text/plain": [
       "(1, 2, 3, 4, 5, 'hello')"
      ]
     },
     "execution_count": 1,
     "metadata": {},
     "output_type": "execute_result"
    }
   ],
   "source": [
    "# a function take any number of input and return values\n",
    "\n",
    "# fn takes all args and return it in tuple by default..\n",
    "def test2(*args):# * is called statis (any number args)as args variable\n",
    "    return(args)\n",
    "\n",
    "test2(1,2,3,4,5,'hello')"
   ]
  },
  {
   "cell_type": "code",
   "execution_count": 4,
   "metadata": {},
   "outputs": [
    {
     "data": {
      "text/plain": [
       "tuple"
      ]
     },
     "execution_count": 4,
     "metadata": {},
     "output_type": "execute_result"
    }
   ],
   "source": [
    "type(test2(1,2,3,4,5,'hello',['a','v',1,2],(3,4,5)))"
   ]
  },
  {
   "cell_type": "code",
   "execution_count": 5,
   "metadata": {},
   "outputs": [
    {
     "data": {
      "text/plain": [
       "[1, 2, 3, 4, 5, 'hello']"
      ]
     },
     "execution_count": 5,
     "metadata": {},
     "output_type": "execute_result"
    }
   ],
   "source": [
    "# fn takes all args and return it in list\n",
    "def test2(*args):\n",
    "    return list(args)\n",
    "    # or\n",
    "    # l =[]\n",
    "    # for i in args\n",
    "    #   l.append(i)\n",
    "    #return l\n",
    "\n",
    "test2(1,2,3,4,5,'hello')\n"
   ]
  },
  {
   "cell_type": "code",
   "execution_count": null,
   "metadata": {},
   "outputs": [],
   "source": []
  },
  {
   "cell_type": "code",
   "execution_count": 1,
   "metadata": {},
   "outputs": [
    {
     "data": {
      "text/plain": [
       "{'a': 3, 'b': 5, 'c': 'ddd', 'abc': [1, 2, 3]}"
      ]
     },
     "execution_count": 1,
     "metadata": {},
     "output_type": "execute_result"
    }
   ],
   "source": [
    "def fn(**kwargs): # key value pairs\n",
    "    return kwargs\n",
    "\n",
    "fn(a = 3, b = 5, c = 'ddd', abc= [1,2,3]) # return key value that is dictionary\n"
   ]
  },
  {
   "cell_type": "code",
   "execution_count": 3,
   "metadata": {},
   "outputs": [
    {
     "data": {
      "text/plain": [
       "'darshiiiiaaa'"
      ]
     },
     "execution_count": 3,
     "metadata": {},
     "output_type": "execute_result"
    }
   ],
   "source": [
    "def test12(a):\n",
    "    return a + 'aaa'\n",
    "\n",
    "def test13(b):\n",
    "    return b + 'bbb'\n",
    "\n",
    "def test14(func):\n",
    "    return func('darshiiii')\n",
    "\n",
    "\n",
    "test14(test12) # passing fn inside a fn"
   ]
  },
  {
   "cell_type": "code",
   "execution_count": 5,
   "metadata": {},
   "outputs": [
    {
     "data": {
      "text/plain": [
       "'darshiiiiaaa'"
      ]
     },
     "execution_count": 5,
     "metadata": {},
     "output_type": "execute_result"
    }
   ],
   "source": [
    "test14(test12)"
   ]
  },
  {
   "cell_type": "code",
   "execution_count": 7,
   "metadata": {},
   "outputs": [
    {
     "data": {
      "text/plain": [
       "('darshiiii',)"
      ]
     },
     "execution_count": 7,
     "metadata": {},
     "output_type": "execute_result"
    }
   ],
   "source": [
    "def test12(a):\n",
    "    return a + 'aaa'\n",
    "\n",
    "def test13(*b):\n",
    "    return b \n",
    "\n",
    "def test14(func):\n",
    "    return func('darshiiii')\n",
    "\n",
    "\n",
    "test14(test13) # passing fn inside a fn"
   ]
  },
  {
   "cell_type": "code",
   "execution_count": null,
   "metadata": {},
   "outputs": [],
   "source": [
    "## u can pass any fn as parameter\n",
    "#condition is arguments should be same\n",
    "# if not pass it as *args so anynumber of \n",
    "# arguments will be ok"
   ]
  },
  {
   "cell_type": "code",
   "execution_count": 8,
   "metadata": {},
   "outputs": [
    {
     "name": "stdout",
     "output_type": "stream",
     "text": [
      "this is a test fn\n"
     ]
    }
   ],
   "source": [
    "#function within a function\n",
    "\n",
    "def test():\n",
    "    print ('this is a test fn')\n",
    "\n",
    "    def test_hello():\n",
    "        print(\"test_hello\")\n",
    "    \n",
    "    def test_world():\n",
    "        print(\"test_World\")\n",
    "\n",
    "test()"
   ]
  },
  {
   "cell_type": "code",
   "execution_count": null,
   "metadata": {},
   "outputs": [],
   "source": [
    "#how to access fn within fn..\n",
    "# above example access test_hello  & test_world is not possible\n",
    "\n",
    "# bcas both fn test_hello and test_world fn has def withing test only..\n",
    "\n",
    "#not acessible from outside.."
   ]
  },
  {
   "cell_type": "code",
   "execution_count": 10,
   "metadata": {},
   "outputs": [
    {
     "name": "stdout",
     "output_type": "stream",
     "text": [
      "this is a test fn\n",
      "test_hello\n",
      "this is a test fn\n",
      "test_World\n"
     ]
    }
   ],
   "source": [
    "def test(a):\n",
    "    print ('this is a test fn')\n",
    "\n",
    "    def test_hello():\n",
    "        print(\"test_hello\")\n",
    "    \n",
    "    def test_world():\n",
    "        print(\"test_World\")\n",
    "\n",
    "    if(a == 'testt'):\n",
    "        test_hello()\n",
    "    else:\n",
    "        test_world()\n",
    "\n",
    "test('testt')\n",
    "test('world..')\n"
   ]
  },
  {
   "cell_type": "code",
   "execution_count": 14,
   "metadata": {},
   "outputs": [],
   "source": [
    "def test13(*args):\n",
    "    print(\"test13\")\n",
    "\n"
   ]
  },
  {
   "cell_type": "code",
   "execution_count": 16,
   "metadata": {},
   "outputs": [
    {
     "name": "stdout",
     "output_type": "stream",
     "text": [
      "test 18\n",
      "test13\n"
     ]
    }
   ],
   "source": [
    "# fn inside fn calling.. and outside fn calling also\n",
    "def test18(func):\n",
    "    def test19():\n",
    "        print(\"test 18\")\n",
    "        func()\n",
    "    return test19()\n",
    "\n",
    "\n",
    "test18(test13) "
   ]
  },
  {
   "cell_type": "code",
   "execution_count": 17,
   "metadata": {},
   "outputs": [],
   "source": [
    "def test20(func):\n",
    "    def test21():\n",
    "        func()\n",
    "        print(os.getcwd())\n",
    "    return test21"
   ]
  },
  {
   "cell_type": "code",
   "execution_count": 21,
   "metadata": {},
   "outputs": [
    {
     "name": "stdout",
     "output_type": "stream",
     "text": [
      "test 18\n",
      "this is test222\n",
      "f:\\DS\\Data Science 2.0\n"
     ]
    }
   ],
   "source": [
    "### @test22 fn has a decoration which means that \n",
    "## to run test22 with test20()\n",
    "## multiple decorations....\n",
    "## @test18\n",
    "\n",
    "@test20\n",
    "def test22():\n",
    "    print(\"this is test222\")"
   ]
  },
  {
   "cell_type": "code",
   "execution_count": 19,
   "metadata": {},
   "outputs": [
    {
     "name": "stdout",
     "output_type": "stream",
     "text": [
      "this is test222\n",
      "f:\\DS\\Data Science 2.0\n"
     ]
    }
   ],
   "source": [
    "test22()"
   ]
  },
  {
   "cell_type": "code",
   "execution_count": 22,
   "metadata": {},
   "outputs": [
    {
     "name": "stdout",
     "output_type": "stream",
     "text": [
      "helloooo\n",
      "0.0\n"
     ]
    }
   ],
   "source": [
    "# write a program which will start time and end time of a fn\n",
    "\n",
    "import time\n",
    "\n",
    "start = time.time()\n",
    "print(\"helloooo\")\n",
    "end = time.time()\n",
    "\n",
    "print(end - start)"
   ]
  },
  {
   "cell_type": "code",
   "execution_count": 50,
   "metadata": {},
   "outputs": [
    {
     "name": "stdout",
     "output_type": "stream",
     "text": [
      "execution time of a fn\n",
      "test13\n",
      "0.0\n"
     ]
    }
   ],
   "source": [
    "#find start time and end time diff execution time of a fn\n",
    "def test_time(func):\n",
    "    def test():\n",
    "        print(\"execution time of a fn\")\n",
    "        start = time.time()\n",
    "        func()\n",
    "        end = time.time()\n",
    "        print(end-start)\n",
    "    return test()\n",
    "\n",
    "test_time(test13)"
   ]
  },
  {
   "cell_type": "code",
   "execution_count": 51,
   "metadata": {},
   "outputs": [
    {
     "name": "stdout",
     "output_type": "stream",
     "text": [
      "execution time of a fn\n",
      "hello\n",
      "hello\n",
      "hello\n",
      "hello\n",
      "hello\n",
      "0.0\n"
     ]
    }
   ],
   "source": [
    "# decoration fn\n",
    "@test_time \n",
    "def this_fn():\n",
    "    for i in range(0,5):\n",
    "        print('hello')\n",
    "    return"
   ]
  },
  {
   "cell_type": "code",
   "execution_count": 52,
   "metadata": {},
   "outputs": [
    {
     "ename": "TypeError",
     "evalue": "'NoneType' object is not callable",
     "output_type": "error",
     "traceback": [
      "\u001b[1;31m---------------------------------------------------------------------------\u001b[0m",
      "\u001b[1;31mTypeError\u001b[0m                                 Traceback (most recent call last)",
      "\u001b[1;32m~\\AppData\\Local\\Temp\\ipykernel_15628\\3806860064.py\u001b[0m in \u001b[0;36m<module>\u001b[1;34m\u001b[0m\n\u001b[1;32m----> 1\u001b[1;33m \u001b[0mthis_fn\u001b[0m\u001b[1;33m(\u001b[0m\u001b[1;33m)\u001b[0m\u001b[1;33m\u001b[0m\u001b[1;33m\u001b[0m\u001b[0m\n\u001b[0m",
      "\u001b[1;31mTypeError\u001b[0m: 'NoneType' object is not callable"
     ]
    }
   ],
   "source": [
    "this_fn()"
   ]
  },
  {
   "cell_type": "code",
   "execution_count": null,
   "metadata": {},
   "outputs": [],
   "source": []
  }
 ],
 "metadata": {
  "kernelspec": {
   "display_name": "Python 3.9.13 ('base')",
   "language": "python",
   "name": "python3"
  },
  "language_info": {
   "codemirror_mode": {
    "name": "ipython",
    "version": 3
   },
   "file_extension": ".py",
   "mimetype": "text/x-python",
   "name": "python",
   "nbconvert_exporter": "python",
   "pygments_lexer": "ipython3",
   "version": "3.9.13"
  },
  "orig_nbformat": 4,
  "vscode": {
   "interpreter": {
    "hash": "a4df7a6600e22bae99e6e8f837be5af686fd7a404512ca9c2620376f38fe7d31"
   }
  }
 },
 "nbformat": 4,
 "nbformat_minor": 2
}
