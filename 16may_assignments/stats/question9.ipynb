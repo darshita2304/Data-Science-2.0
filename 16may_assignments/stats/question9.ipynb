{
 "cells": [
  {
   "cell_type": "markdown",
   "metadata": {},
   "source": [
    "Test the hypothesis that the mean scores of all the students are the same. If not, name the\n",
    "student with the highest score."
   ]
  },
  {
   "cell_type": "code",
   "execution_count": 1,
   "metadata": {},
   "outputs": [],
   "source": [
    "import pandas as pd\n",
    "\n",
    "ds = {\"name\":[\"karan\",\"dipa\",\"kartik\",\"chandan\",\"jeevan\"],\n",
    "      \"exam1\":[85,70,90,75,95],\n",
    "      \"exam2\":[90,80,85,70,92],\n",
    "      \"finalexam\":[92,85,88,75,96]\n",
    "      }\n",
    "df = pd.DataFrame(ds)"
   ]
  },
  {
   "cell_type": "code",
   "execution_count": 9,
   "metadata": {},
   "outputs": [
    {
     "data": {
      "text/plain": [
       "Ttest_indResult(statistic=-0.06570634109109397, pvalue=0.9492239442504181)"
      ]
     },
     "execution_count": 9,
     "metadata": {},
     "output_type": "execute_result"
    }
   ],
   "source": [
    "# student need to compared based on 3 exams and sample are 6.. so we choose t-test test\n",
    "#h0 - mean score is same\n",
    "#h1 - mean score is different \n",
    "\n",
    "import scipy.stats as stats\n",
    " \n",
    "# Perform the two sample t-test with equal variances\n",
    "stats.ttest_ind(a=df[\"exam1\"], b=df[\"exam2\"])\n",
    "# p value of exam1 and exam2 test is 0.94 >0.05(significance level) so we reject null hypothesis.. mean is different of exam1 and exam2\n"
   ]
  },
  {
   "cell_type": "code",
   "execution_count": 10,
   "metadata": {},
   "outputs": [
    {
     "data": {
      "text/plain": [
       "Ttest_indResult(statistic=-0.7177652233758968, pvalue=0.49332593431273464)"
      ]
     },
     "execution_count": 10,
     "metadata": {},
     "output_type": "execute_result"
    }
   ],
   "source": [
    "stats.ttest_ind(a=df[\"exam1\"], b=df[\"finalexam\"])\n",
    "#p-value of exam1 and finalexam is 0.49 > 0.05(significance level) so we reject null hypothesis.. mean is different of exam1 and finalexam"
   ]
  },
  {
   "cell_type": "code",
   "execution_count": 11,
   "metadata": {},
   "outputs": [
    {
     "data": {
      "text/plain": [
       "Ttest_indResult(statistic=-0.7143160013770662, pvalue=0.4953430130506067)"
      ]
     },
     "execution_count": 11,
     "metadata": {},
     "output_type": "execute_result"
    }
   ],
   "source": [
    "stats.ttest_ind(a=df[\"exam2\"], b=df[\"finalexam\"])\n",
    "#p-value of exam2 and finalexam is 0.49 > 0.05(significance level) so we reject null hypothesis.. mean is different of exam2 and finalexam"
   ]
  },
  {
   "cell_type": "code",
   "execution_count": 36,
   "metadata": {},
   "outputs": [
    {
     "data": {
      "text/html": [
       "<div>\n",
       "<style scoped>\n",
       "    .dataframe tbody tr th:only-of-type {\n",
       "        vertical-align: middle;\n",
       "    }\n",
       "\n",
       "    .dataframe tbody tr th {\n",
       "        vertical-align: top;\n",
       "    }\n",
       "\n",
       "    .dataframe thead th {\n",
       "        text-align: right;\n",
       "    }\n",
       "</style>\n",
       "<table border=\"1\" class=\"dataframe\">\n",
       "  <thead>\n",
       "    <tr style=\"text-align: right;\">\n",
       "      <th></th>\n",
       "      <th>name</th>\n",
       "      <th>exam1</th>\n",
       "      <th>exam2</th>\n",
       "      <th>finalexam</th>\n",
       "    </tr>\n",
       "  </thead>\n",
       "  <tbody>\n",
       "    <tr>\n",
       "      <th>4</th>\n",
       "      <td>jeevan</td>\n",
       "      <td>95</td>\n",
       "      <td>92</td>\n",
       "      <td>96</td>\n",
       "    </tr>\n",
       "  </tbody>\n",
       "</table>\n",
       "</div>"
      ],
      "text/plain": [
       "     name  exam1  exam2  finalexam\n",
       "4  jeevan     95     92         96"
      ]
     },
     "execution_count": 36,
     "metadata": {},
     "output_type": "execute_result"
    }
   ],
   "source": [
    "# list of columns to be considered\n",
    "columns = ['exam1', 'exam2', 'finalexam']\n",
    "  \n",
    "# filtering rows on basis of certain columns\n",
    "# df = df.loc[df[columns].sum(axis=1).max()]\n",
    "m = df[columns].sum(axis=1).max()\n",
    "\n",
    "df[df[columns].sum(axis=1) == m]\n",
    "\n"
   ]
  },
  {
   "cell_type": "code",
   "execution_count": null,
   "metadata": {},
   "outputs": [],
   "source": []
  }
 ],
 "metadata": {
  "kernelspec": {
   "display_name": "base",
   "language": "python",
   "name": "python3"
  },
  "language_info": {
   "codemirror_mode": {
    "name": "ipython",
    "version": 3
   },
   "file_extension": ".py",
   "mimetype": "text/x-python",
   "name": "python",
   "nbconvert_exporter": "python",
   "pygments_lexer": "ipython3",
   "version": "3.9.13"
  },
  "orig_nbformat": 4
 },
 "nbformat": 4,
 "nbformat_minor": 2
}
