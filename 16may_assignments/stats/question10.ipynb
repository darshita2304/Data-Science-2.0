{
 "cells": [
  {
   "cell_type": "markdown",
   "metadata": {},
   "source": [
    "Q-10. A factory produces light bulbs, and the probability of a bulb being defective is 0.05.\n",
    "The factory produces a large batch of 500 light bulbs.\n",
    "a. What is the probability that exactly 20 bulbs are defective?\n",
    "b. What is the probability that at least 10 bulbs are defective?\n",
    "c. What is the probability that at max 15 bulbs are defective?\n",
    "d. On average, how many defective bulbs would you expect in a batch of 500?\n"
   ]
  },
  {
   "cell_type": "code",
   "execution_count": null,
   "metadata": {},
   "outputs": [],
   "source": [
    "n = 500\n",
    "\n",
    "sucess pobability = 0.95 -> no of bulb 500 * 0.95 -> 475\n",
    "fail =0.05 -> no of bulb is 500*0.05 = 25\n",
    "\n",
    "\n",
    "\n",
    "a. 20 buls defective \n",
    "    k = 20 \n",
    "    1 -  (20/500 ** 20) * ((1 - 20/500) ** (500 - 20))\n",
    "    \n",
    "b. at least 10 bulb are defective = 0.05 * 10 = \n",
    "\n",
    "d. 500 * 5/100 = 25 in every batch 25 bulb will be defective"
   ]
  },
  {
   "cell_type": "code",
   "execution_count": null,
   "metadata": {},
   "outputs": [],
   "source": [
    "25"
   ]
  },
  {
   "cell_type": "code",
   "execution_count": 7,
   "metadata": {},
   "outputs": [
    {
     "data": {
      "text/plain": [
       "1.0995116277760004e-48"
      ]
     },
     "execution_count": 7,
     "metadata": {},
     "output_type": "execute_result"
    }
   ],
   "source": [
    "0.004 ** 20"
   ]
  },
  {
   "cell_type": "code",
   "execution_count": 5,
   "metadata": {},
   "outputs": [
    {
     "data": {
      "text/plain": [
       "3.3993171516217233e-37"
      ]
     },
     "execution_count": 5,
     "metadata": {},
     "output_type": "execute_result"
    }
   ],
   "source": [
    "((20/500) ** 20) * ((1 - (20/500)) ** (500 - 20))"
   ]
  },
  {
   "cell_type": "code",
   "execution_count": 1,
   "metadata": {},
   "outputs": [
    {
     "name": "stdout",
     "output_type": "stream",
     "text": [
      "500 20\n",
      "a. Probability that exactly 20 bulbs are defective: 0.051616\n",
      "500 0\n",
      "500 1\n",
      "500 2\n",
      "500 3\n",
      "500 4\n",
      "500 5\n",
      "500 6\n",
      "500 7\n",
      "500 8\n",
      "500 9\n",
      "b. Probability that at least 10 bulbs are defective: 0.999832\n",
      "500 0\n",
      "500 1\n",
      "500 2\n",
      "500 3\n",
      "500 4\n",
      "500 5\n",
      "500 6\n",
      "500 7\n",
      "500 8\n",
      "500 9\n",
      "500 10\n",
      "500 11\n",
      "500 12\n",
      "500 13\n",
      "500 14\n",
      "500 15\n",
      "c. Probability that at most 15 bulbs are defective: 0.019858\n",
      "d. On average, expected defective bulbs in a batch of 500: 25.00\n"
     ]
    }
   ],
   "source": [
    "import math\n",
    "\n",
    "def binomial_coefficient(n, k):\n",
    "    # print(n,k)\n",
    "    return math.factorial(n) / (math.factorial(k) * math.factorial(n - k))\n",
    "\n",
    "def binomial_probability(n, k, p):\n",
    "    return binomial_coefficient(n, k) * (p ** k) * ((1 - p) ** (n - k))\n",
    "\n",
    "n = 500\n",
    "p = 0.05\n",
    "\n",
    "# a. Probability that exactly 20 bulbs are defective\n",
    "k_a = 20\n",
    "probability_a = binomial_probability(n, k_a, p)\n",
    "print(f\"a. Probability that exactly 20 bulbs are defective: {probability_a:.6f}\")\n",
    "\n",
    "# b. Probability that at least 10 bulbs are defective\n",
    "k_b = 9  # Less than 10\n",
    "probability_b = 1 - sum(binomial_probability(n, k, p) for k in range(k_b + 1))\n",
    "print(f\"b. Probability that at least 10 bulbs are defective: {probability_b:.6f}\")\n",
    "\n",
    "# c. Probability that at most 15 bulbs are defective\n",
    "k_c = 15\n",
    "probability_c = sum(binomial_probability(n, k, p) for k in range(k_c + 1))\n",
    "print(f\"c. Probability that at most 15 bulbs are defective: {probability_c:.6f}\")\n",
    "\n",
    "# d. On average, how many defective bulbs would you expect in a batch of 500?\n",
    "expected_defective_bulbs = n * p\n",
    "print(f\"d. On average, expected defective bulbs in a batch of 500: {expected_defective_bulbs:.2f}\")\n"
   ]
  },
  {
   "cell_type": "code",
   "execution_count": 20,
   "metadata": {},
   "outputs": [
    {
     "name": "stdout",
     "output_type": "stream",
     "text": [
      "0.002038657665252692\n",
      "0.9999999999999585\n",
      "0.21217811107635484\n"
     ]
    }
   ],
   "source": [
    "# Dynamic and Logarithm approach find probability of\n",
    "# at least k heads\n",
    "\n",
    "from math import log2\n",
    "MAX=100001\n",
    "\n",
    "# dp[i] is going to store Log ( i !) in base 2\n",
    "dp=[0]*MAX\n",
    "\n",
    "def probability( k, n):\n",
    "\n",
    "\tans = 0 # Initialize result\n",
    "\n",
    "\t# Iterate from k heads to n heads\n",
    "\tfor i in range(k,n+1):\n",
    "\n",
    "\t\tres = dp[n] - dp[i] - dp[n-i] - n\n",
    "\t\tans = ans + pow(2.0, res)\n",
    "\t\n",
    "\n",
    "\treturn ans\n",
    "\n",
    "\n",
    "def precompute():\n",
    "\n",
    "\t# Preprocess all the logarithm value on base 2\n",
    "\tfor i in range(2,MAX):\n",
    "\t\tdp[i] = log2(i) + dp[i-1]\n",
    "\n",
    "\n",
    "# Driver code\n",
    "\n",
    "precompute()\n",
    "\n",
    "\t# Probability of getting 2 head out of 3 coins\n",
    "print(probability(20, 25))\n",
    "\n",
    "\t# Probability of getting 3 head out of 6 coins\n",
    "print(probability(20, 500))\n",
    "\n",
    "\t# Probability of getting 500 head out of 10000 coins\n",
    "print(probability(15, 25))\n",
    "\n",
    "#this code is contributed by ash264\n"
   ]
  },
  {
   "cell_type": "code",
   "execution_count": null,
   "metadata": {},
   "outputs": [],
   "source": []
  }
 ],
 "metadata": {
  "kernelspec": {
   "display_name": "base",
   "language": "python",
   "name": "python3"
  },
  "language_info": {
   "codemirror_mode": {
    "name": "ipython",
    "version": 3
   },
   "file_extension": ".py",
   "mimetype": "text/x-python",
   "name": "python",
   "nbconvert_exporter": "python",
   "pygments_lexer": "ipython3",
   "version": "3.9.13"
  },
  "orig_nbformat": 4
 },
 "nbformat": 4,
 "nbformat_minor": 2
}
