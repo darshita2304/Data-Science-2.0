{
 "cells": [
  {
   "cell_type": "markdown",
   "metadata": {},
   "source": [
    "Q-10. A factory produces light bulbs, and the probability of a bulb being defective is 0.05.\n",
    "The factory produces a large batch of 500 light bulbs.\n",
    "a. What is the probability that exactly 20 bulbs are defective?\n",
    "b. What is the probability that at least 10 bulbs are defective?\n",
    "c. What is the probability that at max 15 bulbs are defective?\n",
    "d. On average, how many defective bulbs would you expect in a batch of 500?\n"
   ]
  },
  {
   "cell_type": "code",
   "execution_count": null,
   "metadata": {},
   "outputs": [],
   "source": [
    "n = 500\n",
    "\n",
    "sucess pobability = 0.95\n",
    "fail =0.05\n",
    "\n",
    "\n",
    "\n",
    "a. 20 buls defective \n",
    "    k = 20 \n",
    "    1 -  (20/500 ** 20) * ((1 - 20/500) ** (500 - 20))\n",
    "    \n",
    "b. at least 10 bulb are defective = 0.05 * 10 = \n",
    "d. 500 * 5/100 = 25 in every batch 25 bulb will be defective"
   ]
  },
  {
   "cell_type": "code",
   "execution_count": 7,
   "metadata": {},
   "outputs": [
    {
     "data": {
      "text/plain": [
       "1.0995116277760004e-48"
      ]
     },
     "execution_count": 7,
     "metadata": {},
     "output_type": "execute_result"
    }
   ],
   "source": [
    "0.004 ** 20"
   ]
  },
  {
   "cell_type": "code",
   "execution_count": 5,
   "metadata": {},
   "outputs": [
    {
     "data": {
      "text/plain": [
       "3.3993171516217233e-37"
      ]
     },
     "execution_count": 5,
     "metadata": {},
     "output_type": "execute_result"
    }
   ],
   "source": [
    "((20/500) ** 20) * ((1 - (20/500)) ** (500 - 20))"
   ]
  },
  {
   "cell_type": "code",
   "execution_count": 2,
   "metadata": {},
   "outputs": [
    {
     "name": "stdout",
     "output_type": "stream",
     "text": [
      "a. Probability that exactly 20 bulbs are defective: 0.051616\n",
      "b. Probability that at least 10 bulbs are defective: 0.999832\n",
      "c. Probability that at most 15 bulbs are defective: 0.019858\n",
      "d. On average, expected defective bulbs in a batch of 500: 25.00\n"
     ]
    }
   ],
   "source": [
    "import math\n",
    "\n",
    "def binomial_coefficient(n, k):\n",
    "    return math.factorial(n) / (math.factorial(k) * math.factorial(n - k))\n",
    "\n",
    "def binomial_probability(n, k, p):\n",
    "    return binomial_coefficient(n, k) * (p ** k) * ((1 - p) ** (n - k))\n",
    "\n",
    "n = 500\n",
    "p = 0.05\n",
    "\n",
    "# a. Probability that exactly 20 bulbs are defective\n",
    "k_a = 20\n",
    "probability_a = binomial_probability(n, k_a, p)\n",
    "print(f\"a. Probability that exactly 20 bulbs are defective: {probability_a:.6f}\")\n",
    "\n",
    "# b. Probability that at least 10 bulbs are defective\n",
    "k_b = 9  # Less than 10\n",
    "probability_b = 1 - sum(binomial_probability(n, k, p) for k in range(k_b + 1))\n",
    "print(f\"b. Probability that at least 10 bulbs are defective: {probability_b:.6f}\")\n",
    "\n",
    "# c. Probability that at most 15 bulbs are defective\n",
    "k_c = 15\n",
    "probability_c = sum(binomial_probability(n, k, p) for k in range(k_c + 1))\n",
    "print(f\"c. Probability that at most 15 bulbs are defective: {probability_c:.6f}\")\n",
    "\n",
    "# d. On average, how many defective bulbs would you expect in a batch of 500?\n",
    "expected_defective_bulbs = n * p\n",
    "print(f\"d. On average, expected defective bulbs in a batch of 500: {expected_defective_bulbs:.2f}\")\n"
   ]
  }
 ],
 "metadata": {
  "kernelspec": {
   "display_name": "base",
   "language": "python",
   "name": "python3"
  },
  "language_info": {
   "codemirror_mode": {
    "name": "ipython",
    "version": 3
   },
   "file_extension": ".py",
   "mimetype": "text/x-python",
   "name": "python",
   "nbconvert_exporter": "python",
   "pygments_lexer": "ipython3",
   "version": "3.9.13"
  },
  "orig_nbformat": 4
 },
 "nbformat": 4,
 "nbformat_minor": 2
}
