{
 "cells": [
  {
   "attachments": {},
   "cell_type": "markdown",
   "metadata": {},
   "source": [
    "Question 1: -\n",
    "Write a program that takes a string as input, and counts the frequency of each word in the string, there might\n",
    "be repeated characters in the string. Your task is to find the highest frequency and returns the length of the\n",
    "highest-frequency word.\n",
    "Note - You have to write at least 2 additional test cases in which your program will run successfully and provide\n",
    "an explanation for the same.\n",
    "Example input - string = “write write write all the number from from from 1 to 100”\n",
    "Example output - 5\n",
    "Explanation - From the given string we can note that the most frequent words are “write” and “from” and\n",
    "the maximum value of both the values is “write” and its corresponding length is 5"
   ]
  },
  {
   "cell_type": "code",
   "execution_count": 83,
   "metadata": {},
   "outputs": [
    {
     "name": "stdout",
     "output_type": "stream",
     "text": [
      "write write write write all the number froming froming froming froming 1 to 100 = 7\n",
      "write write write all the number from from from 1 to 100 = 5\n",
      "This is india hello india = 5\n"
     ]
    }
   ],
   "source": [
    "def countlongwordfreq(str):\n",
    "    searchArr = {}\n",
    "\n",
    "    for search in str.split():\n",
    "        searchArr[search] = 0\n",
    "        for val in str.split():\n",
    "            if search == val:\n",
    "                searchArr[search] += 1\n",
    "                \n",
    "    maxcount = max(searchArr.values())#finding max count \n",
    "    # print(maxcount)\n",
    "\n",
    "    arr = [key for key, value in searchArr.items() if value == maxcount]\n",
    "\n",
    "    maxcount = max(len(i) for i in arr) # finding maximum length of str\n",
    "\n",
    "    return maxcount\n",
    "           \n",
    "\n",
    "str = \"write write write write all the number froming froming froming froming 1 to 100\"\n",
    "str1 = \"write write write all the number from from from 1 to 100\"\n",
    "str2 = \"This is india hello india\"\n",
    "\n",
    "print(f\"{str} = {countlongwordfreq(str)}\")\n",
    "\n",
    "print(f\"{str1} = {countlongwordfreq(str1)}\")\n",
    "\n",
    "print(f\"{str2} = {countlongwordfreq(str2)}\")\n"
   ]
  },
  {
   "cell_type": "code",
   "execution_count": null,
   "metadata": {},
   "outputs": [],
   "source": []
  },
  {
   "cell_type": "code",
   "execution_count": null,
   "metadata": {},
   "outputs": [],
   "source": []
  }
 ],
 "metadata": {
  "kernelspec": {
   "display_name": "base",
   "language": "python",
   "name": "python3"
  },
  "language_info": {
   "codemirror_mode": {
    "name": "ipython",
    "version": 3
   },
   "file_extension": ".py",
   "mimetype": "text/x-python",
   "name": "python",
   "nbconvert_exporter": "python",
   "pygments_lexer": "ipython3",
   "version": "3.9.13"
  },
  "orig_nbformat": 4
 },
 "nbformat": 4,
 "nbformat_minor": 2
}
