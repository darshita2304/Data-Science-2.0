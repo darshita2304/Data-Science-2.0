{
 "cells": [
  {
   "attachments": {},
   "cell_type": "markdown",
   "metadata": {},
   "source": [
    "First Unique Character in a String\n",
    "\n",
    "Given a string s, find the first non-repeating character in it and return its index. If it does not exist, return -1.\n",
    "\n",
    "Example 1:\n",
    "Input: s = \"leetcode\"\n",
    "Output: 0\n",
    "\n",
    "Example 2:\n",
    "Input: s = \"loveleetcode\"\n",
    "Output: 2\n",
    "\n",
    "Example 3:\n",
    "Input: s = \"aabb\"\n",
    "Output: -1\n",
    "\n",
    "Constraints:\n",
    "a. 1 <= s.length <= 10^5\n",
    "b. s consists of only lowercase English letters.\n",
    "\n",
    "Note: Create a GitHub file for the solution and add the file link the the answer section below."
   ]
  },
  {
   "cell_type": "code",
   "execution_count": 8,
   "metadata": {},
   "outputs": [
    {
     "name": "stdout",
     "output_type": "stream",
     "text": [
      "First non-repeating character is 2\n"
     ]
    }
   ],
   "source": [
    "string = \"loveleetcode\"\n",
    "index = -1\n",
    "fnc = -1\n",
    " \n",
    "if len(string) == 0 :\n",
    "  print(\"invalid string\");\n",
    " \n",
    "for i in string:\n",
    "    if string.count(i) == 1:\n",
    "        fnc = string.index(i)\n",
    "        break\n",
    "    else:\n",
    "        index += 1\n",
    "if index == len(string)-1 :\n",
    "    print(fnc)\n",
    "else:\n",
    "    print(\"First non-repeating character is\", fnc)\n",
    " \n",
    "#// This code is contributed by aakansharao1111"
   ]
  },
  {
   "cell_type": "code",
   "execution_count": null,
   "metadata": {},
   "outputs": [],
   "source": []
  }
 ],
 "metadata": {
  "kernelspec": {
   "display_name": "base",
   "language": "python",
   "name": "python3"
  },
  "language_info": {
   "codemirror_mode": {
    "name": "ipython",
    "version": 3
   },
   "file_extension": ".py",
   "mimetype": "text/x-python",
   "name": "python",
   "nbconvert_exporter": "python",
   "pygments_lexer": "ipython3",
   "version": "3.9.13"
  },
  "orig_nbformat": 4
 },
 "nbformat": 4,
 "nbformat_minor": 2
}
