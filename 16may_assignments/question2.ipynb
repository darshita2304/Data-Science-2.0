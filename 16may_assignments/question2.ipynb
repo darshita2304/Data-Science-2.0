{
 "cells": [
  {
   "attachments": {},
   "cell_type": "markdown",
   "metadata": {},
   "source": [
    "Consider a string to be valid if all characters of the string appear the same number of times. It is also valid if\n",
    "he can remove just one character at the index in the string, and the remaining characters will occur the same\n",
    "number of times. Given a string, determine if it is valid. If so, return YES , otherwise return NO .\n",
    "Note - You have to write at least 2 additional test cases in which your program will run successfully and provide\n",
    "an explanation for the same.\n",
    "Example input 1 - s = “abc”. This is a valid string because frequencies are { “a”: 1, “b”: 1, “c”: 1 }\n",
    "Example output 1- YES\n",
    "Example input 2 - s “abcc”. This string is not valid as we can remove only 1 occurrence of “c”. That leaves\n",
    "character frequencies of { “a”: 1, “b”: 1 , “c”: 2 }\n",
    "Example output 2 - NO"
   ]
  },
  {
   "cell_type": "code",
   "execution_count": 34,
   "metadata": {},
   "outputs": [
    {
     "name": "stdout",
     "output_type": "stream",
     "text": [
      "No\n",
      "YES\n",
      "No\n"
     ]
    }
   ],
   "source": [
    "import numpy as np\n",
    "\n",
    "def validstr(str):\n",
    "    # str = \"hello\"\n",
    "    searchArr={}\n",
    "\n",
    "    # counting frequency of each letter    \n",
    "    for s in str:\n",
    "        searchArr[s] = searchArr.get(s, 0) + 1\n",
    "\n",
    "    # each letter must hv same cnt that means each only 1 value will be return..\n",
    "    cnt = np.unique(list(searchArr.values()))\n",
    "\n",
    "    if len(cnt)==1:\n",
    "        print(\"YES\")\n",
    "    else:\n",
    "        print(\"No\")\n",
    "    \n",
    "validstr(\"hello\")\n",
    "validstr(\"world\")\n",
    "validstr(\"india\")\n",
    "\n",
    "\n",
    "    "
   ]
  },
  {
   "cell_type": "code",
   "execution_count": null,
   "metadata": {},
   "outputs": [],
   "source": [
    "\n"
   ]
  }
 ],
 "metadata": {
  "kernelspec": {
   "display_name": "base",
   "language": "python",
   "name": "python3"
  },
  "language_info": {
   "codemirror_mode": {
    "name": "ipython",
    "version": 3
   },
   "file_extension": ".py",
   "mimetype": "text/x-python",
   "name": "python",
   "nbconvert_exporter": "python",
   "pygments_lexer": "ipython3",
   "version": "3.9.13"
  },
  "orig_nbformat": 4
 },
 "nbformat": 4,
 "nbformat_minor": 2
}
