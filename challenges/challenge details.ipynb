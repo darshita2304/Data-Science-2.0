{
 "cells": [
  {
   "cell_type": "code",
   "execution_count": null,
   "metadata": {},
   "outputs": [],
   "source": [
    "\n",
    "Challenge  number 1 : \n",
    "    \n",
    "1 . Got to ineuron website \n",
    "2. you have to scrap list of all the listed course name \n",
    "3. Got to a specific course one by one and then try to scrap all the curriculam and its respective details \n",
    "4. Try to create a seperate seperate PDF file for all the coursed \n",
    "5. Strore PDF file in amazong s3 bucket \n",
    "6. Strore all the course related information in mongo DB\n",
    "7. Strore all the course name data and its description in MYSQL \n",
    "8. Deploy this application on beanstack , aws and azure \n",
    "9. logging is mandatory \n",
    "10. Exception handling is nescessary \n",
    "11. modular coding is nescessary\n",
    "12. Classs and object is must \n",
    "13. Finally submit your 3 hosted URL to me and sunny along with your code base git hub link\n",
    "\n",
    "submit your code here - https://docs.google.com/forms/d/e/1FAIpQLSebZnYql31GWUWncQoTVP8i4WZWh6a7j1pa0ebLVwneFXc8ig/viewform\n",
    "    \n",
    "Deadline for submission = \n",
    "we will select one winner and winner will be awarded with - https://www.apple.com/in/shop/buy-iphone/iphone-14/6.1-inch-display-128gb-starlight?afid=p238%7CsArwof2HX-dc_mtid_187079nc38483_pcrid_622075397928_pgrid_146534441932_pntwk_g_pchan_online_pexid__&cid=aos-IN-kwgo-pla-iphone--slid---product-MPUR3HN%2FA-IN\n",
    "Challenge number 2 : \n",
    "    \n",
    "1. Go to ineuron , krish , collegewallah channel \n",
    "2. Find out how many videos are uplaoded \n",
    "3. take input  url for a perticualr video and give me below output\n",
    "    1. Video title\n",
    "    2. video Details \n",
    "    3. number of likes \n",
    "    4. person name with commnet \n",
    "4. strore all the information in a MYSQL DB (you have to design your own table mention it in your git link)\n",
    "5. logging is mandatory \n",
    "6. Exception handling is nescessary \n",
    "7. modular coding is nescessary\n",
    "8. Classs and object is must \n",
    "9. Finally submit your 3 hosted URL to me and sunny along with your code base git hub link    \n",
    "\n",
    "submit your code here - https://docs.google.com/forms/d/e/1FAIpQLSebZnYql31GWUWncQoTVP8i4WZWh6a7j1pa0ebLVwneFXc8ig/viewform\n",
    "Deadline -    19th FEB  Deadlie for code and link \n",
    "\n",
    "result announcement - 25th FEB\n",
    "\n",
    "we will select one winner and winner will be awarded with  - https://www.apple.com/in/shop/buy-iphone/iphone-14/6.1-inch-display-128gb-starlight?afid=p238%7CsArwof2HX-dc_mtid_187079nc38483_pcrid_622075397928_pgrid_146534441932_pntwk_g_pchan_online_pexid__&cid=aos-IN-kwgo-pla-iphone--slid---product-MPUR3HN%2FA-IN"
   ]
  },
  {
   "cell_type": "code",
   "execution_count": null,
   "metadata": {},
   "outputs": [],
   "source": []
  }
 ],
 "metadata": {
  "kernelspec": {
   "display_name": "Python 3.9.13 ('base')",
   "language": "python",
   "name": "python3"
  },
  "language_info": {
   "name": "python",
   "version": "3.9.13"
  },
  "orig_nbformat": 4,
  "vscode": {
   "interpreter": {
    "hash": "a4df7a6600e22bae99e6e8f837be5af686fd7a404512ca9c2620376f38fe7d31"
   }
  }
 },
 "nbformat": 4,
 "nbformat_minor": 2
}
