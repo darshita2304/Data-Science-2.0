{
 "cells": [
  {
   "cell_type": "code",
   "execution_count": null,
   "metadata": {},
   "outputs": [],
   "source": [
    "import logging\n",
    "logging.basicConfig(filename='file_calss.log', level=logging.DEBUG, filemode='w', format=\"\"\"%(asctime)s %(levelname)s %(message)s\"\"\")\n",
    "\n",
    "# for different modules...\n",
    "#import logging\n",
    "#log = logging.getLogger(__name__)\n",
    "\n",
    "def scrap_courses_details(coursename, course_id):\n",
    "    try:\n",
    "        log.info('funcation name = scrap_courses_details -> start')\n",
    "        \n",
    "        log.info('funcation name = scrap_courses_details -> end sucessful')\n",
    "    except Exception as e:\n",
    "        log.info('function name=scrap_course_details -> exception')\n",
    "        log.error(e)\n",
    "        "
   ]
  }
 ],
 "metadata": {
  "kernelspec": {
   "display_name": "base",
   "language": "python",
   "name": "python3"
  },
  "language_info": {
   "name": "python",
   "version": "3.9.13"
  },
  "orig_nbformat": 4,
  "vscode": {
   "interpreter": {
    "hash": "a4df7a6600e22bae99e6e8f837be5af686fd7a404512ca9c2620376f38fe7d31"
   }
  }
 },
 "nbformat": 4,
 "nbformat_minor": 2
}
