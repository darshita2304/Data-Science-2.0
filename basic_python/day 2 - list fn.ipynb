{
 "cells": [
  {
   "cell_type": "code",
   "execution_count": 2,
   "id": "f1899736",
   "metadata": {},
   "outputs": [],
   "source": [
    "# list of python can hv same datatype or different..\n",
    "l = ['hello',123,34.55,'adas',4+8j]"
   ]
  },
  {
   "cell_type": "code",
   "execution_count": 3,
   "id": "0aca9110",
   "metadata": {},
   "outputs": [
    {
     "data": {
      "text/plain": [
       "'hello'"
      ]
     },
     "execution_count": 3,
     "metadata": {},
     "output_type": "execute_result"
    }
   ],
   "source": [
    "l[0]"
   ]
  },
  {
   "cell_type": "code",
   "execution_count": 4,
   "id": "427ee1e5",
   "metadata": {},
   "outputs": [
    {
     "data": {
      "text/plain": [
       "['hello', 123, 34.55, 'adas']"
      ]
     },
     "execution_count": 4,
     "metadata": {},
     "output_type": "execute_result"
    }
   ],
   "source": [
    "l[0:4] #startindex:end index"
   ]
  },
  {
   "cell_type": "code",
   "execution_count": 5,
   "id": "dde583bb",
   "metadata": {},
   "outputs": [
    {
     "data": {
      "text/plain": [
       "['hello', 'adas']"
      ]
     },
     "execution_count": 5,
     "metadata": {},
     "output_type": "execute_result"
    }
   ],
   "source": [
    "l[::3]#start:end:skip steps"
   ]
  },
  {
   "cell_type": "code",
   "execution_count": 8,
   "id": "1978ac63",
   "metadata": {},
   "outputs": [
    {
     "data": {
      "text/plain": [
       "[(4+8j)]"
      ]
     },
     "execution_count": 8,
     "metadata": {},
     "output_type": "execute_result"
    }
   ],
   "source": [
    "l[-1:6]#reverse index:end"
   ]
  },
  {
   "cell_type": "code",
   "execution_count": 6,
   "id": "c25224a6",
   "metadata": {},
   "outputs": [
    {
     "data": {
      "text/plain": [
       "'hello'"
      ]
     },
     "execution_count": 6,
     "metadata": {},
     "output_type": "execute_result"
    }
   ],
   "source": [
    "l[0]"
   ]
  },
  {
   "cell_type": "code",
   "execution_count": 11,
   "id": "df5ad6b0",
   "metadata": {},
   "outputs": [
    {
     "data": {
      "text/plain": [
       "'e'"
      ]
     },
     "execution_count": 11,
     "metadata": {},
     "output_type": "execute_result"
    }
   ],
   "source": [
    "l[0][1]#0th index 1st substring"
   ]
  },
  {
   "cell_type": "code",
   "execution_count": 12,
   "id": "cb7b810f",
   "metadata": {},
   "outputs": [
    {
     "data": {
      "text/plain": [
       "float"
      ]
     },
     "execution_count": 12,
     "metadata": {},
     "output_type": "execute_result"
    }
   ],
   "source": [
    "type(l[4])#type of 4th element"
   ]
  },
  {
   "cell_type": "code",
   "execution_count": 15,
   "id": "e33b444a",
   "metadata": {},
   "outputs": [],
   "source": [
    "l.insert(2,\"hello\")"
   ]
  },
  {
   "cell_type": "code",
   "execution_count": 10,
   "id": "8f05f114",
   "metadata": {},
   "outputs": [
    {
     "name": "stdout",
     "output_type": "stream",
     "text": [
      "['hello', 123, 'hello', 34.55, 'adas', (4+8j)]\n"
     ]
    }
   ],
   "source": [
    "print(l)"
   ]
  },
  {
   "cell_type": "code",
   "execution_count": 16,
   "id": "b5eb10c7",
   "metadata": {},
   "outputs": [
    {
     "name": "stdout",
     "output_type": "stream",
     "text": [
      "['hello', 123, 'hello', 'hello', 'hello', 'hello', 'hello', 34.55, 'adas', (4+8j), 'end']\n"
     ]
    }
   ],
   "source": [
    "l.append(\"end\") # append string at the end..\n",
    "print(l)"
   ]
  },
  {
   "cell_type": "code",
   "execution_count": 10,
   "id": "ff757845",
   "metadata": {},
   "outputs": [
    {
     "name": "stdout",
     "output_type": "stream",
     "text": [
      "['hello', 123, [1, 2, 3, 4], 'hello', 34.55, 'adas', (4+8j), 'end', 'end']\n"
     ]
    }
   ],
   "source": [
    "l.insert(2, [1,2,3,4]) # append list at 2nd position\n",
    "print(l)"
   ]
  },
  {
   "cell_type": "code",
   "execution_count": 17,
   "id": "90518425",
   "metadata": {},
   "outputs": [],
   "source": [
    " # fetch from last"
   ]
  },
  {
   "cell_type": "code",
   "execution_count": 12,
   "id": "93265ab4",
   "metadata": {},
   "outputs": [
    {
     "data": {
      "text/plain": [
       "'end'"
      ]
     },
     "execution_count": 12,
     "metadata": {},
     "output_type": "execute_result"
    }
   ],
   "source": [
    "l.pop() #2nd fetch from last"
   ]
  },
  {
   "cell_type": "code",
   "execution_count": 18,
   "id": "d83b338a",
   "metadata": {},
   "outputs": [
    {
     "data": {
      "text/plain": [
       "['end',\n",
       " (4+8j),\n",
       " 'adas',\n",
       " 34.55,\n",
       " 'hello',\n",
       " 'hello',\n",
       " 'hello',\n",
       " 'hello',\n",
       " 'hello',\n",
       " 123,\n",
       " 'hello']"
      ]
     },
     "execution_count": 18,
     "metadata": {},
     "output_type": "execute_result"
    }
   ],
   "source": [
    " l[::-1] #reverse list"
   ]
  },
  {
   "cell_type": "code",
   "execution_count": 16,
   "id": "17864450",
   "metadata": {},
   "outputs": [
    {
     "name": "stdout",
     "output_type": "stream",
     "text": [
      "['hello', 123, [1, 2, 3, 4], 'hello', 34.55, 'adas', (4+8j)]\n"
     ]
    }
   ],
   "source": [
    "l.reverse() \n",
    "print(l)"
   ]
  },
  {
   "cell_type": "code",
   "execution_count": 19,
   "id": "7a00dc93",
   "metadata": {},
   "outputs": [
    {
     "data": {
      "text/plain": [
       "'l'"
      ]
     },
     "execution_count": 19,
     "metadata": {},
     "output_type": "execute_result"
    }
   ],
   "source": [
    "l[2][2] # 3nd row 3rd column"
   ]
  },
  {
   "cell_type": "code",
   "execution_count": 20,
   "id": "096189d4",
   "metadata": {},
   "outputs": [
    {
     "data": {
      "text/plain": [
       "6"
      ]
     },
     "execution_count": 20,
     "metadata": {},
     "output_type": "execute_result"
    }
   ],
   "source": [
    "l.count('hello') #'hello' appear 2 times"
   ]
  },
  {
   "cell_type": "code",
   "execution_count": 21,
   "id": "8783ab2b",
   "metadata": {},
   "outputs": [
    {
     "data": {
      "text/plain": [
       "['hello',\n",
       " 123,\n",
       " [1, 2, 3, 4],\n",
       " 'hello',\n",
       " 34.55,\n",
       " 'adas',\n",
       " (4+8j),\n",
       " [55, 66],\n",
       " [55, 66],\n",
       " [55, 66]]"
      ]
     },
     "execution_count": 21,
     "metadata": {},
     "output_type": "execute_result"
    }
   ],
   "source": [
    "l.append([55,66]) # insert an element with list at last\n",
    "l"
   ]
  },
  {
   "cell_type": "code",
   "execution_count": 21,
   "id": "9bccfe06",
   "metadata": {},
   "outputs": [
    {
     "data": {
      "text/plain": [
       "['hello',\n",
       " 123,\n",
       " 'hello',\n",
       " 'hello',\n",
       " 'hello',\n",
       " 'hello',\n",
       " 'hello',\n",
       " 34.55,\n",
       " 'adas',\n",
       " (4+8j),\n",
       " 'end',\n",
       " 22,\n",
       " 33,\n",
       " 44]"
      ]
     },
     "execution_count": 21,
     "metadata": {},
     "output_type": "execute_result"
    }
   ],
   "source": [
    "l.extend([22,33,44]) # concat the list...\n",
    "l"
   ]
  },
  {
   "cell_type": "code",
   "execution_count": 22,
   "id": "cc39e918",
   "metadata": {},
   "outputs": [
    {
     "data": {
      "text/plain": [
       "['hello',\n",
       " 123,\n",
       " 'hello',\n",
       " 'hello',\n",
       " 'hello',\n",
       " 'hello',\n",
       " 'hello',\n",
       " 34.55,\n",
       " 'adas',\n",
       " (4+8j),\n",
       " 'end',\n",
       " 22,\n",
       " 33,\n",
       " 44]"
      ]
     },
     "execution_count": 22,
     "metadata": {},
     "output_type": "execute_result"
    }
   ],
   "source": [
    "l"
   ]
  },
  {
   "cell_type": "code",
   "execution_count": 24,
   "id": "289aaee9",
   "metadata": {},
   "outputs": [
    {
     "name": "stdout",
     "output_type": "stream",
     "text": [
      "0 hello\n",
      "2 hello\n",
      "4 hello\n",
      "6 hello\n",
      "8 adas\n",
      "10 end\n",
      "12 33\n"
     ]
    }
   ],
   "source": [
    "for i in range(0,len(l),2):# range(start,end,skip by 2)\n",
    "    print(i, l[i])"
   ]
  },
  {
   "cell_type": "code",
   "execution_count": 25,
   "id": "e830bd8a",
   "metadata": {},
   "outputs": [
    {
     "name": "stdout",
     "output_type": "stream",
     "text": [
      "-1 44\n",
      "-2 33\n",
      "-3 22\n",
      "-4 end\n",
      "-5 (4+8j)\n",
      "-6 adas\n",
      "-7 34.55\n",
      "-8 hello\n",
      "-9 hello\n",
      "-10 hello\n",
      "-11 hello\n",
      "-12 hello\n",
      "-13 123\n",
      "-14 hello\n"
     ]
    }
   ],
   "source": [
    "for i in range(-1,-len(l)-1,-1):# reverse lis print(start,end,skip by -1)\n",
    "    print(i, l[i])"
   ]
  },
  {
   "cell_type": "code",
   "execution_count": 4,
   "id": "8fbe1f8a",
   "metadata": {},
   "outputs": [],
   "source": [
    "list1 = [1,2,3]\n",
    "list2 = [4,5,6]"
   ]
  },
  {
   "cell_type": "code",
   "execution_count": 2,
   "id": "08313a47",
   "metadata": {},
   "outputs": [
    {
     "data": {
      "text/plain": [
       "[1, 2, 3, 4, 5, 6]"
      ]
     },
     "execution_count": 2,
     "metadata": {},
     "output_type": "execute_result"
    }
   ],
   "source": [
    "list1+list2"
   ]
  },
  {
   "cell_type": "code",
   "execution_count": 3,
   "id": "aecd4b71",
   "metadata": {},
   "outputs": [
    {
     "ename": "TypeError",
     "evalue": "can't multiply sequence by non-int of type 'list'",
     "output_type": "error",
     "traceback": [
      "\u001b[1;31m---------------------------------------------------------------------------\u001b[0m",
      "\u001b[1;31mTypeError\u001b[0m                                 Traceback (most recent call last)",
      "\u001b[1;32m~\\AppData\\Local\\Temp\\ipykernel_5380\\1489627634.py\u001b[0m in \u001b[0;36m<module>\u001b[1;34m\u001b[0m\n\u001b[1;32m----> 1\u001b[1;33m \u001b[0mlist1\u001b[0m\u001b[1;33m*\u001b[0m\u001b[0mlist2\u001b[0m\u001b[1;33m\u001b[0m\u001b[1;33m\u001b[0m\u001b[0m\n\u001b[0m",
      "\u001b[1;31mTypeError\u001b[0m: can't multiply sequence by non-int of type 'list'"
     ]
    }
   ],
   "source": [
    "list1*list2"
   ]
  },
  {
   "cell_type": "code",
   "execution_count": 5,
   "id": "2de6a174",
   "metadata": {},
   "outputs": [
    {
     "data": {
      "text/plain": [
       "[1, 2, 3, 1, 2, 3]"
      ]
     },
     "execution_count": 5,
     "metadata": {},
     "output_type": "execute_result"
    }
   ],
   "source": [
    "list1*2 # repeat it 2 times.\n"
   ]
  },
  {
   "cell_type": "code",
   "execution_count": 6,
   "id": "5a07a464",
   "metadata": {},
   "outputs": [],
   "source": [
    "list3 = list() # to represent empty list... [] is not recomonded"
   ]
  },
  {
   "cell_type": "code",
   "execution_count": 8,
   "id": "b8d64d70",
   "metadata": {},
   "outputs": [
    {
     "data": {
      "text/plain": [
       "0"
      ]
     },
     "execution_count": 8,
     "metadata": {},
     "output_type": "execute_result"
    }
   ],
   "source": [
    "list3 = []\n",
    "len(list3)"
   ]
  },
  {
   "cell_type": "code",
   "execution_count": 3,
   "id": "aaae189d",
   "metadata": {},
   "outputs": [
    {
     "name": "stdout",
     "output_type": "stream",
     "text": [
      "['hello', 'this', 'is ', 'isndia', 'hi']\n"
     ]
    }
   ],
   "source": [
    "litems = list()\n",
    "for i in range(5):\n",
    "    user_input = input(\"enter items:\")\n",
    "    litems = litems + [user_input]\n",
    "    #litems.append(user_input)\n",
    "\n",
    "print(litems)"
   ]
  },
  {
   "cell_type": "code",
   "execution_count": 5,
   "id": "b170b909",
   "metadata": {},
   "outputs": [
    {
     "data": {
      "text/plain": [
       "[1, 2, 3]"
      ]
     },
     "execution_count": 5,
     "metadata": {},
     "output_type": "execute_result"
    }
   ],
   "source": [
    "list1"
   ]
  },
  {
   "cell_type": "code",
   "execution_count": 6,
   "id": "25541585",
   "metadata": {},
   "outputs": [
    {
     "data": {
      "text/plain": [
       "3"
      ]
     },
     "execution_count": 6,
     "metadata": {},
     "output_type": "execute_result"
    }
   ],
   "source": [
    "max(list1)"
   ]
  },
  {
   "cell_type": "code",
   "execution_count": 7,
   "id": "e7f6a0bd",
   "metadata": {},
   "outputs": [
    {
     "data": {
      "text/plain": [
       "'c'"
      ]
     },
     "execution_count": 7,
     "metadata": {},
     "output_type": "execute_result"
    }
   ],
   "source": [
    "list2= ['a','b','c']\n",
    "max(list2)"
   ]
  },
  {
   "cell_type": "code",
   "execution_count": 8,
   "id": "91dbda99",
   "metadata": {},
   "outputs": [
    {
     "data": {
      "text/plain": [
       "'a'"
      ]
     },
     "execution_count": 8,
     "metadata": {},
     "output_type": "execute_result"
    }
   ],
   "source": [
    "min(list2)"
   ]
  },
  {
   "cell_type": "code",
   "execution_count": 9,
   "id": "ad9cb3a1",
   "metadata": {},
   "outputs": [],
   "source": [
    "list2.append('aa')"
   ]
  },
  {
   "cell_type": "code",
   "execution_count": 10,
   "id": "38d2b822",
   "metadata": {},
   "outputs": [
    {
     "data": {
      "text/plain": [
       "['a', 'b', 'c', 'aa']"
      ]
     },
     "execution_count": 10,
     "metadata": {},
     "output_type": "execute_result"
    }
   ],
   "source": [
    "list2"
   ]
  },
  {
   "cell_type": "code",
   "execution_count": 11,
   "id": "85a2cf42",
   "metadata": {},
   "outputs": [
    {
     "data": {
      "text/plain": [
       "['a', 'b', 'c', 'aa', ['abc']]"
      ]
     },
     "execution_count": 11,
     "metadata": {},
     "output_type": "execute_result"
    }
   ],
   "source": [
    "list2.append(['abc']) # append as list\n",
    "list2"
   ]
  },
  {
   "cell_type": "code",
   "execution_count": 13,
   "id": "020e7668",
   "metadata": {},
   "outputs": [
    {
     "data": {
      "text/plain": [
       "['a', 'b', 'c', 'aa', ['abc'], 'abc']"
      ]
     },
     "execution_count": 13,
     "metadata": {},
     "output_type": "execute_result"
    }
   ],
   "source": [
    "list2 = list2 + ['abc'] # append as single element\n",
    "list2"
   ]
  },
  {
   "cell_type": "code",
   "execution_count": 14,
   "id": "c46e8540",
   "metadata": {},
   "outputs": [
    {
     "data": {
      "text/plain": [
       "'abc'"
      ]
     },
     "execution_count": 14,
     "metadata": {},
     "output_type": "execute_result"
    }
   ],
   "source": [
    "list2.pop() #fetch last element and remove from list"
   ]
  },
  {
   "cell_type": "code",
   "execution_count": 15,
   "id": "915390bb",
   "metadata": {},
   "outputs": [
    {
     "data": {
      "text/plain": [
       "['a', 'b', 'c', 'aa', ['abc']]"
      ]
     },
     "execution_count": 15,
     "metadata": {},
     "output_type": "execute_result"
    }
   ],
   "source": [
    "list2"
   ]
  },
  {
   "cell_type": "code",
   "execution_count": 16,
   "id": "0ac43150",
   "metadata": {},
   "outputs": [
    {
     "data": {
      "text/plain": [
       "[1, 2, 3]"
      ]
     },
     "execution_count": 16,
     "metadata": {},
     "output_type": "execute_result"
    }
   ],
   "source": [
    "sorted(list1) #only sort it and return.. assignment need to do"
   ]
  },
  {
   "cell_type": "code",
   "execution_count": 17,
   "id": "57d10dc0",
   "metadata": {},
   "outputs": [
    {
     "data": {
      "text/plain": [
       "[3, 2, 1]"
      ]
     },
     "execution_count": 17,
     "metadata": {},
     "output_type": "execute_result"
    }
   ],
   "source": [
    "list1[::-1]# descending order.. no assignement\n",
    "\n",
    "list1.reverse() # self assignment with reverse"
   ]
  },
  {
   "cell_type": "code",
   "execution_count": 19,
   "id": "49ac0147",
   "metadata": {},
   "outputs": [
    {
     "data": {
      "text/plain": [
       "[1, 2, 3]"
      ]
     },
     "execution_count": 19,
     "metadata": {},
     "output_type": "execute_result"
    }
   ],
   "source": [
    "list1.sort() #sort and assigned\n",
    "list1"
   ]
  },
  {
   "cell_type": "code",
   "execution_count": 20,
   "id": "03d376a0",
   "metadata": {},
   "outputs": [
    {
     "data": {
      "text/plain": [
       "[[1, 2, 3], [11, 22, 33], [44, 55, 66]]"
      ]
     },
     "execution_count": 20,
     "metadata": {},
     "output_type": "execute_result"
    }
   ],
   "source": [
    "#nested list\n",
    "\n",
    "a = [[1,2,3],[11,22,33],[44,55,66]]\n",
    "a"
   ]
  },
  {
   "cell_type": "code",
   "execution_count": 21,
   "id": "47e9a1bd",
   "metadata": {},
   "outputs": [
    {
     "data": {
      "text/plain": [
       "[1, 2, 3]"
      ]
     },
     "execution_count": 21,
     "metadata": {},
     "output_type": "execute_result"
    }
   ],
   "source": [
    "a[0]\n"
   ]
  },
  {
   "cell_type": "code",
   "execution_count": 22,
   "id": "75dff111",
   "metadata": {},
   "outputs": [
    {
     "data": {
      "text/plain": [
       "3"
      ]
     },
     "execution_count": 22,
     "metadata": {},
     "output_type": "execute_result"
    }
   ],
   "source": [
    "a[0][2]"
   ]
  },
  {
   "cell_type": "code",
   "execution_count": 23,
   "id": "f9984b64",
   "metadata": {},
   "outputs": [
    {
     "data": {
      "text/plain": [
       "'hello'"
      ]
     },
     "execution_count": 23,
     "metadata": {},
     "output_type": "execute_result"
    }
   ],
   "source": [
    "a = [[1,2,3],[11,22,33],[44,55,66,['hello','this',3]]]\n",
    "\n",
    "a[2][3][0]"
   ]
  },
  {
   "cell_type": "code",
   "execution_count": 25,
   "id": "8d9ae3ab",
   "metadata": {},
   "outputs": [
    {
     "name": "stdout",
     "output_type": "stream",
     "text": [
      "65000\n",
      "65000\n"
     ]
    }
   ],
   "source": [
    "cart = [['watch',5000],['phone',10000],['laptop',50000]]\n",
    "\n",
    "total = 0\n",
    "\n",
    "for i in range(len(cart)):\n",
    "    total = total + cart[i][1]\n",
    "\n",
    "print(total)\n",
    "\n",
    "sum = 0\n",
    "## other type of for loop\n",
    "for item in cart:\n",
    "    #item[0]// name of product\n",
    "    #item[1]// price of product\n",
    "    sum = sum+item[1]\n",
    "\n",
    "print(sum)"
   ]
  },
  {
   "cell_type": "code",
   "execution_count": 26,
   "id": "f2fc4f7f",
   "metadata": {},
   "outputs": [],
   "source": [
    "# find square of given list\n",
    "\n",
    "a = [1,2,3,4,5]\n",
    "\n",
    "ans = [ele ** 2 for ele in a] # one line for loop"
   ]
  },
  {
   "cell_type": "code",
   "execution_count": 27,
   "id": "bead9669",
   "metadata": {},
   "outputs": [
    {
     "data": {
      "text/plain": [
       "[1, 4, 9, 16, 25]"
      ]
     },
     "execution_count": 27,
     "metadata": {},
     "output_type": "execute_result"
    }
   ],
   "source": [
    "ans"
   ]
  },
  {
   "cell_type": "code",
   "execution_count": 31,
   "id": "4e7ab82d",
   "metadata": {},
   "outputs": [
    {
     "data": {
      "text/plain": [
       "[1, 2, 3, [11, 22, 33]]"
      ]
     },
     "execution_count": 31,
     "metadata": {},
     "output_type": "execute_result"
    }
   ],
   "source": [
    "a = [1,2,3]\n",
    "b = [11,22,33]\n",
    "\n",
    "a.append(b)\n",
    "\n",
    "a"
   ]
  },
  {
   "cell_type": "code",
   "execution_count": 32,
   "id": "0216c9e6",
   "metadata": {},
   "outputs": [
    {
     "data": {
      "text/plain": [
       "[11, 22, 33, 1, 2, 3, [...]]"
      ]
     },
     "execution_count": 32,
     "metadata": {},
     "output_type": "execute_result"
    }
   ],
   "source": [
    "b.extend(a)\n",
    "b"
   ]
  },
  {
   "cell_type": "code",
   "execution_count": 2,
   "id": "27ec50d8",
   "metadata": {},
   "outputs": [
    {
     "data": {
      "text/plain": [
       "5"
      ]
     },
     "execution_count": 2,
     "metadata": {},
     "output_type": "execute_result"
    }
   ],
   "source": [
    "str1 = [12,2,3,4,'abc','hi',1+3j]\n",
    "\n",
    "str1.index('hi')"
   ]
  },
  {
   "cell_type": "code",
   "execution_count": 4,
   "id": "9ca94e65",
   "metadata": {},
   "outputs": [
    {
     "name": "stdout",
     "output_type": "stream",
     "text": [
      "its a integere at 0 and <class 'int'>\n",
      "its a integere at 1 and <class 'int'>\n",
      "its a integere at 2 and <class 'int'>\n",
      "its a integere at 3 and <class 'int'>\n",
      "its a String at 4 and <class 'str'>\n",
      "its a String at 5 and <class 'str'>\n",
      "its a complex at 6\n"
     ]
    }
   ],
   "source": [
    "for ele in str1:\n",
    "    if type(ele) == str:\n",
    "        print(f\"its a String at {str1.index(ele)} and {type(ele)}\")\n",
    "    elif type(ele) is int:\n",
    "        print(f\"its a integere at {str1.index(ele)} and {type(ele)}\")\n",
    "    elif type(ele) is complex:\n",
    "        print(f\"its a complex at {str1.index(ele)}\")\n",
    "    else:\n",
    "        print(f\"i dont know and {type(ele)}\")     "
   ]
  },
  {
   "cell_type": "code",
   "execution_count": 5,
   "id": "5145419c",
   "metadata": {},
   "outputs": [
    {
     "name": "stdout",
     "output_type": "stream",
     "text": [
      "It's an Integer\n",
      "It's an Integer\n",
      "It's an Integer\n",
      "It's an Integer\n",
      "It's an string\n",
      "It's an string\n"
     ]
    }
   ],
   "source": [
    "for element in str1:\n",
    "    if isinstance(element, int):\n",
    "        print(\"It's an Integer\")\n",
    "    if isinstance(element, str):\n",
    "        print(\"It's an string\")\n",
    "    if isinstance(element, float):\n",
    "        print(\"It's an floating number\")"
   ]
  },
  {
   "cell_type": "code",
   "execution_count": 7,
   "id": "c3a8da09",
   "metadata": {},
   "outputs": [
    {
     "data": {
      "text/plain": [
       "[(1+3j)]"
      ]
     },
     "execution_count": 7,
     "metadata": {},
     "output_type": "execute_result"
    }
   ],
   "source": [
    "ans = [ele for ele in str1 if type(ele)==complex]\n",
    "ans"
   ]
  },
  {
   "cell_type": "code",
   "execution_count": 8,
   "id": "b0f123ee",
   "metadata": {},
   "outputs": [
    {
     "data": {
      "text/plain": [
       "2"
      ]
     },
     "execution_count": 8,
     "metadata": {},
     "output_type": "execute_result"
    }
   ],
   "source": [
    "a = [1,2,3,[4,5,6],7,8,9]\n",
    "a.index(3)# 3 is present at 2nd position"
   ]
  },
  {
   "cell_type": "code",
   "execution_count": 9,
   "id": "aaf88453",
   "metadata": {},
   "outputs": [
    {
     "ename": "ValueError",
     "evalue": "4 is not in list",
     "output_type": "error",
     "traceback": [
      "\u001b[1;31m---------------------------------------------------------------------------\u001b[0m",
      "\u001b[1;31mValueError\u001b[0m                                Traceback (most recent call last)",
      "\u001b[1;32m~\\AppData\\Local\\Temp\\ipykernel_4180\\980161761.py\u001b[0m in \u001b[0;36m<module>\u001b[1;34m\u001b[0m\n\u001b[1;32m----> 1\u001b[1;33m \u001b[0ma\u001b[0m\u001b[1;33m.\u001b[0m\u001b[0mindex\u001b[0m\u001b[1;33m(\u001b[0m\u001b[1;36m4\u001b[0m\u001b[1;33m)\u001b[0m \u001b[1;31m# it will not found bcas 4 is not present as an elemnt in list\u001b[0m\u001b[1;33m\u001b[0m\u001b[1;33m\u001b[0m\u001b[0m\n\u001b[0m",
      "\u001b[1;31mValueError\u001b[0m: 4 is not in list"
     ]
    }
   ],
   "source": [
    "a.index(4) \n",
    "# it will not found bcas 4 is not present as an elemnt in list"
   ]
  },
  {
   "cell_type": "code",
   "execution_count": 10,
   "id": "1d8dba39",
   "metadata": {},
   "outputs": [
    {
     "data": {
      "text/plain": [
       "0"
      ]
     },
     "execution_count": 10,
     "metadata": {},
     "output_type": "execute_result"
    }
   ],
   "source": [
    "a[3].index(4) # u need to find within 3rd elemnt as list"
   ]
  },
  {
   "cell_type": "code",
   "execution_count": 12,
   "id": "51b12cf7",
   "metadata": {},
   "outputs": [
    {
     "data": {
      "text/plain": [
       "[1, 2, 3, [4, 5, 6], 7, 8, 9, 45, 45]"
      ]
     },
     "execution_count": 12,
     "metadata": {},
     "output_type": "execute_result"
    }
   ],
   "source": [
    "a.append(45) # bydefault append at the end...\n",
    "a"
   ]
  },
  {
   "cell_type": "code",
   "execution_count": 14,
   "id": "1655d16c",
   "metadata": {},
   "outputs": [
    {
     "data": {
      "text/plain": [
       "[1, 2, 3, [4, 5, 6], 7, 8, '55', '45', 9, 45, 45]"
      ]
     },
     "execution_count": 14,
     "metadata": {},
     "output_type": "execute_result"
    }
   ],
   "source": [
    "a.insert(6,'55') # at particluar position\n",
    "a"
   ]
  },
  {
   "cell_type": "code",
   "execution_count": 15,
   "id": "865b6164",
   "metadata": {},
   "outputs": [],
   "source": [
    "a.insert(20000,'as') # out o findex... at the end by default"
   ]
  },
  {
   "cell_type": "code",
   "execution_count": 16,
   "id": "e5b102d0",
   "metadata": {},
   "outputs": [
    {
     "data": {
      "text/plain": [
       "[1, 2, 3, [4, 5, 6], 7, 8, '55', '45', 9, 45, 45, 'as']"
      ]
     },
     "execution_count": 16,
     "metadata": {},
     "output_type": "execute_result"
    }
   ],
   "source": [
    "a"
   ]
  },
  {
   "cell_type": "code",
   "execution_count": 17,
   "id": "03092b4f",
   "metadata": {},
   "outputs": [
    {
     "data": {
      "text/plain": [
       "['as', 1, 2, 3, [4, 5, 6], 7, 8, '55', '45', 9, 45, 45, 'as']"
      ]
     },
     "execution_count": 17,
     "metadata": {},
     "output_type": "execute_result"
    }
   ],
   "source": [
    "a.insert(-20000,'as') # at first \n",
    "a"
   ]
  },
  {
   "cell_type": "code",
   "execution_count": 18,
   "id": "9242ec1c",
   "metadata": {},
   "outputs": [],
   "source": [
    "a.remove('as') # remove 1st accurance of ele"
   ]
  },
  {
   "cell_type": "code",
   "execution_count": 19,
   "id": "dadaf97d",
   "metadata": {},
   "outputs": [
    {
     "data": {
      "text/plain": [
       "[1, 2, 3, [4, 5, 6], 7, 8, '55', '45', 9, 45, 45, 'as']"
      ]
     },
     "execution_count": 19,
     "metadata": {},
     "output_type": "execute_result"
    }
   ],
   "source": [
    "a"
   ]
  }
 ],
 "metadata": {
  "kernelspec": {
   "display_name": "Python 3.9.13 ('base')",
   "language": "python",
   "name": "python3"
  },
  "language_info": {
   "codemirror_mode": {
    "name": "ipython",
    "version": 3
   },
   "file_extension": ".py",
   "mimetype": "text/x-python",
   "name": "python",
   "nbconvert_exporter": "python",
   "pygments_lexer": "ipython3",
   "version": "3.9.13"
  },
  "vscode": {
   "interpreter": {
    "hash": "a4df7a6600e22bae99e6e8f837be5af686fd7a404512ca9c2620376f38fe7d31"
   }
  }
 },
 "nbformat": 4,
 "nbformat_minor": 5
}
