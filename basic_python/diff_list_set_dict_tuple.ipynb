{
 "cells": [
  {
   "cell_type": "code",
   "execution_count": null,
   "metadata": {},
   "outputs": [],
   "source": [
    "l = [2,3,4,5,6,7,8] # list - mutable\n",
    "t = (2,3,4,5,7,6) #tuple -  immutable\n",
    "s = {3,4,5,6,7,8} # sets - ds which  remove all duplicate\n",
    "\n",
    "# what is dictionary\n",
    "\"\"\" key and values will be stored which will not hv repeated\n",
    "data within it.. u can create it by { } \n",
    "\n",
    "bydefault python understand python dict by {} but by values\n",
    "it will decide whether it is set or dic\"\"\"\n",
    "\n",
    "d = {'key':'value','key1':[1,2,3,4]}\n",
    "\n",
    "\"\"\"key value with nested data in json format is called dataframes..\"\"\"\n",
    "\n",
    "df = {\"props\":\n",
    "    {\"pageProps\":\n",
    "        {\"initialState\":\n",
    "            {\"auth\":\n",
    "                {\"isLoggedIn\":False,\"user\":{},\"isInitialCheckDone\":False},\n",
    "                \"init\":\n",
    "                    {\"categories\":\n",
    "                        {\"62cd958353f5fe61566b9ae4\":\n",
    "                            {\"title\":\"DATA SCIENCE\",\n",
    "                                \"subCategories\":\n",
    "                                    {\"62cd959d53f5fe14766b9ae5\":{\"title\":\"FULL STACK DATA SCIENCE\",\"id\":\"62cd959d53f5fe14766b9ae5\"},\n",
    "                                    \n",
    "                                    \"62cd95a953f5fe3dc56b9ae6\":{\"title\":\"PYTHON\",\"id\":\"62cd95a953f5fe3dc56b9ae6\"},\n",
    "                                    \n",
    "                                    \"62cd95b453f5fe0a5c6b9ae7\":{\"title\":\"PYTHON PROJECT\",\"id\":\"62cd95b453f5fe0a5c6b9ae7\"},\n",
    "                                    \n",
    "                                    \"62cd95be53f5fe3b956b9ae8\":{\"title\":\"PYTHON INTERVIEW\",\"id\":\"62cd95be53f5fe3b956b9ae8\"},\n",
    "                                    \n",
    "                                    \"62cd95c753f5fe3cc16b9ae9\":{\"title\":\"STATS\",\"id\":\"62cd95c753f5fe3cc16b9ae9\"},\n",
    "                                    \n",
    "                                    \"62cd969753f5fe6d666b9afa\":{\"title\":\"MLOPS PROJECT\",\"id\":\"62cd969753f5fe6d666b9afa\"},\n",
    "                                    \n",
    "                                    \"62cd96a053f5fe55126b9afb\":{\"title\":\"MLOPS INTERVIEW PREPARATION\",\"id\":\"62cd96a053f5fe55126b9afb\"}\n",
    "                                }\n",
    "                            },\n",
    "                                    \n",
    "                        \"62cd96ce53f5fe49c46b9afc\":\n",
    "                            {\"title\":\"BIG DATA\",\n",
    "                                \"subCategories\":\n",
    "                                    {\"62cd971353f5fe38df6b9afd\":{\"title\":\"BIG DATA MASTERS\",\"id\":\"62cd971353f5fe38df6b9afd\"},\n",
    "\n",
    "                                        \"62cd972153f5fe08c46b9afe\":{\"title\":\"TECH STACK\",\"id\":\"62cd972153f5fe08c46b9afe\"},\n",
    "                                    }\n",
    "                            }\n",
    "                        }\n",
    "                    }\n",
    "            }\n",
    "        }\n",
    "    }\n",
    "} "
   ]
  },
  {
   "cell_type": "code",
   "execution_count": null,
   "metadata": {},
   "outputs": [],
   "source": [
    "# A set is an unordered collection of elements without duplicate entries.\n",
    "# When printed, iterated or converted into a sequence, its elements will appear in an arbitrary order.\n",
    "def average(array):\n",
    "    new_a = set(array)\n",
    "    \n",
    "    avg = float(sum(new_a)/len(new_a))\n",
    "    return avg\n",
    "\n",
    "if __name__ == '__main__':\n",
    "    n = int(input())\n",
    "    arr = list(map(int, input().split()))\n",
    "    result = average(arr)\n",
    "    print(result)"
   ]
  }
 ],
 "metadata": {
  "kernelspec": {
   "display_name": "Python 3.9.13 ('base')",
   "language": "python",
   "name": "python3"
  },
  "language_info": {
   "name": "python",
   "version": "3.9.13"
  },
  "orig_nbformat": 4,
  "vscode": {
   "interpreter": {
    "hash": "a4df7a6600e22bae99e6e8f837be5af686fd7a404512ca9c2620376f38fe7d31"
   }
  }
 },
 "nbformat": 4,
 "nbformat_minor": 2
}
