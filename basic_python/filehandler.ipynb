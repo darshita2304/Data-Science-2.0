{
 "cells": [
  {
   "cell_type": "code",
   "execution_count": 2,
   "metadata": {},
   "outputs": [],
   "source": [
    "# if file is not present\n",
    "f = open('sample.txt', 'w')\n",
    "f.write('hello world')\n",
    "f.close()"
   ]
  },
  {
   "cell_type": "code",
   "execution_count": 3,
   "metadata": {},
   "outputs": [],
   "source": [
    "#open already exist...\n",
    "f = open('sample.txt', 'w')\n",
    "f.write('abc') # this will overwrite\n",
    "f.close()"
   ]
  },
  {
   "cell_type": "code",
   "execution_count": 4,
   "metadata": {},
   "outputs": [],
   "source": [
    "# dont overwrite..\n",
    "#append text\n",
    "\n",
    "f = open('sample.txt', 'a')\n",
    "f.write('abc') # this will overwrite\n",
    "f.close()"
   ]
  },
  {
   "cell_type": "code",
   "execution_count": 5,
   "metadata": {},
   "outputs": [],
   "source": [
    "# write list of lines\n",
    "l = ['abc','\\n asfhjksh','sadf']\n",
    "f = open('sample.txt', 'a')\n",
    "f.writelines(l) \n",
    "f.close()"
   ]
  },
  {
   "cell_type": "code",
   "execution_count": 7,
   "metadata": {},
   "outputs": [
    {
     "name": "stdout",
     "output_type": "stream",
     "text": [
      "abcabcabc\n",
      " asfhjkshsadf\n"
     ]
    }
   ],
   "source": [
    "#reading files\n",
    "f = open('sample.txt', 'r')\n",
    "s = f.read() # f.read(10) - only 10 chars\n",
    "print(s)\n",
    "f.close()"
   ]
  },
  {
   "cell_type": "code",
   "execution_count": 9,
   "metadata": {},
   "outputs": [
    {
     "name": "stdout",
     "output_type": "stream",
     "text": [
      "abcabcabc\n",
      "\n",
      " asfhjkshsadf\n"
     ]
    }
   ],
   "source": [
    "#reading lines files\n",
    "f = open('sample.txt', 'r')\n",
    "s = f.readline() # f.read(10) - only 10 chars\n",
    "print(s)\n",
    "s = f.readline() # f.read(10) - only 10 chars\n",
    "print(s)\n",
    "f.close()"
   ]
  },
  {
   "cell_type": "code",
   "execution_count": 10,
   "metadata": {},
   "outputs": [
    {
     "name": "stdout",
     "output_type": "stream",
     "text": [
      "abcabcabc\n",
      " asfhjkshsadf"
     ]
    }
   ],
   "source": [
    "# print also give new line and readline also give new line\n",
    "#reading lines files\n",
    "f = open('sample.txt', 'r')\n",
    "s = f.readline() # f.read(10) - only 10 chars\n",
    "print(s, end='')\n",
    "s = f.readline() # f.read(10) - only 10 chars\n",
    "print(s, end='')\n",
    "f.close()"
   ]
  },
  {
   "cell_type": "code",
   "execution_count": 15,
   "metadata": {},
   "outputs": [
    {
     "name": "stdout",
     "output_type": "stream",
     "text": [
      "abcabcabc\n",
      " asfhjkshsadf"
     ]
    }
   ],
   "source": [
    "#reading n number of lines from files\n",
    "f = open('sample.txt', 'r')\n",
    "\n",
    "s= f.readline()\n",
    "while  s!= '':\n",
    "    print(s, end='')\n",
    "    s = f.readline() # f.read(10) - only 10 chars\n",
    "\n",
    "f.close()"
   ]
  },
  {
   "cell_type": "code",
   "execution_count": 17,
   "metadata": {},
   "outputs": [],
   "source": [
    "# with - file exception handler and no need to close...\n",
    "with open('sample1.txt','a') as f:\n",
    "    f.write('hello world..')\n"
   ]
  },
  {
   "cell_type": "code",
   "execution_count": 18,
   "metadata": {},
   "outputs": [
    {
     "name": "stdout",
     "output_type": "stream",
     "text": [
      "abcabcabc\n",
      " asfhjkshsadfhello world..\n"
     ]
    }
   ],
   "source": [
    "# read with 'with' keyword....\n",
    "\n",
    "with open('sample.txt', 'r') as f:\n",
    "    print(f.read())"
   ]
  },
  {
   "cell_type": "code",
   "execution_count": 19,
   "metadata": {},
   "outputs": [],
   "source": [
    "# how to read large size files.............\n",
    "\n",
    "#creting big file\n",
    "big_L = ['hello world' for i in range(1000)]\n",
    "\n",
    "with open('big.txt','w') as f:\n",
    "    f.writelines(big_L)"
   ]
  },
  {
   "cell_type": "code",
   "execution_count": 22,
   "metadata": {},
   "outputs": [
    {
     "name": "stdout",
     "output_type": "stream",
     "text": [
      "ello worldhello worldhello worldhello worldhello worldhello worldhello worldhello worldhello worldhe\n",
      "o worldhello worldhello worldhello worldhello worldhello worldhello worldhello worldhello worldhello\n",
      "orldhello worldhello worldhello worldhello worldhello worldhello worldhello worldhello worldhello wo\n",
      "dhello worldhello worldhello worldhello worldhello worldhello worldhello worldhello worldhello world\n",
      "llo worldhello worldhello worldhello worldhello worldhello worldhello worldhello worldhello worldhel\n",
      " worldhello worldhello worldhello worldhello worldhello worldhello worldhello worldhello worldhello \n",
      "rldhello worldhello worldhello worldhello worldhello worldhello worldhello worldhello worldhello wor\n",
      "hello worldhello worldhello worldhello worldhello worldhello worldhello worldhello worldhello worldh\n",
      "lo worldhello worldhello worldhello worldhello worldhello worldhello worldhello worldhello worldhell\n",
      "worldhello worldhello worldhello worldhello worldhello worldhello worldhello worldhello worldhello w\n",
      "ldhello worldhello worldhello worldhello worldhello worldhello worldhello worldhello worldhello worl\n",
      "ello worldhello worldhello worldhello worldhello worldhello worldhello worldhello worldhello worldhe\n",
      "o worldhello worldhello worldhello worldhello worldhello worldhello worldhello worldhello worldhello\n",
      "orldhello worldhello worldhello worldhello worldhello worldhello worldhello worldhello worldhello wo\n",
      "dhello worldhello worldhello worldhello worldhello worldhello worldhello worldhello worldhello world\n",
      "llo worldhello worldhello worldhello worldhello worldhello worldhello worldhello worldhello worldhel\n",
      " worldhello worldhello worldhello worldhello worldhello worldhello worldhello worldhello worldhello \n",
      "rldhello worldhello worldhello worldhello worldhello worldhello worldhello worldhello worldhello wor\n",
      "hello worldhello worldhello worldhello worldhello worldhello worldhello worldhello worldhello worldh\n",
      "lo worldhello worldhello worldhello worldhello worldhello worldhello worldhello worldhello worldhell\n",
      "worldhello worldhello worldhello worldhello worldhello worldhello worldhello worldhello worldhello w\n",
      "ldhello worldhello worldhello worldhello worldhello worldhello worldhello worldhello worldhello worl\n",
      "ello worldhello worldhello worldhello worldhello worldhello worldhello worldhello worldhello worldhe\n",
      "o worldhello worldhello worldhello worldhello worldhello worldhello worldhello worldhello worldhello\n",
      "orldhello worldhello worldhello worldhello worldhello worldhello worldhello worldhello worldhello wo\n",
      "dhello worldhello worldhello worldhello worldhello worldhello worldhello worldhello worldhello world\n",
      "llo worldhello worldhello worldhello worldhello worldhello worldhello worldhello worldhello worldhel\n",
      " worldhello worldhello worldhello worldhello worldhello worldhello worldhello worldhello worldhello \n",
      "rldhello worldhello worldhello worldhello worldhello worldhello worldhello worldhello worldhello wor\n",
      "hello worldhello worldhello worldhello worldhello worldhello worldhello worldhello worldhello worldh\n",
      "lo worldhello worldhello worldhello worldhello worldhello worldhello worldhello worldhello worldhell\n",
      "worldhello worldhello worldhello worldhello worldhello worldhello worldhello worldhello worldhello w\n",
      "ldhello worldhello worldhello worldhello worldhello worldhello worldhello worldhello worldhello worl\n",
      "ello worldhello worldhello worldhello worldhello worldhello worldhello worldhello worldhello worldhe\n",
      "o worldhello worldhello worldhello worldhello worldhello worldhello worldhello worldhello worldhello\n",
      "orldhello worldhello worldhello worldhello worldhello worldhello worldhello worldhello worldhello wo\n",
      "dhello worldhello worldhello worldhello worldhello worldhello worldhello worldhello worldhello world\n"
     ]
    }
   ],
   "source": [
    "# loading heavy files in chunks....\n",
    "with open('big.txt', 'r') as f:\n",
    "    chunk_size = 100 # read at a time\n",
    "\n",
    "    while len(f.read(chunk_size)) > 0:\n",
    "        print(f.read(chunk_size))\n",
    "        f.read(chunk_size)"
   ]
  },
  {
   "cell_type": "code",
   "execution_count": 26,
   "metadata": {},
   "outputs": [
    {
     "name": "stdout",
     "output_type": "stream",
     "text": [
      "abcab\n",
      "5\n",
      "abcab\n"
     ]
    }
   ],
   "source": [
    "#reading files - tell()\n",
    "f = open('sample.txt', 'r')\n",
    "s = f.read(5)\n",
    "print(s)\n",
    "\n",
    "print(f.tell()) # tells a file pointer poistion\n",
    "\n",
    "f.seek(0) # reset file pointer\n",
    "print(f.read(5)) # print same\n",
    "f.close()"
   ]
  },
  {
   "cell_type": "code",
   "execution_count": 28,
   "metadata": {},
   "outputs": [],
   "source": [
    "# working with binary(images) files...\n",
    "# creating copy of same file..\n",
    "\n",
    "with open('jpg_19.jpg','rb') as f:\n",
    "    with open('jpg_20.jpg','wb') as wf:\n",
    "        wf.write(f.read())"
   ]
  },
  {
   "cell_type": "code",
   "execution_count": 29,
   "metadata": {},
   "outputs": [
    {
     "ename": "TypeError",
     "evalue": "write() argument must be str, not int",
     "output_type": "error",
     "traceback": [
      "\u001b[1;31m---------------------------------------------------------------------------\u001b[0m",
      "\u001b[1;31mTypeError\u001b[0m                                 Traceback (most recent call last)",
      "\u001b[1;32m~\\AppData\\Local\\Temp\\ipykernel_16484\\2155822452.py\u001b[0m in \u001b[0;36m<module>\u001b[1;34m\u001b[0m\n\u001b[0;32m      2\u001b[0m \u001b[1;33m\u001b[0m\u001b[0m\n\u001b[0;32m      3\u001b[0m \u001b[1;32mwith\u001b[0m \u001b[0mopen\u001b[0m\u001b[1;33m(\u001b[0m\u001b[1;34m'sample.txt'\u001b[0m\u001b[1;33m,\u001b[0m\u001b[1;34m'w'\u001b[0m\u001b[1;33m)\u001b[0m \u001b[1;32mas\u001b[0m \u001b[0mf\u001b[0m\u001b[1;33m:\u001b[0m\u001b[1;33m\u001b[0m\u001b[1;33m\u001b[0m\u001b[0m\n\u001b[1;32m----> 4\u001b[1;33m     \u001b[0mf\u001b[0m\u001b[1;33m.\u001b[0m\u001b[0mwrite\u001b[0m\u001b[1;33m(\u001b[0m\u001b[1;36m5\u001b[0m\u001b[1;33m)\u001b[0m\u001b[1;33m\u001b[0m\u001b[1;33m\u001b[0m\u001b[0m\n\u001b[0m",
      "\u001b[1;31mTypeError\u001b[0m: write() argument must be str, not int"
     ]
    }
   ],
   "source": [
    "# working with pother datatypes like int, float, tuples\n",
    "#ultimately everything will be read/written in string format.. \n",
    "# u need to convert both time reading/writing\n",
    "\n",
    "with open('sample.txt','w') as f:\n",
    "    f.write(5)\n"
   ]
  },
  {
   "cell_type": "code",
   "execution_count": 32,
   "metadata": {},
   "outputs": [
    {
     "name": "stdout",
     "output_type": "stream",
     "text": [
      "5\n"
     ]
    }
   ],
   "source": [
    "with open('sample.txt','w') as f:\n",
    "    f.write(str(5)) # writing by converting in string\n",
    "\n",
    "with open('sample.txt','r') as f:\n",
    "    print(str(f.read())) # reading by converting in int   "
   ]
  },
  {
   "cell_type": "code",
   "execution_count": null,
   "metadata": {},
   "outputs": [],
   "source": []
  },
  {
   "cell_type": "code",
   "execution_count": null,
   "metadata": {},
   "outputs": [],
   "source": []
  },
  {
   "cell_type": "code",
   "execution_count": null,
   "metadata": {},
   "outputs": [],
   "source": []
  },
  {
   "cell_type": "code",
   "execution_count": null,
   "metadata": {},
   "outputs": [],
   "source": []
  }
 ],
 "metadata": {
  "kernelspec": {
   "display_name": "base",
   "language": "python",
   "name": "python3"
  },
  "language_info": {
   "codemirror_mode": {
    "name": "ipython",
    "version": 3
   },
   "file_extension": ".py",
   "mimetype": "text/x-python",
   "name": "python",
   "nbconvert_exporter": "python",
   "pygments_lexer": "ipython3",
   "version": "3.9.13"
  },
  "orig_nbformat": 4
 },
 "nbformat": 4,
 "nbformat_minor": 2
}
