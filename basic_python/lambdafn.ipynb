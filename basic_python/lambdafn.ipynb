{
 "cells": [
  {
   "cell_type": "code",
   "execution_count": 7,
   "metadata": {},
   "outputs": [],
   "source": [
    "# A Python lambda operator or lambda function is a small anonymous function, an anonymous meaning function without a name. \n",
    "# The Lambda functions are mainly used in combination with the functions filter(), map(), and reduce(). \n",
    "# This function can take any number of arguments, but can only have one expression and they can be used wherever function objects are required.\n",
    "\n",
    "\n",
    "\n",
    "# Example 1: Lambda with filter()\n",
    "numbers = [1, 2, 3, 4, 5, 6, 7, 8]\n",
    "even_numbers = list(filter(lambda x: x % 2 == 0, numbers))\n",
    "\n",
    "# Example 2: Filter list from another list\n",
    "numbers = [1, 2, 3, 4, 5, 6, 7, 8]\n",
    "filter_list = [3,5,7,8]\n",
    "result = list(filter(lambda x: x not in filter_list, numbers))"
   ]
  },
  {
   "cell_type": "code",
   "execution_count": 8,
   "metadata": {},
   "outputs": [
    {
     "name": "stdout",
     "output_type": "stream",
     "text": [
      "16\n"
     ]
    }
   ],
   "source": [
    "# Syntax of lambda\n",
    "lambda arguments: expression\n",
    "\n",
    "# Lambda example with single argument\n",
    "square = lambda x: x * x\n",
    "print(square(4))\n"
   ]
  },
  {
   "cell_type": "code",
   "execution_count": 9,
   "metadata": {},
   "outputs": [
    {
     "name": "stdout",
     "output_type": "stream",
     "text": [
      "Numbers: [1, 2, 3, 4, 5, 6, 7, 8]\n",
      "Even Numbers:  [2, 4, 6, 8]\n"
     ]
    }
   ],
   "source": [
    "# Usage of filter()\n",
    "# Create numbers list\n",
    "numbers = [1,2,3,4,5,6,7,8]\n",
    "print(\"Numbers:\",numbers)\n",
    "\n",
    "# Function that return True for even.\n",
    "def even(i):\n",
    "    return (i%2 == 0)\n",
    "\n",
    "# Using filter() with user defined function\n",
    "print(\"Even Numbers: \",list(filter(even, numbers)))\n"
   ]
  },
  {
   "cell_type": "code",
   "execution_count": 10,
   "metadata": {},
   "outputs": [
    {
     "name": "stdout",
     "output_type": "stream",
     "text": [
      "[2, 4, 6, 8]\n"
     ]
    }
   ],
   "source": [
    "\n",
    "# Lambda with filter()\n",
    "numbers = [1, 2, 3, 4, 5, 6, 7, 8]\n",
    "even_numbers = list(filter(lambda x: x % 2 == 0, numbers))\n",
    "print(even_numbers) \n"
   ]
  },
  {
   "cell_type": "code",
   "execution_count": 11,
   "metadata": {},
   "outputs": [
    {
     "name": "stdout",
     "output_type": "stream",
     "text": [
      "[1, 2, 4, 6]\n"
     ]
    }
   ],
   "source": [
    "# Filter list from another list\n",
    "numbers = [1, 2, 3, 4, 5, 6, 7, 8]\n",
    "filter_list = [3,5,7,8]\n",
    "result = list(filter(lambda x: x not in filter_list, numbers))\n",
    "print(result) \n",
    "\n"
   ]
  },
  {
   "cell_type": "code",
   "execution_count": 14,
   "metadata": {},
   "outputs": [
    {
     "name": "stdout",
     "output_type": "stream",
     "text": [
      "30\n"
     ]
    }
   ],
   "source": [
    "# Lambda example with two arguments\n",
    "add = lambda x, y : x + y\n",
    "print(add(10, 20))  "
   ]
  },
  {
   "cell_type": "code",
   "execution_count": 16,
   "metadata": {},
   "outputs": [
    {
     "name": "stdout",
     "output_type": "stream",
     "text": [
      "[3, 7, 7, 8, 7]\n"
     ]
    }
   ],
   "source": [
    "# Create two lists with numbers \n",
    "numbers1 = [2, 4, 5, 6, 3]\n",
    "numbers2 = [1, 3, 2, 2, 4]\n",
    "\n",
    "# Create lambda function that takes two arguments\n",
    "add_fun = lambda x, y: x+y\n",
    "\n",
    "# Use lambda with map() function\n",
    "add_result = list(map(add_fun, numbers1, numbers2))\n",
    "print(add_result) "
   ]
  },
  {
   "cell_type": "code",
   "execution_count": 17,
   "metadata": {},
   "outputs": [
    {
     "name": "stdout",
     "output_type": "stream",
     "text": [
      "myStrings1: ['A', 'B', 'C', 'D']\n",
      "myStrings2: ['a', 'b', 'c', 'd']\n",
      "Result: ['Aa', 'Bb', 'Cc', 'Dd']\n"
     ]
    }
   ],
   "source": [
    "# Create string list\n",
    "myStrings1 = [\"A\",\"B\",\"C\",\"D\"]\n",
    "myStrings2 = [\"a\",\"b\",\"c\",\"d\"]\n",
    "print(\"myStrings1:\",myStrings1)\n",
    "print(\"myStrings2:\",myStrings2)\n",
    "\n",
    "# Use lower() function\n",
    "lower_result = list(map(lambda x,y: x + y, myStrings1, myStrings2))\n",
    "print(\"Result:\",lower_result)"
   ]
  },
  {
   "cell_type": "code",
   "execution_count": 19,
   "metadata": {},
   "outputs": [
    {
     "name": "stdout",
     "output_type": "stream",
     "text": [
      "10\n"
     ]
    }
   ],
   "source": [
    "# Lambda function using if-else\n",
    "min = lambda a, b : a if(a < b) else b\n",
    "print(min(10, 20))"
   ]
  },
  {
   "cell_type": "code",
   "execution_count": 20,
   "metadata": {},
   "outputs": [
    {
     "name": "stdout",
     "output_type": "stream",
     "text": [
      "10\n"
     ]
    }
   ],
   "source": [
    "# Lambda function using if-else\n",
    "min = (lambda a, b : a if(a < b) else b)(10,20)\n",
    "print(min)"
   ]
  },
  {
   "cell_type": "code",
   "execution_count": 21,
   "metadata": {},
   "outputs": [
    {
     "name": "stdout",
     "output_type": "stream",
     "text": [
      "10 is smaller\n"
     ]
    }
   ],
   "source": [
    "# Lambda function using if else & else if\n",
    "min = lambda a, b, c : f\"{a} is smaller\" if(a < b & b < c) \\\n",
    "     else f\"{b} is smaller\"  if (b < c) else f\"{c} is smaller\" \n",
    "print(min(40, 30, 10))"
   ]
  },
  {
   "cell_type": "code",
   "execution_count": 22,
   "metadata": {},
   "outputs": [
    {
     "name": "stdout",
     "output_type": "stream",
     "text": [
      "Original: [2, 4, 1, 6, 3]\n",
      "Sorted: [1, 2, 3, 4, 6]\n"
     ]
    }
   ],
   "source": [
    "# Create list with numbers\n",
    "numbers = [2, 4, 1, 6, 3]\n",
    "print(\"Original:\",numbers)\n",
    "\n",
    "# Using sort() with lambda\n",
    "numbers.sort(key=lambda x:x)\n",
    "print(\"Sorted:\",numbers)"
   ]
  },
  {
   "cell_type": "code",
   "execution_count": 23,
   "metadata": {},
   "outputs": [],
   "source": [
    "# Output:\n",
    "Original: [2, 4, 1, 6, 3]\n",
    "Sorted: [1, 2, 3, 4, 6]"
   ]
  },
  {
   "cell_type": "code",
   "execution_count": 24,
   "metadata": {},
   "outputs": [
    {
     "name": "stdout",
     "output_type": "stream",
     "text": [
      "Original: [2, 4, 1, 6, 3]\n",
      "Sorted: [1, 2, 3, 4, 6]\n"
     ]
    }
   ],
   "source": [
    "# Create list with numbers\n",
    "numbers = [2, 4, 1, 6, 3]\n",
    "print(\"Original:\",numbers)\n",
    "\n",
    "# Using sorted() with lambda\n",
    "sorted_numbers = sorted(numbers, key=lambda x: x)\n",
    "print(\"Sorted:\",sorted_numbers)"
   ]
  },
  {
   "cell_type": "code",
   "execution_count": 25,
   "metadata": {},
   "outputs": [
    {
     "name": "stdout",
     "output_type": "stream",
     "text": [
      "Original: [2, 4, 1, 6, 3]\n",
      "Revers order using sort: [6, 4, 3, 2, 1]\n",
      "Revers order using sorted: [6, 4, 3, 2, 1]\n"
     ]
    }
   ],
   "source": [
    "# Create list with numbers\n",
    "numbers = [2, 4, 1, 6, 3]\n",
    "print(\"Original:\",numbers)\n",
    "\n",
    "# Using sort() with lambda\n",
    "numbers.sort(key=lambda x:x, reverse=True)\n",
    "print(\"Revers order using sort:\",numbers)\n",
    "\n",
    "# Using sorted() with lambda\n",
    "sorted_numbers = sorted(numbers, key=lambda x: x, reverse=True)\n",
    "print(\"Revers order using sorted:\",sorted_numbers)"
   ]
  },
  {
   "cell_type": "code",
   "execution_count": 26,
   "metadata": {},
   "outputs": [
    {
     "name": "stdout",
     "output_type": "stream",
     "text": [
      "[('Bean', '10', '450'), ('Ann', '20', '400'), ('Scott', '40', '500')]\n"
     ]
    }
   ],
   "source": [
    "# Sort list of tuples\n",
    "lst = [('Ann','20','400'), ('Scott','40','500'), ('Bean','10','450')]\n",
    "lst.sort(key=lambda x:x[1])\n",
    "print(lst)"
   ]
  },
  {
   "cell_type": "code",
   "execution_count": null,
   "metadata": {},
   "outputs": [],
   "source": [
    "birth_year = int(input(\"Enter Birth Year\"))\n",
    "years_list = [birth_year+i for i in (range(0,6))]\n",
    "print(list(years_list))"
   ]
  },
  {
   "cell_type": "code",
   "execution_count": 1,
   "metadata": {},
   "outputs": [
    {
     "ename": "NameError",
     "evalue": "name 'f2e' is not defined",
     "output_type": "error",
     "traceback": [
      "\u001b[1;31m---------------------------------------------------------------------------\u001b[0m",
      "\u001b[1;31mNameError\u001b[0m                                 Traceback (most recent call last)",
      "\u001b[1;32m~\\AppData\\Local\\Temp\\ipykernel_688\\3327799100.py\u001b[0m in \u001b[0;36m<module>\u001b[1;34m\u001b[0m\n\u001b[1;32m----> 1\u001b[1;33m \u001b[0mprint\u001b[0m\u001b[1;33m(\u001b[0m\u001b[1;33m[\u001b[0m\u001b[0mkey\u001b[0m \u001b[1;32mfor\u001b[0m \u001b[0mkey\u001b[0m\u001b[1;33m,\u001b[0m \u001b[0mval\u001b[0m \u001b[1;32min\u001b[0m \u001b[0mf2e\u001b[0m \u001b[1;32mif\u001b[0m \u001b[0mval\u001b[0m \u001b[1;33m==\u001b[0m \u001b[1;34m'chien'\u001b[0m\u001b[1;33m]\u001b[0m\u001b[1;33m)\u001b[0m\u001b[1;33m\u001b[0m\u001b[1;33m\u001b[0m\u001b[0m\n\u001b[0m",
      "\u001b[1;31mNameError\u001b[0m: name 'f2e' is not defined"
     ]
    }
   ],
   "source": [
    "print([key for key, val in f2e if val == 'chien'])"
   ]
  },
  {
   "cell_type": "code",
   "execution_count": null,
   "metadata": {},
   "outputs": [],
   "source": []
  }
 ],
 "metadata": {
  "kernelspec": {
   "display_name": "base",
   "language": "python",
   "name": "python3"
  },
  "language_info": {
   "codemirror_mode": {
    "name": "ipython",
    "version": 3
   },
   "file_extension": ".py",
   "mimetype": "text/x-python",
   "name": "python",
   "nbconvert_exporter": "python",
   "pygments_lexer": "ipython3",
   "version": "3.9.13"
  },
  "orig_nbformat": 4
 },
 "nbformat": 4,
 "nbformat_minor": 2
}
