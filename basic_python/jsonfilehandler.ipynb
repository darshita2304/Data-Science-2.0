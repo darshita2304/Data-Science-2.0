{
 "cells": [
  {
   "cell_type": "code",
   "execution_count": 1,
   "metadata": {},
   "outputs": [],
   "source": [
    "# json - javascript on notation\n",
    "# serialization - process of converting python data type to JSON\n",
    "# deserialization - process of converting JSON to python data types\n",
    "\n",
    "import json\n",
    "l = [1,2,3,4]\n",
    "\n",
    "with open('demo.json','w') as f:\n",
    "    json.dump(l,f)"
   ]
  },
  {
   "cell_type": "code",
   "execution_count": 2,
   "metadata": {},
   "outputs": [],
   "source": [
    "d = {\n",
    "    'name':'darshita',\n",
    "    'age':'23',\n",
    "    'gender':'female'\n",
    "}\n",
    "\n",
    "with open('demo.json','w') as f:\n",
    "    json.dump(d,f, indent=4)"
   ]
  },
  {
   "cell_type": "code",
   "execution_count": 4,
   "metadata": {},
   "outputs": [
    {
     "name": "stdout",
     "output_type": "stream",
     "text": [
      "{'name': 'darshita', 'age': '23', 'gender': 'female'}\n",
      "<class 'dict'>\n"
     ]
    }
   ],
   "source": [
    "# reading json - deserialize\n",
    "\n",
    "with open('demo.json','r') as f:\n",
    "    dic = json.load(f)\n",
    "    print(dic)\n",
    "    print(type(dic)) # by default it will read in dictionary"
   ]
  },
  {
   "cell_type": "code",
   "execution_count": 5,
   "metadata": {},
   "outputs": [],
   "source": [
    "# tuple will stored in list format in files...\n",
    "import json\n",
    "l = (1,2,3,4)\n",
    "\n",
    "with open('te.json','w') as f:\n",
    "    json.dump(l,f)"
   ]
  },
  {
   "cell_type": "code",
   "execution_count": 6,
   "metadata": {},
   "outputs": [],
   "source": [
    "class Person:\n",
    "    def __init__(self, fname, lname, age, gender):\n",
    "        self.fname = fname\n",
    "        self.lname = lname\n",
    "        self.age = age\n",
    "        self.gender = gender\n",
    "\n",
    "person = Person('Darshita','paghadal','32','female')"
   ]
  },
  {
   "cell_type": "code",
   "execution_count": 7,
   "metadata": {},
   "outputs": [],
   "source": [
    "## writing class objects directly in json file...\n",
    "def show_object(person):\n",
    "    if isinstance(person, Person):\n",
    "        return \"{} {} age->{} gender->{}\".format(person.fname, person.lname, person.age, person.gender)  \n",
    "\n",
    "with open('demo.json','w') as f:\n",
    "    json.dump(person,f, default=show_object)"
   ]
  },
  {
   "cell_type": "code",
   "execution_count": 9,
   "metadata": {},
   "outputs": [],
   "source": [
    "## writing class objects directly in json file...\n",
    "def show_object(person):\n",
    "    if isinstance(person, Person):\n",
    "        return {'name': person.fname + ' ' +person.lname,'age':person.age, 'gender':person.gender}  \n",
    "\n",
    "with open('demo.json','w') as f:\n",
    "    json.dump(person,f, default=show_object)"
   ]
  },
  {
   "cell_type": "code",
   "execution_count": 10,
   "metadata": {},
   "outputs": [
    {
     "name": "stdout",
     "output_type": "stream",
     "text": [
      "{'name': 'Darshita paghadal', 'age': '32', 'gender': 'female'}\n",
      "<class 'dict'>\n"
     ]
    }
   ],
   "source": [
    "# reading json\n",
    "\n",
    "with open('demo.json','r') as f:\n",
    "    d = json.load(f)\n",
    "    print(d)\n",
    "    print(type(d))\n"
   ]
  },
  {
   "cell_type": "code",
   "execution_count": null,
   "metadata": {},
   "outputs": [],
   "source": []
  }
 ],
 "metadata": {
  "kernelspec": {
   "display_name": "base",
   "language": "python",
   "name": "python3"
  },
  "language_info": {
   "codemirror_mode": {
    "name": "ipython",
    "version": 3
   },
   "file_extension": ".py",
   "mimetype": "text/x-python",
   "name": "python",
   "nbconvert_exporter": "python",
   "pygments_lexer": "ipython3",
   "version": "3.9.13"
  },
  "orig_nbformat": 4
 },
 "nbformat": 4,
 "nbformat_minor": 2
}
