{
 "cells": [
  {
   "cell_type": "code",
   "execution_count": 27,
   "metadata": {},
   "outputs": [
    {
     "name": "stdout",
     "output_type": "stream",
     "text": [
      "The height of the image is:  720\n",
      "The width of the image is:  1280\n"
     ]
    }
   ],
   "source": [
    "# finding image height and weight...\n",
    "# import required module\n",
    "from PIL import Image\n",
    "  \n",
    "# get image\n",
    "filepath = \"./imgs/jpg_19.jpg\"\n",
    "img = Image.open(filepath)\n",
    "  \n",
    "# get width and height\n",
    "width = img.width\n",
    "height = img.height\n",
    "  \n",
    "# display width and height\n",
    "print(\"The height of the image is: \", height)\n",
    "print(\"The width of the image is: \", width)"
   ]
  },
  {
   "cell_type": "code",
   "execution_count": 28,
   "metadata": {},
   "outputs": [],
   "source": [
    "# What method would you call to get Image object for a 100×100 image, excluding the lower-left quarter of it?\n",
    "\n",
    "from PIL import Image  \n",
    "# get image\n",
    "filepath = \"./imgs/jpg_19.jpg\"\n",
    "img = Image.open(filepath)\n",
    "  \n",
    "cropped = img.crop((0,50,50,100))\n",
    "cropped.show()"
   ]
  },
  {
   "cell_type": "code",
   "execution_count": 29,
   "metadata": {},
   "outputs": [],
   "source": [
    "# saving same file with different format\n",
    "from PIL import Image \n",
    "import PIL \n",
    "  \n",
    "# creating a image object (main image) \n",
    "im1 = Image.open(r\"./imgs/jpg_19.jpg\") \n",
    "  \n",
    "# save a image using extension\n",
    "im1 = im1.save(\"./imgs/radha.png\")"
   ]
  },
  {
   "cell_type": "code",
   "execution_count": 30,
   "metadata": {},
   "outputs": [],
   "source": [
    "# drawing square on image..\n",
    "# Importing Image and ImageDraw from PIL\n",
    "from PIL import Image, ImageDraw\n",
    "  \n",
    "# Opening the image to be used\n",
    "img = Image.open('./imgs/radha.png')\n",
    "  \n",
    "# Creating a Draw object\n",
    "draw = ImageDraw.Draw(img)\n",
    "  \n",
    "# Drawing a green rectangle\n",
    "# in the middle of the image\n",
    "draw.rectangle(xy = (50, 50, 150, 150),\n",
    "               fill = (0, 127, 0),\n",
    "               outline = (255, 255, 255),\n",
    "               width = 5)\n",
    "  \n",
    "# Method to display the modified image\n",
    "img.show()"
   ]
  },
  {
   "cell_type": "code",
   "execution_count": 31,
   "metadata": {},
   "outputs": [
    {
     "data": {
      "text/plain": [
       "(400, 533)"
      ]
     },
     "execution_count": 31,
     "metadata": {},
     "output_type": "execute_result"
    }
   ],
   "source": [
    "from PIL import Image\n",
    "catIm = Image.open('./imgs/zophie.jpg')\n",
    "catIm.size\n"
   ]
  },
  {
   "cell_type": "code",
   "execution_count": 32,
   "metadata": {},
   "outputs": [],
   "source": [
    "width, height = catIm.size"
   ]
  },
  {
   "cell_type": "code",
   "execution_count": 33,
   "metadata": {},
   "outputs": [
    {
     "data": {
      "text/plain": [
       "'./imgs/zophie.jpg'"
      ]
     },
     "execution_count": 33,
     "metadata": {},
     "output_type": "execute_result"
    }
   ],
   "source": [
    "catIm.filename"
   ]
  },
  {
   "cell_type": "code",
   "execution_count": 34,
   "metadata": {},
   "outputs": [
    {
     "data": {
      "text/plain": [
       "'JPEG'"
      ]
     },
     "execution_count": 34,
     "metadata": {},
     "output_type": "execute_result"
    }
   ],
   "source": [
    "catIm.format"
   ]
  },
  {
   "cell_type": "code",
   "execution_count": 35,
   "metadata": {},
   "outputs": [
    {
     "data": {
      "text/plain": [
       "'JPEG (ISO 10918)'"
      ]
     },
     "execution_count": 35,
     "metadata": {},
     "output_type": "execute_result"
    }
   ],
   "source": [
    "catIm.format_description"
   ]
  },
  {
   "cell_type": "code",
   "execution_count": 36,
   "metadata": {},
   "outputs": [],
   "source": [
    "catIm.save('./imgs/zophie.png')"
   ]
  },
  {
   "cell_type": "code",
   "execution_count": 37,
   "metadata": {},
   "outputs": [],
   "source": [
    "im = Image.new('RGBA', (100, 200), 'purple')\n",
    "im.save('./imgs/purpleImage.png')"
   ]
  },
  {
   "cell_type": "code",
   "execution_count": 38,
   "metadata": {},
   "outputs": [],
   "source": [
    "# Left: The x-coordinate of the leftmost edge of the box.\n",
    "\n",
    "# Top: The y-coordinate of the top edge of the box.\n",
    "\n",
    "# Right: The x-coordinate of one pixel to the right of the rightmost edge of the box. This integer must be greater than the left integer.\n",
    "\n",
    "# Bottom: The y-coordinate of one pixel lower than the bottom edge of the box. This integer must be greater than the top integer.\n",
    "\n",
    "croppedIm = catIm.crop((170, 180, 280, 310))\n",
    "croppedIm.save('./imgs/cropped.png')"
   ]
  },
  {
   "cell_type": "code",
   "execution_count": 39,
   "metadata": {},
   "outputs": [],
   "source": [
    "catCopyIm = catIm.copy()"
   ]
  },
  {
   "cell_type": "code",
   "execution_count": 40,
   "metadata": {},
   "outputs": [],
   "source": [
    "faceIm = catIm.crop((170, 180, 280, 310))\n",
    "# faceIm.size(110, 130)\n",
    "catCopyIm.paste(faceIm, (0, 0)) # pasting at top left corner...\n",
    "catCopyIm.paste(faceIm, (100, 200)) # pasting in middle somewhere...\n",
    "catCopyIm.save('./imgs/pasted.png')"
   ]
  },
  {
   "cell_type": "code",
   "execution_count": 41,
   "metadata": {},
   "outputs": [
    {
     "name": "stdout",
     "output_type": "stream",
     "text": [
      "0 0\n",
      "0 130\n",
      "0 260\n",
      "0 390\n",
      "0 520\n",
      "110 0\n",
      "110 130\n",
      "110 260\n",
      "110 390\n",
      "110 520\n",
      "220 0\n",
      "220 130\n",
      "220 260\n",
      "220 390\n",
      "220 520\n",
      "330 0\n",
      "330 130\n",
      "330 260\n",
      "330 390\n",
      "330 520\n"
     ]
    }
   ],
   "source": [
    "## repeat cat face at original pictures with faceimage\n",
    "#tiles of imgs\n",
    "catImWidth, catImHeight = catIm.size\n",
    "faceImWidth, faceImHeight = faceIm.size\n",
    "\n",
    "catCopyTwo = catIm.copy()\n",
    "\n",
    "for left in range(0, catImWidth, faceImWidth):\n",
    "    for top in range(0, catImHeight, faceImHeight):\n",
    "        print(left, top)\n",
    "        catCopyTwo.paste(faceIm, (left, top))\n",
    "\n",
    "catCopyTwo.save('./imgs/tiled.png')"
   ]
  },
  {
   "cell_type": "code",
   "execution_count": 42,
   "metadata": {},
   "outputs": [],
   "source": [
    "#resize imgs\n",
    "width, height = catIm.size\n",
    "quartersizedIm = catIm.resize((int(width / 2), int(height / 2)))\n",
    "quartersizedIm.save('./imgs/quartersized.png')\n",
    "svelteIm = catIm.resize((width, height + 300))\n",
    "svelteIm.save('./imgs/svelte.png')"
   ]
  },
  {
   "cell_type": "code",
   "execution_count": 43,
   "metadata": {},
   "outputs": [],
   "source": [
    "#rotating imgs..\n",
    "catIm.rotate(90).save('./imgs/rotated90.png')\n",
    "catIm.rotate(180).save('./imgs/rotated180.png')\n",
    "catIm.rotate(270).save('./imgs/rotated270.png')"
   ]
  },
  {
   "cell_type": "code",
   "execution_count": 44,
   "metadata": {},
   "outputs": [],
   "source": [
    "catIm.rotate(6).save('./imgs/rotated6.png')\n",
    "catIm.rotate(6, expand=True).save('./imgs/rotated6_expanded.png')"
   ]
  },
  {
   "cell_type": "code",
   "execution_count": 45,
   "metadata": {},
   "outputs": [
    {
     "name": "stderr",
     "output_type": "stream",
     "text": [
      "C:\\Users\\Darshi\\AppData\\Local\\Temp\\ipykernel_16368\\1331857569.py:1: DeprecationWarning: FLIP_LEFT_RIGHT is deprecated and will be removed in Pillow 10 (2023-07-01). Use Transpose.FLIP_LEFT_RIGHT instead.\n",
      "  catIm.transpose(Image.FLIP_LEFT_RIGHT).save('./imgs/horizontal_flip.png')\n",
      "C:\\Users\\Darshi\\AppData\\Local\\Temp\\ipykernel_16368\\1331857569.py:2: DeprecationWarning: FLIP_TOP_BOTTOM is deprecated and will be removed in Pillow 10 (2023-07-01). Use Transpose.FLIP_TOP_BOTTOM instead.\n",
      "  catIm.transpose(Image.FLIP_TOP_BOTTOM).save('./imgs/vertical_flip.png')\n"
     ]
    }
   ],
   "source": [
    "catIm.transpose(Image.FLIP_LEFT_RIGHT).save('./imgs/horizontal_flip.png')\n",
    "catIm.transpose(Image.FLIP_TOP_BOTTOM).save('./imgs/vertical_flip.png')"
   ]
  },
  {
   "cell_type": "code",
   "execution_count": 46,
   "metadata": {},
   "outputs": [
    {
     "ename": "KeyboardInterrupt",
     "evalue": "",
     "output_type": "error",
     "traceback": [
      "\u001b[1;31m---------------------------------------------------------------------------\u001b[0m",
      "\u001b[1;31mKeyboardInterrupt\u001b[0m                         Traceback (most recent call last)",
      "\u001b[1;32m~\\AppData\\Local\\Temp\\ipykernel_16368\\2175006971.py\u001b[0m in \u001b[0;36m<module>\u001b[1;34m\u001b[0m\n\u001b[0;32m      9\u001b[0m         \u001b[1;32mfor\u001b[0m \u001b[0mx\u001b[0m \u001b[1;32min\u001b[0m \u001b[0mrange\u001b[0m\u001b[1;33m(\u001b[0m\u001b[1;36m100\u001b[0m\u001b[1;33m)\u001b[0m\u001b[1;33m:\u001b[0m\u001b[1;33m\u001b[0m\u001b[1;33m\u001b[0m\u001b[0m\n\u001b[0;32m     10\u001b[0m             \u001b[1;32mfor\u001b[0m \u001b[0my\u001b[0m \u001b[1;32min\u001b[0m \u001b[0mrange\u001b[0m\u001b[1;33m(\u001b[0m\u001b[1;36m50\u001b[0m\u001b[1;33m,\u001b[0m \u001b[1;36m100\u001b[0m\u001b[1;33m)\u001b[0m\u001b[1;33m:\u001b[0m\u001b[1;33m\u001b[0m\u001b[1;33m\u001b[0m\u001b[0m\n\u001b[1;32m---> 11\u001b[1;33m                 \u001b[0mim\u001b[0m\u001b[1;33m.\u001b[0m\u001b[0mputpixel\u001b[0m\u001b[1;33m(\u001b[0m\u001b[1;33m(\u001b[0m\u001b[0mx\u001b[0m\u001b[1;33m,\u001b[0m \u001b[0my\u001b[0m\u001b[1;33m)\u001b[0m\u001b[1;33m,\u001b[0m \u001b[0mImageColor\u001b[0m\u001b[1;33m.\u001b[0m\u001b[0mgetcolor\u001b[0m\u001b[1;33m(\u001b[0m\u001b[1;34m'darkgray'\u001b[0m\u001b[1;33m,\u001b[0m \u001b[1;34m'RGBA'\u001b[0m\u001b[1;33m)\u001b[0m\u001b[1;33m)\u001b[0m\u001b[1;33m\u001b[0m\u001b[1;33m\u001b[0m\u001b[0m\n\u001b[0m\u001b[0;32m     12\u001b[0m                 \u001b[0mim\u001b[0m\u001b[1;33m.\u001b[0m\u001b[0mgetpixel\u001b[0m\u001b[1;33m(\u001b[0m\u001b[1;33m(\u001b[0m\u001b[1;36m0\u001b[0m\u001b[1;33m,\u001b[0m \u001b[1;36m0\u001b[0m\u001b[1;33m)\u001b[0m\u001b[1;33m)\u001b[0m\u001b[1;33m\u001b[0m\u001b[1;33m\u001b[0m\u001b[0m\n\u001b[0;32m     13\u001b[0m                 \u001b[1;33m(\u001b[0m\u001b[1;36m210\u001b[0m\u001b[1;33m,\u001b[0m \u001b[1;36m210\u001b[0m\u001b[1;33m,\u001b[0m \u001b[1;36m210\u001b[0m\u001b[1;33m,\u001b[0m \u001b[1;36m255\u001b[0m\u001b[1;33m)\u001b[0m\u001b[1;33m\u001b[0m\u001b[1;33m\u001b[0m\u001b[0m\n",
      "\u001b[1;32mf:\\anaconda3\\lib\\site-packages\\PIL\\ImageColor.py\u001b[0m in \u001b[0;36mgetcolor\u001b[1;34m(color, mode)\u001b[0m\n\u001b[0;32m    132\u001b[0m     \"\"\"\n\u001b[0;32m    133\u001b[0m     \u001b[1;31m# same as getrgb, but converts the result to the given mode\u001b[0m\u001b[1;33m\u001b[0m\u001b[1;33m\u001b[0m\u001b[0m\n\u001b[1;32m--> 134\u001b[1;33m     \u001b[0mcolor\u001b[0m\u001b[1;33m,\u001b[0m \u001b[0malpha\u001b[0m \u001b[1;33m=\u001b[0m \u001b[0mgetrgb\u001b[0m\u001b[1;33m(\u001b[0m\u001b[0mcolor\u001b[0m\u001b[1;33m)\u001b[0m\u001b[1;33m,\u001b[0m \u001b[1;36m255\u001b[0m\u001b[1;33m\u001b[0m\u001b[1;33m\u001b[0m\u001b[0m\n\u001b[0m\u001b[0;32m    135\u001b[0m     \u001b[1;32mif\u001b[0m \u001b[0mlen\u001b[0m\u001b[1;33m(\u001b[0m\u001b[0mcolor\u001b[0m\u001b[1;33m)\u001b[0m \u001b[1;33m==\u001b[0m \u001b[1;36m4\u001b[0m\u001b[1;33m:\u001b[0m\u001b[1;33m\u001b[0m\u001b[1;33m\u001b[0m\u001b[0m\n\u001b[0;32m    136\u001b[0m         \u001b[0mcolor\u001b[0m\u001b[1;33m,\u001b[0m \u001b[0malpha\u001b[0m \u001b[1;33m=\u001b[0m \u001b[0mcolor\u001b[0m\u001b[1;33m[\u001b[0m\u001b[1;33m:\u001b[0m\u001b[1;36m3\u001b[0m\u001b[1;33m]\u001b[0m\u001b[1;33m,\u001b[0m \u001b[0mcolor\u001b[0m\u001b[1;33m[\u001b[0m\u001b[1;36m3\u001b[0m\u001b[1;33m]\u001b[0m\u001b[1;33m\u001b[0m\u001b[1;33m\u001b[0m\u001b[0m\n",
      "\u001b[1;32mf:\\anaconda3\\lib\\site-packages\\PIL\\ImageColor.py\u001b[0m in \u001b[0;36mgetrgb\u001b[1;34m(color)\u001b[0m\n\u001b[0;32m     33\u001b[0m     \u001b[1;33m:\u001b[0m\u001b[1;32mreturn\u001b[0m\u001b[1;33m:\u001b[0m\u001b[0;31m \u001b[0m\u001b[0;31m`\u001b[0m\u001b[0;31m`\u001b[0m\u001b[1;33m(\u001b[0m\u001b[0mred\u001b[0m\u001b[1;33m,\u001b[0m \u001b[0mgreen\u001b[0m\u001b[1;33m,\u001b[0m \u001b[0mblue\u001b[0m\u001b[1;33m[\u001b[0m\u001b[1;33m,\u001b[0m \u001b[0malpha\u001b[0m\u001b[1;33m]\u001b[0m\u001b[1;33m)\u001b[0m\u001b[0;31m`\u001b[0m\u001b[0;31m`\u001b[0m\u001b[1;33m\u001b[0m\u001b[1;33m\u001b[0m\u001b[0m\n\u001b[0;32m     34\u001b[0m     \"\"\"\n\u001b[1;32m---> 35\u001b[1;33m     \u001b[1;32mif\u001b[0m \u001b[0mlen\u001b[0m\u001b[1;33m(\u001b[0m\u001b[0mcolor\u001b[0m\u001b[1;33m)\u001b[0m \u001b[1;33m>\u001b[0m \u001b[1;36m100\u001b[0m\u001b[1;33m:\u001b[0m\u001b[1;33m\u001b[0m\u001b[1;33m\u001b[0m\u001b[0m\n\u001b[0m\u001b[0;32m     36\u001b[0m         \u001b[1;32mraise\u001b[0m \u001b[0mValueError\u001b[0m\u001b[1;33m(\u001b[0m\u001b[1;34m\"color specifier is too long\"\u001b[0m\u001b[1;33m)\u001b[0m\u001b[1;33m\u001b[0m\u001b[1;33m\u001b[0m\u001b[0m\n\u001b[0;32m     37\u001b[0m     \u001b[0mcolor\u001b[0m \u001b[1;33m=\u001b[0m \u001b[0mcolor\u001b[0m\u001b[1;33m.\u001b[0m\u001b[0mlower\u001b[0m\u001b[1;33m(\u001b[0m\u001b[1;33m)\u001b[0m\u001b[1;33m\u001b[0m\u001b[1;33m\u001b[0m\u001b[0m\n",
      "\u001b[1;31mKeyboardInterrupt\u001b[0m: "
     ]
    }
   ],
   "source": [
    "im = Image.new('RGBA', (100, 100))\n",
    "im.getpixel((0, 0))\n",
    "(0, 0, 0, 0)\n",
    "\n",
    "for x in range(100):\n",
    "    for y in range(50):\n",
    "        im.putpixel((x, y), (210, 210, 210))\n",
    "        from PIL import ImageColor\n",
    "        for x in range(100):\n",
    "            for y in range(50, 100):\n",
    "                im.putpixel((x, y), ImageColor.getcolor('darkgray', 'RGBA'))\n",
    "                im.getpixel((0, 0))\n",
    "                (210, 210, 210, 255)\n",
    "                im.getpixel((0, 50))\n",
    "                (169, 169, 169, 255)\n",
    "\n",
    "im.save('putPixel.png')"
   ]
  },
  {
   "cell_type": "code",
   "execution_count": 52,
   "metadata": {},
   "outputs": [
    {
     "name": "stdout",
     "output_type": "stream",
     "text": [
      "Resizing horizontal_flip.png...\n",
      "Adding logo to horizontal_flip.png...\n",
      "Resizing jpg_19.jpg...\n",
      "Adding logo to jpg_19.jpg...\n",
      "Resizing jpg_20.jpg...\n",
      "Adding logo to jpg_20.jpg...\n",
      "Resizing pasted.png...\n",
      "Adding logo to pasted.png...\n",
      "Resizing radha.png...\n",
      "Adding logo to radha.png...\n",
      "Resizing rotated180.png...\n",
      "Adding logo to rotated180.png...\n",
      "Resizing rotated270.png...\n",
      "Adding logo to rotated270.png...\n",
      "Resizing rotated6.png...\n",
      "Adding logo to rotated6.png...\n",
      "Resizing rotated6_expanded.png...\n",
      "Adding logo to rotated6_expanded.png...\n",
      "Resizing rotated90.png...\n",
      "Adding logo to rotated90.png...\n",
      "Resizing svelte.png...\n",
      "Adding logo to svelte.png...\n",
      "Resizing tiled.png...\n",
      "Adding logo to tiled.png...\n",
      "Resizing vertical_flip.png...\n",
      "Adding logo to vertical_flip.png...\n",
      "Resizing zophie.jpg...\n",
      "Adding logo to zophie.jpg...\n",
      "Resizing zophie.png...\n",
      "Adding logo to zophie.png...\n"
     ]
    }
   ],
   "source": [
    "import os\n",
    "#putting logo on imgs..\n",
    "SQUARE_FIT_SIZE = 300\n",
    "LOGO_FILENAME = './imgs/logo.jpg'\n",
    "# logoIm = Image.open(LOGO_FILENAME)\n",
    "# logoWidth, logoHeight = logoIm.size\n",
    "\n",
    "logoIm = Image.open(LOGO_FILENAME).convert(\"RGBA\")\n",
    "logoWidth, logoHeight = logoIm.size\n",
    "\n",
    "\n",
    "os.makedirs('withLogo', exist_ok=True)\n",
    "\n",
    "   # Loop over all files in the working directory.\n",
    "for filename in os.listdir('./imgs/.'):\n",
    "    if not (filename.endswith('.png') or filename.endswith('.jpg')) \\\n",
    "        or filename == LOGO_FILENAME:\n",
    "        \n",
    "        continue # skip non-image files and the logo file itself\n",
    "    im = Image.open('./imgs/' + filename)\n",
    "    width, height = im.size\n",
    "\n",
    "    if width > SQUARE_FIT_SIZE and height > SQUARE_FIT_SIZE:\n",
    "          # Calculate the new width and height to resize to.\n",
    "        if width > height:\n",
    "            height = int((SQUARE_FIT_SIZE / width) * height)\n",
    "            width = SQUARE_FIT_SIZE\n",
    "        else:\n",
    "            width = int((SQUARE_FIT_SIZE / height) * width)\n",
    "            height = SQUARE_FIT_SIZE\n",
    "\n",
    "        # Resize the image.\n",
    "        print('Resizing %s...' % (filename))\n",
    "        im = im.resize((width, height))\n",
    "        print('Adding logo to %s...' % (filename))\n",
    "\n",
    "        im.paste(logoIm, (0,0,logoWidth,logoHeight),logoIm)\n",
    "        \n",
    "        # Save changes.\n",
    "        im.save(os.path.join('withLogo', filename))"
   ]
  },
  {
   "cell_type": "code",
   "execution_count": null,
   "metadata": {},
   "outputs": [],
   "source": []
  },
  {
   "cell_type": "code",
   "execution_count": null,
   "metadata": {},
   "outputs": [],
   "source": []
  }
 ],
 "metadata": {
  "kernelspec": {
   "display_name": "base",
   "language": "python",
   "name": "python3"
  },
  "language_info": {
   "codemirror_mode": {
    "name": "ipython",
    "version": 3
   },
   "file_extension": ".py",
   "mimetype": "text/x-python",
   "name": "python",
   "nbconvert_exporter": "python",
   "pygments_lexer": "ipython3",
   "version": "3.9.13"
  },
  "orig_nbformat": 4
 },
 "nbformat": 4,
 "nbformat_minor": 2
}
