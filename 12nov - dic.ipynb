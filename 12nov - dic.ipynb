{
 "cells": [
  {
   "cell_type": "code",
   "execution_count": null,
   "metadata": {},
   "outputs": [],
   "source": [
    "# what is dictionary\n",
    "\"\"\" key and values will be stored which will not hv repeated\n",
    "data within it.. u can create it by { } \n",
    "\n",
    "bydefault python understand python dict by {} but by values\n",
    "it will decide whether it is set or dic\"\"\""
   ]
  },
  {
   "cell_type": "code",
   "execution_count": 1,
   "metadata": {},
   "outputs": [
    {
     "data": {
      "text/plain": [
       "dict"
      ]
     },
     "execution_count": 1,
     "metadata": {},
     "output_type": "execute_result"
    }
   ],
   "source": [
    "d = {}\n",
    "type(d) # by default it will create dict"
   ]
  },
  {
   "cell_type": "code",
   "execution_count": 2,
   "metadata": {},
   "outputs": [
    {
     "data": {
      "text/plain": [
       "set"
      ]
     },
     "execution_count": 2,
     "metadata": {},
     "output_type": "execute_result"
    }
   ],
   "source": [
    "d = {1,2,3,4} # according to values it will sets\n",
    "type(d)"
   ]
  },
  {
   "cell_type": "code",
   "execution_count": 3,
   "metadata": {},
   "outputs": [
    {
     "data": {
      "text/plain": [
       "dict"
      ]
     },
     "execution_count": 3,
     "metadata": {},
     "output_type": "execute_result"
    }
   ],
   "source": [
    "d = {'key':'value','key1':[1,2,3,4]}\n",
    "type(d)"
   ]
  },
  {
   "cell_type": "code",
   "execution_count": 4,
   "metadata": {},
   "outputs": [
    {
     "ename": "TypeError",
     "evalue": "unhashable type: 'list'",
     "output_type": "error",
     "traceback": [
      "\u001b[1;31m---------------------------------------------------------------------------\u001b[0m",
      "\u001b[1;31mTypeError\u001b[0m                                 Traceback (most recent call last)",
      "\u001b[1;32m~\\AppData\\Local\\Temp\\ipykernel_15136\\1779514626.py\u001b[0m in \u001b[0;36m<module>\u001b[1;34m\u001b[0m\n\u001b[0;32m      1\u001b[0m \u001b[1;31m# u can not pass list as a key\u001b[0m\u001b[1;33m\u001b[0m\u001b[1;33m\u001b[0m\u001b[0m\n\u001b[1;32m----> 2\u001b[1;33m \u001b[0md1\u001b[0m \u001b[1;33m=\u001b[0m \u001b[1;33m{\u001b[0m\u001b[1;33m[\u001b[0m\u001b[1;36m1\u001b[0m\u001b[1;33m,\u001b[0m\u001b[1;36m2\u001b[0m\u001b[1;33m,\u001b[0m\u001b[1;36m3\u001b[0m\u001b[1;33m]\u001b[0m\u001b[1;33m:\u001b[0m\u001b[1;34m'hello'\u001b[0m\u001b[1;33m}\u001b[0m\u001b[1;33m\u001b[0m\u001b[1;33m\u001b[0m\u001b[0m\n\u001b[0m",
      "\u001b[1;31mTypeError\u001b[0m: unhashable type: 'list'"
     ]
    }
   ],
   "source": [
    "# u can not pass list as a key\n",
    "d1 = {[1,2,3]:'hello'}"
   ]
  },
  {
   "cell_type": "code",
   "execution_count": 5,
   "metadata": {},
   "outputs": [],
   "source": [
    "# u can pass tuple as a key\n",
    "# bcase tuples are immutable\n",
    "\n",
    "d2 = {(1,2,3):'hello'} "
   ]
  },
  {
   "cell_type": "code",
   "execution_count": 6,
   "metadata": {},
   "outputs": [
    {
     "data": {
      "text/plain": [
       "{'name': 'darshi', 'org': 'test', 'mailid': 'dpp@gmail.com'}"
      ]
     },
     "execution_count": 6,
     "metadata": {},
     "output_type": "execute_result"
    }
   ],
   "source": [
    "d3 = {\n",
    "    \"name\":\"darshita\",\n",
    "    \"org\":\"test\",\n",
    "    \"mailid\":\"dpp@gmail.com\",\n",
    "    \"name\":\"darshi\"\n",
    "\n",
    "}\n",
    "\n",
    "# u can not pass 2 same key.. u will hv latest key values in ur object\n",
    "# above example name hv 'darshi' value only...\n",
    "d3"
   ]
  },
  {
   "cell_type": "code",
   "execution_count": 7,
   "metadata": {},
   "outputs": [
    {
     "data": {
      "text/plain": [
       "{'org': 'test', 'mailid': 'dpp@gmail.com', 'name': 'darshi'}"
      ]
     },
     "execution_count": 7,
     "metadata": {},
     "output_type": "execute_result"
    }
   ],
   "source": [
    "d4 = {\n",
    "     \"name\":\"darshita\",\n",
    "    'mentor':{ \"org\":\"test\",\n",
    "                \"mailid\":\"dpp@gmail.com\",\n",
    "                \"name\":\"darshi\"\n",
    "                }\n",
    "}\n",
    "\n",
    "d4['mentor'] # sub dictionary"
   ]
  },
  {
   "cell_type": "code",
   "execution_count": 8,
   "metadata": {},
   "outputs": [
    {
     "data": {
      "text/plain": [
       "'dpp@gmail.com'"
      ]
     },
     "execution_count": 8,
     "metadata": {},
     "output_type": "execute_result"
    }
   ],
   "source": [
    "d4['mentor']['mailid']"
   ]
  },
  {
   "cell_type": "code",
   "execution_count": 9,
   "metadata": {},
   "outputs": [
    {
     "data": {
      "text/plain": [
       "dict_keys(['name', 'mentor'])"
      ]
     },
     "execution_count": 9,
     "metadata": {},
     "output_type": "execute_result"
    }
   ],
   "source": [
    "d4.keys() # all keys in list form"
   ]
  },
  {
   "cell_type": "code",
   "execution_count": 10,
   "metadata": {},
   "outputs": [
    {
     "data": {
      "text/plain": [
       "dict_values(['darshita', {'org': 'test', 'mailid': 'dpp@gmail.com', 'name': 'darshi'}])"
      ]
     },
     "execution_count": 10,
     "metadata": {},
     "output_type": "execute_result"
    }
   ],
   "source": [
    "d4.values() # all values"
   ]
  },
  {
   "cell_type": "code",
   "execution_count": 11,
   "metadata": {},
   "outputs": [
    {
     "data": {
      "text/plain": [
       "dict_items([('name', 'darshita'), ('mentor', {'org': 'test', 'mailid': 'dpp@gmail.com', 'name': 'darshi'})])"
      ]
     },
     "execution_count": 11,
     "metadata": {},
     "output_type": "execute_result"
    }
   ],
   "source": [
    "d4.items() # key value data from dict"
   ]
  },
  {
   "cell_type": "code",
   "execution_count": 12,
   "metadata": {},
   "outputs": [
    {
     "data": {
      "text/plain": [
       "['test', 'dpp@gmail.com', 'darshi']"
      ]
     },
     "execution_count": 12,
     "metadata": {},
     "output_type": "execute_result"
    }
   ],
   "source": [
    "# menotors.. values of dict in list form\n",
    "list(d4['mentor'].values())"
   ]
  },
  {
   "cell_type": "code",
   "execution_count": 14,
   "metadata": {},
   "outputs": [
    {
     "data": {
      "text/plain": [
       "[dict_values(['test', 'dpp@gmail.com', 'darshi'])]"
      ]
     },
     "execution_count": 14,
     "metadata": {},
     "output_type": "execute_result"
    }
   ],
   "source": [
    "# any values of dict in list form\n",
    "l = []\n",
    "for i in d4.keys():\n",
    "    if(type(d4[i]) == dict):\n",
    "        l.append(d4[i].values())\n",
    "\n",
    "l"
   ]
  },
  {
   "cell_type": "code",
   "execution_count": 2,
   "metadata": {},
   "outputs": [
    {
     "data": {
      "text/plain": [
       "{'name': 'darshi',\n",
       " 'mentor': {'org': 'test', 'mailid': 'dpp@gmail.com', 'name': 'darshi'},\n",
       " 'mailid': {'id1': 'idvalue1', 'id2': 'id2value2'}}"
      ]
     },
     "execution_count": 2,
     "metadata": {},
     "output_type": "execute_result"
    }
   ],
   "source": [
    "d5 = {\n",
    "        'name' :\"darshi\",\n",
    "        'mentor':{'class':'sir',\n",
    "            'bigdata':'hello'},\n",
    "        'mailid':{'id1':'idvalue1',\n",
    "                'id2':'id2value2'},\n",
    "        'mentor':{ \"org\":\"test\",\n",
    "                \"mailid\":\"dpp@gmail.com\",\n",
    "                \"name\":\"darshi\"\n",
    "                }\n",
    "}\n",
    "d5"
   ]
  },
  {
   "cell_type": "code",
   "execution_count": 19,
   "metadata": {},
   "outputs": [
    {
     "data": {
      "text/plain": [
       "[dict_values(['test', 'dpp@gmail.com', 'darshi']),\n",
       " dict_values(['idvalue1', 'id2value2'])]"
      ]
     },
     "execution_count": 19,
     "metadata": {},
     "output_type": "execute_result"
    }
   ],
   "source": [
    "l = []\n",
    "for i in d5.keys():\n",
    "    if(type(d5[i]) == dict):\n",
    "        l.append(d5[i].values())\n",
    "\n",
    "l"
   ]
  },
  {
   "cell_type": "code",
   "execution_count": 4,
   "metadata": {},
   "outputs": [
    {
     "data": {
      "text/plain": [
       "{'name': 'darshi',\n",
       " 'mentor': {'org': 'test', 'mailid': 'dpp@gmail.com', 'name': 'darshi'},\n",
       " 'mailid': {'id1': 'idvalue1', 'id2': 'id2value2'},\n",
       " 'mobile': (23534534, 324534, 34524)}"
      ]
     },
     "execution_count": 4,
     "metadata": {},
     "output_type": "execute_result"
    }
   ],
   "source": [
    "# add key and values\n",
    "\n",
    "d5['mobile'] = (23534534,324534,34524)\n",
    "d5"
   ]
  },
  {
   "cell_type": "code",
   "execution_count": 6,
   "metadata": {},
   "outputs": [
    {
     "data": {
      "text/plain": [
       "{'name': 'darshiii',\n",
       " 'mentor': {'org': 'test', 'mailid': 'dpp@gmail.com', 'name': 'darshi'},\n",
       " 'mailid': {'id1': 'idvalue1', 'id2': 'id2value2'},\n",
       " 'mobile': (23534534, 324534, 34524)}"
      ]
     },
     "execution_count": 6,
     "metadata": {},
     "output_type": "execute_result"
    }
   ],
   "source": [
    "#change/update values\n",
    "d5['name'] = \"darshiii\"\n",
    "d5"
   ]
  },
  {
   "cell_type": "code",
   "execution_count": 7,
   "metadata": {},
   "outputs": [
    {
     "data": {
      "text/plain": [
       "{'mentor': {'org': 'test', 'mailid': 'dpp@gmail.com', 'name': 'darshi'},\n",
       " 'mailid': {'id1': 'idvalue1', 'id2': 'id2value2'},\n",
       " 'mobile': (23534534, 324534, 34524)}"
      ]
     },
     "execution_count": 7,
     "metadata": {},
     "output_type": "execute_result"
    }
   ],
   "source": [
    "# delete specific values\n",
    "\n",
    "del d5['name']\n",
    "\n",
    "d5"
   ]
  },
  {
   "cell_type": "code",
   "execution_count": 9,
   "metadata": {},
   "outputs": [
    {
     "data": {
      "text/plain": [
       "{'mailid': {'id1': 'idvalue1', 'id2': 'id2value2'},\n",
       " 'mobile': (23534534, 324534, 34524)}"
      ]
     },
     "execution_count": 9,
     "metadata": {},
     "output_type": "execute_result"
    }
   ],
   "source": [
    "d5.pop('mentor') # fetch and remove\n",
    "d5"
   ]
  },
  {
   "cell_type": "code",
   "execution_count": 10,
   "metadata": {},
   "outputs": [
    {
     "data": {
      "text/plain": [
       "{'mailid': {'id1': 'idvalue1', 'id2': 'id2value2'},\n",
       " 'mobile': (23534534, 324534, 34524),\n",
       " 'mentor': {'org': 'test', 'mailid': 'dpp@gmail.com', 'name': 'darshi'}}"
      ]
     },
     "execution_count": 10,
     "metadata": {},
     "output_type": "execute_result"
    }
   ],
   "source": [
    "d5['mentor']={\n",
    "    'org': 'test', \n",
    "    'mailid': 'dpp@gmail.com', \n",
    "    'name': 'darshi'}\n",
    "\n",
    "d5"
   ]
  },
  {
   "cell_type": "code",
   "execution_count": 33,
   "metadata": {},
   "outputs": [
    {
     "name": "stdout",
     "output_type": "stream",
     "text": [
      "Sorted dictionary using lambda is :  {'e': 12, 'c': 23, 'a': 23, 'g': 67}\n"
     ]
    }
   ],
   "source": [
    "# Initialising a dictionary\n",
    "my_dict = {'c': 23, 'g': 67, 'e': 12, 'a': 23}\n",
    " \n",
    "# Sorting dictionary using lambda function\n",
    "sorted_dict = dict(sorted(my_dict.items(), key=lambda x: x[1]))\n",
    " \n",
    "# Printing sorted dictionary\n",
    "print(\"Sorted dictionary using lambda is : \", sorted_dict)"
   ]
  },
  {
   "cell_type": "code",
   "execution_count": 35,
   "metadata": {},
   "outputs": [
    {
     "name": "stdout",
     "output_type": "stream",
     "text": [
      "{'Messi': 125, 'Cruyff': 125, 'Ronaldo': 132, 'Pele': 150, 'Eusebio': 150}\n"
     ]
    }
   ],
   "source": [
    "footballers_goals = { 'Messi': 125,\n",
    "                    'Cruyff': 125, \n",
    "                    'Pele': 150, \n",
    "                    'Ronaldo': 132,\n",
    "                    'Eusebio': 150 \n",
    "                    }\n",
    "\n",
    "sorted_footballers_by_goals = sorted(footballers_goals.items(), key=lambda x:x[1])\n",
    "converted_dict = dict(sorted_footballers_by_goals)\n",
    "\n",
    "print(converted_dict)\n",
    "# Output: {'Cruyff': 104, 'Eusebio': 120, 'Messi': 125, 'Ronaldo': 132, 'Pele': 150}"
   ]
  }
 ],
 "metadata": {
  "kernelspec": {
   "display_name": "Python 3.9.13 ('base')",
   "language": "python",
   "name": "python3"
  },
  "language_info": {
   "codemirror_mode": {
    "name": "ipython",
    "version": 3
   },
   "file_extension": ".py",
   "mimetype": "text/x-python",
   "name": "python",
   "nbconvert_exporter": "python",
   "pygments_lexer": "ipython3",
   "version": "3.9.13"
  },
  "orig_nbformat": 4,
  "vscode": {
   "interpreter": {
    "hash": "a4df7a6600e22bae99e6e8f837be5af686fd7a404512ca9c2620376f38fe7d31"
   }
  }
 },
 "nbformat": 4,
 "nbformat_minor": 2
}
