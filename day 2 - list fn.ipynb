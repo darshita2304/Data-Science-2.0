{
 "cells": [
  {
   "cell_type": "code",
   "execution_count": 2,
   "id": "f1899736",
   "metadata": {},
   "outputs": [],
   "source": [
    "# list of python can hv same datatype or different..\n",
    "l = ['hello',123,34.55,'adas',4+8j]"
   ]
  },
  {
   "cell_type": "code",
   "execution_count": 3,
   "id": "0aca9110",
   "metadata": {},
   "outputs": [
    {
     "data": {
      "text/plain": [
       "'hello'"
      ]
     },
     "execution_count": 3,
     "metadata": {},
     "output_type": "execute_result"
    }
   ],
   "source": [
    "l[0]"
   ]
  },
  {
   "cell_type": "code",
   "execution_count": 4,
   "id": "427ee1e5",
   "metadata": {},
   "outputs": [
    {
     "data": {
      "text/plain": [
       "['hello', 123, 34.55, 'adas']"
      ]
     },
     "execution_count": 4,
     "metadata": {},
     "output_type": "execute_result"
    }
   ],
   "source": [
    "l[0:4] #startindex:end index"
   ]
  },
  {
   "cell_type": "code",
   "execution_count": 5,
   "id": "dde583bb",
   "metadata": {},
   "outputs": [
    {
     "data": {
      "text/plain": [
       "['hello', 'adas']"
      ]
     },
     "execution_count": 5,
     "metadata": {},
     "output_type": "execute_result"
    }
   ],
   "source": [
    "l[::3]#start:end:skip steps"
   ]
  },
  {
   "cell_type": "code",
   "execution_count": 8,
   "id": "1978ac63",
   "metadata": {},
   "outputs": [
    {
     "data": {
      "text/plain": [
       "[(4+8j)]"
      ]
     },
     "execution_count": 8,
     "metadata": {},
     "output_type": "execute_result"
    }
   ],
   "source": [
    "l[-1:6]#reverse index:end"
   ]
  },
  {
   "cell_type": "code",
   "execution_count": 6,
   "id": "c25224a6",
   "metadata": {},
   "outputs": [
    {
     "data": {
      "text/plain": [
       "'hello'"
      ]
     },
     "execution_count": 6,
     "metadata": {},
     "output_type": "execute_result"
    }
   ],
   "source": [
    "l[0]"
   ]
  },
  {
   "cell_type": "code",
   "execution_count": 11,
   "id": "df5ad6b0",
   "metadata": {},
   "outputs": [
    {
     "data": {
      "text/plain": [
       "'e'"
      ]
     },
     "execution_count": 11,
     "metadata": {},
     "output_type": "execute_result"
    }
   ],
   "source": [
    "l[0][1]#0th index 1st substring"
   ]
  },
  {
   "cell_type": "code",
   "execution_count": 12,
   "id": "cb7b810f",
   "metadata": {},
   "outputs": [
    {
     "data": {
      "text/plain": [
       "float"
      ]
     },
     "execution_count": 12,
     "metadata": {},
     "output_type": "execute_result"
    }
   ],
   "source": [
    "type(l[4])#type of 4th element"
   ]
  },
  {
   "cell_type": "code",
   "execution_count": 15,
   "id": "e33b444a",
   "metadata": {},
   "outputs": [],
   "source": [
    "l.insert(2,\"hello\")"
   ]
  },
  {
   "cell_type": "code",
   "execution_count": 10,
   "id": "8f05f114",
   "metadata": {},
   "outputs": [
    {
     "name": "stdout",
     "output_type": "stream",
     "text": [
      "['hello', 123, 'hello', 34.55, 'adas', (4+8j)]\n"
     ]
    }
   ],
   "source": [
    "print(l)"
   ]
  },
  {
   "cell_type": "code",
   "execution_count": 16,
   "id": "b5eb10c7",
   "metadata": {},
   "outputs": [
    {
     "name": "stdout",
     "output_type": "stream",
     "text": [
      "['hello', 123, 'hello', 'hello', 'hello', 'hello', 'hello', 34.55, 'adas', (4+8j), 'end']\n"
     ]
    }
   ],
   "source": [
    "l.append(\"end\") # append string at the end..\n",
    "print(l)"
   ]
  },
  {
   "cell_type": "code",
   "execution_count": 10,
   "id": "ff757845",
   "metadata": {},
   "outputs": [
    {
     "name": "stdout",
     "output_type": "stream",
     "text": [
      "['hello', 123, [1, 2, 3, 4], 'hello', 34.55, 'adas', (4+8j), 'end', 'end']\n"
     ]
    }
   ],
   "source": [
    "l.insert(2, [1,2,3,4]) # append list at 2nd position\n",
    "print(l)"
   ]
  },
  {
   "cell_type": "code",
   "execution_count": 17,
   "id": "90518425",
   "metadata": {},
   "outputs": [],
   "source": [
    " # fetch from last"
   ]
  },
  {
   "cell_type": "code",
   "execution_count": 12,
   "id": "93265ab4",
   "metadata": {},
   "outputs": [
    {
     "data": {
      "text/plain": [
       "'end'"
      ]
     },
     "execution_count": 12,
     "metadata": {},
     "output_type": "execute_result"
    }
   ],
   "source": [
    "l.pop() #2nd fetch from last"
   ]
  },
  {
   "cell_type": "code",
   "execution_count": 18,
   "id": "d83b338a",
   "metadata": {},
   "outputs": [
    {
     "data": {
      "text/plain": [
       "['end',\n",
       " (4+8j),\n",
       " 'adas',\n",
       " 34.55,\n",
       " 'hello',\n",
       " 'hello',\n",
       " 'hello',\n",
       " 'hello',\n",
       " 'hello',\n",
       " 123,\n",
       " 'hello']"
      ]
     },
     "execution_count": 18,
     "metadata": {},
     "output_type": "execute_result"
    }
   ],
   "source": [
    " l[::-1] #reverse list"
   ]
  },
  {
   "cell_type": "code",
   "execution_count": 16,
   "id": "17864450",
   "metadata": {},
   "outputs": [
    {
     "name": "stdout",
     "output_type": "stream",
     "text": [
      "['hello', 123, [1, 2, 3, 4], 'hello', 34.55, 'adas', (4+8j)]\n"
     ]
    }
   ],
   "source": [
    "l.reverse() \n",
    "print(l)"
   ]
  },
  {
   "cell_type": "code",
   "execution_count": 19,
   "id": "7a00dc93",
   "metadata": {},
   "outputs": [
    {
     "data": {
      "text/plain": [
       "'l'"
      ]
     },
     "execution_count": 19,
     "metadata": {},
     "output_type": "execute_result"
    }
   ],
   "source": [
    "l[2][2] # 3nd row 3rd column"
   ]
  },
  {
   "cell_type": "code",
   "execution_count": 20,
   "id": "096189d4",
   "metadata": {},
   "outputs": [
    {
     "data": {
      "text/plain": [
       "6"
      ]
     },
     "execution_count": 20,
     "metadata": {},
     "output_type": "execute_result"
    }
   ],
   "source": [
    "l.count('hello') #'hello' appear 2 times"
   ]
  },
  {
   "cell_type": "code",
   "execution_count": 21,
   "id": "8783ab2b",
   "metadata": {},
   "outputs": [
    {
     "data": {
      "text/plain": [
       "['hello',\n",
       " 123,\n",
       " [1, 2, 3, 4],\n",
       " 'hello',\n",
       " 34.55,\n",
       " 'adas',\n",
       " (4+8j),\n",
       " [55, 66],\n",
       " [55, 66],\n",
       " [55, 66]]"
      ]
     },
     "execution_count": 21,
     "metadata": {},
     "output_type": "execute_result"
    }
   ],
   "source": [
    "l.append([55,66]) # insert an element with list at last\n",
    "l"
   ]
  },
  {
   "cell_type": "code",
   "execution_count": 21,
   "id": "9bccfe06",
   "metadata": {},
   "outputs": [
    {
     "data": {
      "text/plain": [
       "['hello',\n",
       " 123,\n",
       " 'hello',\n",
       " 'hello',\n",
       " 'hello',\n",
       " 'hello',\n",
       " 'hello',\n",
       " 34.55,\n",
       " 'adas',\n",
       " (4+8j),\n",
       " 'end',\n",
       " 22,\n",
       " 33,\n",
       " 44]"
      ]
     },
     "execution_count": 21,
     "metadata": {},
     "output_type": "execute_result"
    }
   ],
   "source": [
    "l.extend([22,33,44]) # concat the list...\n",
    "l"
   ]
  },
  {
   "cell_type": "code",
   "execution_count": 22,
   "id": "cc39e918",
   "metadata": {},
   "outputs": [
    {
     "data": {
      "text/plain": [
       "['hello',\n",
       " 123,\n",
       " 'hello',\n",
       " 'hello',\n",
       " 'hello',\n",
       " 'hello',\n",
       " 'hello',\n",
       " 34.55,\n",
       " 'adas',\n",
       " (4+8j),\n",
       " 'end',\n",
       " 22,\n",
       " 33,\n",
       " 44]"
      ]
     },
     "execution_count": 22,
     "metadata": {},
     "output_type": "execute_result"
    }
   ],
   "source": [
    "l"
   ]
  },
  {
   "cell_type": "code",
   "execution_count": 24,
   "id": "289aaee9",
   "metadata": {},
   "outputs": [
    {
     "name": "stdout",
     "output_type": "stream",
     "text": [
      "0 hello\n",
      "2 hello\n",
      "4 hello\n",
      "6 hello\n",
      "8 adas\n",
      "10 end\n",
      "12 33\n"
     ]
    }
   ],
   "source": [
    "for i in range(0,len(l),2):# range(start,end,skip by 2)\n",
    "    print(i, l[i])"
   ]
  },
  {
   "cell_type": "code",
   "execution_count": 25,
   "id": "e830bd8a",
   "metadata": {},
   "outputs": [
    {
     "name": "stdout",
     "output_type": "stream",
     "text": [
      "-1 44\n",
      "-2 33\n",
      "-3 22\n",
      "-4 end\n",
      "-5 (4+8j)\n",
      "-6 adas\n",
      "-7 34.55\n",
      "-8 hello\n",
      "-9 hello\n",
      "-10 hello\n",
      "-11 hello\n",
      "-12 hello\n",
      "-13 123\n",
      "-14 hello\n"
     ]
    }
   ],
   "source": [
    "for i in range(-1,-len(l)-1,-1):# reverse lis print(start,end,skip by -1)\n",
    "    print(i, l[i])"
   ]
  },
  {
   "cell_type": "code",
   "execution_count": null,
   "id": "8fbe1f8a",
   "metadata": {},
   "outputs": [],
   "source": []
  }
 ],
 "metadata": {
  "kernelspec": {
   "display_name": "Python 3.9.13 ('base')",
   "language": "python",
   "name": "python3"
  },
  "language_info": {
   "codemirror_mode": {
    "name": "ipython",
    "version": 3
   },
   "file_extension": ".py",
   "mimetype": "text/x-python",
   "name": "python",
   "nbconvert_exporter": "python",
   "pygments_lexer": "ipython3",
   "version": "3.9.13"
  },
  "vscode": {
   "interpreter": {
    "hash": "a4df7a6600e22bae99e6e8f837be5af686fd7a404512ca9c2620376f38fe7d31"
   }
  }
 },
 "nbformat": 4,
 "nbformat_minor": 5
}
