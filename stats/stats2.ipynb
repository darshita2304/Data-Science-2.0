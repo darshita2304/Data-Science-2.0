{
 "cells": [
  {
   "cell_type": "code",
   "execution_count": 67,
   "id": "c69f90f3",
   "metadata": {},
   "outputs": [],
   "source": [
    "import numpy as np\n",
    "from statistics import mode"
   ]
  },
  {
   "cell_type": "code",
   "execution_count": 68,
   "id": "ee576376",
   "metadata": {},
   "outputs": [],
   "source": [
    "population=np.random.randint(10,20,50) # generating 50 numbers between 10 to 20"
   ]
  },
  {
   "cell_type": "code",
   "execution_count": 69,
   "id": "bae705c2",
   "metadata": {},
   "outputs": [
    {
     "data": {
      "text/plain": [
       "array([15, 13, 14, 18, 13, 13, 14, 19, 10, 18, 16, 15, 15, 18, 18, 12, 16,\n",
       "       13, 10, 16, 11, 12, 11, 19, 19, 10, 18, 19, 12, 16, 14, 10, 15, 12,\n",
       "       12, 14, 16, 12, 16, 19, 18, 18, 17, 14, 18, 15, 18, 18, 13, 11])"
      ]
     },
     "execution_count": 69,
     "metadata": {},
     "output_type": "execute_result"
    }
   ],
   "source": [
    "population"
   ]
  },
  {
   "cell_type": "code",
   "execution_count": 70,
   "id": "dfa59ce0",
   "metadata": {},
   "outputs": [
    {
     "data": {
      "text/plain": [
       "14.86"
      ]
     },
     "execution_count": 70,
     "metadata": {},
     "output_type": "execute_result"
    }
   ],
   "source": [
    "np.mean(population) # mean of poplutation arrat"
   ]
  },
  {
   "cell_type": "code",
   "execution_count": 71,
   "id": "b8450e38",
   "metadata": {},
   "outputs": [
    {
     "data": {
      "text/plain": [
       "15.0"
      ]
     },
     "execution_count": 71,
     "metadata": {},
     "output_type": "execute_result"
    }
   ],
   "source": [
    "np.median(population)"
   ]
  },
  {
   "cell_type": "code",
   "execution_count": 72,
   "id": "88864a5c",
   "metadata": {},
   "outputs": [
    {
     "data": {
      "text/plain": [
       "18"
      ]
     },
     "execution_count": 72,
     "metadata": {},
     "output_type": "execute_result"
    }
   ],
   "source": [
    "mode(population)"
   ]
  },
  {
   "cell_type": "code",
   "execution_count": 73,
   "id": "c9aebbbb",
   "metadata": {},
   "outputs": [
    {
     "name": "stdout",
     "output_type": "stream",
     "text": [
      "mean of the population 14.86\n",
      "median of the population 15.0\n",
      "mode of the population 18\n"
     ]
    }
   ],
   "source": [
    "print(f\"mean of the population {np.mean(population)}\")\n",
    "print(f\"median of the population {np.median(population)}\")\n",
    "print(f\"mode of the population {mode(population)}\")"
   ]
  },
  {
   "cell_type": "code",
   "execution_count": 74,
   "id": "bbdbc3f9",
   "metadata": {},
   "outputs": [],
   "source": [
    "sample=np.random.choice(population,20) # taking random sample of the data"
   ]
  },
  {
   "cell_type": "code",
   "execution_count": 75,
   "id": "c0f0ec3e",
   "metadata": {},
   "outputs": [
    {
     "name": "stdout",
     "output_type": "stream",
     "text": [
      "mean of the sample 14.85\n",
      "median of the sample 15.5\n",
      "mode of the sample 12\n"
     ]
    }
   ],
   "source": [
    "print(f\"mean of the sample {np.mean(sample)}\")\n",
    "print(f\"median of the sample {np.median(sample)}\")\n",
    "print(f\"mode of the sample {mode(sample)}\")"
   ]
  },
  {
   "cell_type": "code",
   "execution_count": 76,
   "id": "65911ccb",
   "metadata": {},
   "outputs": [],
   "source": [
    "sample1=np.random.choice(population,20)\n",
    "sample2=np.random.choice(population,20)\n",
    "sample3=np.random.choice(population,20)\n",
    "sample4=np.random.choice(population,20)"
   ]
  },
  {
   "cell_type": "code",
   "execution_count": 77,
   "id": "a615ad19",
   "metadata": {},
   "outputs": [
    {
     "name": "stdout",
     "output_type": "stream",
     "text": [
      "[11 14 19 11 10 16 12 18 18 18 18 18 15 11 15 18 12 16 19 13]\n",
      "============================================================\n",
      "[19 16 14 16 13 18 12 18 18 12 16 19 16 10 16 15 11 15 16 10]\n",
      "============================================================\n",
      "[18 14 12 18 10 10 18 19 10 16 18 11 10 16 13 18 19 16 19 19]\n",
      "============================================================\n",
      "[15 12 18 10 11 19 15 14 12 16 11 14 18 10 15 18 10 15 12 14]\n"
     ]
    }
   ],
   "source": [
    "print(sample1)\n",
    "print(60*\"=\")\n",
    "print(sample2)\n",
    "print(60*\"=\")\n",
    "print(sample3)\n",
    "print(60*\"=\")\n",
    "print(sample4)"
   ]
  },
  {
   "cell_type": "code",
   "execution_count": 78,
   "id": "e38f78e7",
   "metadata": {},
   "outputs": [],
   "source": [
    "#creating mean of samples...\n",
    "mean_of_samples=[]\n",
    "\n",
    "all_sample=[sample1,sample2,sample3,sample4]\n",
    "\n",
    "for sample in all_sample:\n",
    "    mean_of_samples.append(np.mean(sample))\n"
   ]
  },
  {
   "cell_type": "code",
   "execution_count": 79,
   "id": "cabdc9c1",
   "metadata": {},
   "outputs": [
    {
     "data": {
      "text/plain": [
       "[15.1, 15.0, 15.2, 13.95]"
      ]
     },
     "execution_count": 79,
     "metadata": {},
     "output_type": "execute_result"
    }
   ],
   "source": [
    "mean_of_samples"
   ]
  },
  {
   "cell_type": "code",
   "execution_count": null,
   "id": "3413a672",
   "metadata": {},
   "outputs": [],
   "source": []
  },
  {
   "cell_type": "markdown",
   "id": "8faf91c3",
   "metadata": {},
   "source": [
    "# central limit theoram"
   ]
  },
  {
   "cell_type": "code",
   "execution_count": 81,
   "id": "98061da3",
   "metadata": {},
   "outputs": [],
   "source": [
    "population=np.random.binomial(10,0.5,10000)"
   ]
  },
  {
   "cell_type": "code",
   "execution_count": 82,
   "id": "5ee0a65f",
   "metadata": {},
   "outputs": [
    {
     "name": "stdout",
     "output_type": "stream",
     "text": [
      "[4 6 5 ... 5 7 7]\n"
     ]
    }
   ],
   "source": [
    "print(population)"
   ]
  },
  {
   "cell_type": "code",
   "execution_count": 83,
   "id": "611cb7d0",
   "metadata": {},
   "outputs": [
    {
     "data": {
      "text/plain": [
       "10000"
      ]
     },
     "execution_count": 83,
     "metadata": {},
     "output_type": "execute_result"
    }
   ],
   "source": [
    "len(population)"
   ]
  },
  {
   "cell_type": "code",
   "execution_count": 85,
   "id": "66112dc5",
   "metadata": {},
   "outputs": [
    {
     "name": "stderr",
     "output_type": "stream",
     "text": [
      "f:\\anaconda3\\lib\\site-packages\\seaborn\\distributions.py:2619: FutureWarning: `distplot` is a deprecated function and will be removed in a future version. Please adapt your code to use either `displot` (a figure-level function with similar flexibility) or `histplot` (an axes-level function for histograms).\n",
      "  warnings.warn(msg, FutureWarning)\n"
     ]
    },
    {
     "data": {
      "text/plain": [
       "<AxesSubplot:ylabel='Density'>"
      ]
     },
     "execution_count": 85,
     "metadata": {},
     "output_type": "execute_result"
    },
    {
     "data": {
      "image/png": "[encoded data removed]",
      "text/plain": [
       "<Figure size 640x480 with 1 Axes>"
      ]
     },
     "metadata": {},
     "output_type": "display_data"
    }
   ],
   "source": [
    "import seaborn as sns\n",
    "sns.distplot(population)"
   ]
  },
  {
   "cell_type": "code",
   "execution_count": 86,
   "id": "3f506950",
   "metadata": {},
   "outputs": [
    {
     "data": {
      "text/plain": [
       "10000"
      ]
     },
     "execution_count": 86,
     "metadata": {},
     "output_type": "execute_result"
    }
   ],
   "source": [
    "len(population)"
   ]
  },
  {
   "cell_type": "code",
   "execution_count": 87,
   "id": "c128e087",
   "metadata": {},
   "outputs": [
    {
     "data": {
      "text/plain": [
       "3000"
      ]
     },
     "execution_count": 87,
     "metadata": {},
     "output_type": "execute_result"
    }
   ],
   "source": [
    "int(len(population)*0.30)"
   ]
  },
  {
   "cell_type": "code",
   "execution_count": 88,
   "id": "b0b25491",
   "metadata": {},
   "outputs": [],
   "source": [
    "size=int(len(population)*0.30) # size of sample"
   ]
  },
  {
   "cell_type": "code",
   "execution_count": 89,
   "id": "9da92fcf",
   "metadata": {},
   "outputs": [],
   "source": [
    "sample_mean=[]\n",
    "for i in range(1,31):\n",
    "    sample=np.random.choice(population,size=size)\n",
    "    sample_mean.append(np.mean(sample))"
   ]
  },
  {
   "cell_type": "code",
   "execution_count": 90,
   "id": "30faa1a1",
   "metadata": {},
   "outputs": [
    {
     "data": {
      "text/plain": [
       "[4.988666666666667,\n",
       " 5.047,\n",
       " 5.02,\n",
       " 4.980333333333333,\n",
       " 4.986666666666666,\n",
       " 5.065,\n",
       " 4.991333333333333,\n",
       " 5.022666666666667,\n",
       " 4.997,\n",
       " 4.942,\n",
       " 5.012,\n",
       " 4.957,\n",
       " 4.975333333333333,\n",
       " 4.973333333333334,\n",
       " 5.000333333333334,\n",
       " 5.012666666666667,\n",
       " 4.994666666666666,\n",
       " 5.093333333333334,\n",
       " 5.05,\n",
       " 5.001,\n",
       " 5.004666666666667,\n",
       " 5.024333333333334,\n",
       " 4.971333333333333,\n",
       " 4.983,\n",
       " 4.992333333333334,\n",
       " 5.066,\n",
       " 5.004666666666667,\n",
       " 5.017666666666667,\n",
       " 5.006,\n",
       " 5.036333333333333]"
      ]
     },
     "execution_count": 90,
     "metadata": {},
     "output_type": "execute_result"
    }
   ],
   "source": [
    "sample_mean #array of mean of sample"
   ]
  },
  {
   "cell_type": "code",
   "execution_count": 91,
   "id": "2fd0b312",
   "metadata": {},
   "outputs": [
    {
     "name": "stderr",
     "output_type": "stream",
     "text": [
      "f:\\anaconda3\\lib\\site-packages\\seaborn\\distributions.py:2619: FutureWarning: `distplot` is a deprecated function and will be removed in a future version. Please adapt your code to use either `displot` (a figure-level function with similar flexibility) or `histplot` (an axes-level function for histograms).\n",
      "  warnings.warn(msg, FutureWarning)\n"
     ]
    },
    {
     "data": {
      "text/plain": [
       "<AxesSubplot:ylabel='Density'>"
      ]
     },
     "execution_count": 91,
     "metadata": {},
     "output_type": "execute_result"
    },
    {
     "data": {
      "image/png": "[encoded data removed]",
      "text/plain": [
       "<Figure size 640x480 with 1 Axes>"
      ]
     },
     "metadata": {},
     "output_type": "display_data"
    }
   ],
   "source": [
    "sns.distplot(sample_mean) # plotting of sample mean and checking central theorum"
   ]
  },
  {
   "cell_type": "code",
   "execution_count": 92,
   "id": "088dc086",
   "metadata": {},
   "outputs": [],
   "source": [
    "sample_mean=[]\n",
    "for i in range(1,100):\n",
    "    sample=np.random.choice(population,size=size)\n",
    "    sample_mean.append(np.mean(sample))"
   ]
  },
  {
   "cell_type": "code",
   "execution_count": 93,
   "id": "612b4452",
   "metadata": {},
   "outputs": [
    {
     "name": "stderr",
     "output_type": "stream",
     "text": [
      "f:\\anaconda3\\lib\\site-packages\\seaborn\\distributions.py:2619: FutureWarning: `distplot` is a deprecated function and will be removed in a future version. Please adapt your code to use either `displot` (a figure-level function with similar flexibility) or `histplot` (an axes-level function for histograms).\n",
      "  warnings.warn(msg, FutureWarning)\n"
     ]
    },
    {
     "data": {
      "text/plain": [
       "<AxesSubplot:ylabel='Density'>"
      ]
     },
     "execution_count": 93,
     "metadata": {},
     "output_type": "execute_result"
    },
    {
     "data": {
      "image/png": "[encoded data removed]",
      "text/plain": [
       "<Figure size 640x480 with 1 Axes>"
      ]
     },
     "metadata": {},
     "output_type": "display_data"
    }
   ],
   "source": [
    "sns.distplot(sample_mean)"
   ]
  },
  {
   "cell_type": "code",
   "execution_count": 94,
   "id": "dfc43342",
   "metadata": {},
   "outputs": [],
   "source": [
    "sample_mean=[]\n",
    "for i in range(1,501):\n",
    "    sample=np.random.choice(population,size=size)\n",
    "    sample_mean.append(np.mean(sample))"
   ]
  },
  {
   "cell_type": "code",
   "execution_count": 95,
   "id": "f5deb742",
   "metadata": {},
   "outputs": [
    {
     "name": "stderr",
     "output_type": "stream",
     "text": [
      "f:\\anaconda3\\lib\\site-packages\\seaborn\\distributions.py:2619: FutureWarning: `distplot` is a deprecated function and will be removed in a future version. Please adapt your code to use either `displot` (a figure-level function with similar flexibility) or `histplot` (an axes-level function for histograms).\n",
      "  warnings.warn(msg, FutureWarning)\n"
     ]
    },
    {
     "data": {
      "text/plain": [
       "<AxesSubplot:ylabel='Density'>"
      ]
     },
     "execution_count": 95,
     "metadata": {},
     "output_type": "execute_result"
    },
    {
     "data": {
      "image/png": "[encoded data removed]",
      "text/plain": [
       "<Figure size 640x480 with 1 Axes>"
      ]
     },
     "metadata": {},
     "output_type": "display_data"
    }
   ],
   "source": [
    "sns.distplot(sample_mean,kde=True,color=\"red\")"
   ]
  },
  {
   "cell_type": "code",
   "execution_count": 61,
   "id": "f7a2f724",
   "metadata": {},
   "outputs": [],
   "source": [
    "sample_mean=[]\n",
    "for i in range(1,1000):\n",
    "    sample=np.random.choice(population,size=size)\n",
    "    sample_mean.append(np.mean(sample))"
   ]
  },
  {
   "cell_type": "code",
   "execution_count": 62,
   "id": "10fa089b",
   "metadata": {},
   "outputs": [
    {
     "name": "stderr",
     "output_type": "stream",
     "text": [
      "f:\\anaconda3\\lib\\site-packages\\seaborn\\distributions.py:2619: FutureWarning: `distplot` is a deprecated function and will be removed in a future version. Please adapt your code to use either `displot` (a figure-level function with similar flexibility) or `histplot` (an axes-level function for histograms).\n",
      "  warnings.warn(msg, FutureWarning)\n"
     ]
    },
    {
     "data": {
      "text/plain": [
       "<AxesSubplot:ylabel='Density'>"
      ]
     },
     "execution_count": 62,
     "metadata": {},
     "output_type": "execute_result"
    },
    {
     "data": {
      "image/png": "[encoded data removed]",
      "text/plain": [
       "<Figure size 640x480 with 1 Axes>"
      ]
     },
     "metadata": {},
     "output_type": "display_data"
    }
   ],
   "source": [
    "sns.distplot(sample_mean)"
   ]
  },
  {
   "cell_type": "code",
   "execution_count": 63,
   "id": "c2682670",
   "metadata": {},
   "outputs": [
    {
     "data": {
      "text/plain": [
       "4.994737737737738"
      ]
     },
     "execution_count": 63,
     "metadata": {},
     "output_type": "execute_result"
    }
   ],
   "source": [
    "np.mean(sample_mean)"
   ]
  },
  {
   "cell_type": "markdown",
   "id": "880cb251",
   "metadata": {},
   "source": [
    "# confidence interval and margin of error"
   ]
  },
  {
   "cell_type": "code",
   "execution_count": 64,
   "id": "8dd46f9d",
   "metadata": {},
   "outputs": [],
   "source": [
    "import scipy.stats as stats"
   ]
  },
  {
   "cell_type": "code",
   "execution_count": 65,
   "id": "472cea43",
   "metadata": {},
   "outputs": [
    {
     "data": {
      "text/plain": [
       "1.6448536269514722"
      ]
     },
     "execution_count": 65,
     "metadata": {},
     "output_type": "execute_result"
    }
   ],
   "source": [
    "stats.norm.ppf(q=0.95) # confidence interval 95% - probabilty density function.."
   ]
  },
  {
   "cell_type": "code",
   "execution_count": 66,
   "id": "7f40c5c4",
   "metadata": {},
   "outputs": [
    {
     "data": {
      "text/plain": [
       "1.8807936081512509"
      ]
     },
     "execution_count": 66,
     "metadata": {},
     "output_type": "execute_result"
    }
   ],
   "source": [
    "stats.norm.ppf(q=0.97) # confidence interval 95%"
   ]
  },
  {
   "cell_type": "code",
   "execution_count": 80,
   "id": "8acd0037",
   "metadata": {},
   "outputs": [],
   "source": [
    "population=np.random.randint(10,20,50)"
   ]
  },
  {
   "cell_type": "code",
   "execution_count": null,
   "id": "85bbc31a",
   "metadata": {},
   "outputs": [],
   "source": []
  },
  {
   "cell_type": "code",
   "execution_count": 84,
   "id": "46a8cec3",
   "metadata": {},
   "outputs": [
    {
     "data": {
      "text/plain": [
       "array([4, 6, 5, ..., 5, 7, 7])"
      ]
     },
     "execution_count": 84,
     "metadata": {},
     "output_type": "execute_result"
    }
   ],
   "source": [
    "population"
   ]
  },
  {
   "cell_type": "code",
   "execution_count": 96,
   "id": "d0c4f4ca",
   "metadata": {},
   "outputs": [],
   "source": [
    "sample1=np.random.choice(population,20)\n",
    "sample2=np.random.choice(population,20)\n",
    "sample3=np.random.choice(population,20)\n",
    "sample4=np.random.choice(population,20)"
   ]
  },
  {
   "cell_type": "code",
   "execution_count": 34,
   "id": "3b339270",
   "metadata": {},
   "outputs": [],
   "source": [
    "mean_of_samples=[]\n",
    "\n",
    "all_sample=[sample1,sample2,sample3,sample4]\n",
    "\n",
    "for sample in all_sample:\n",
    "    mean_of_samples.append(np.mean(sample))"
   ]
  },
  {
   "cell_type": "code",
   "execution_count": 97,
   "id": "cc7e714a",
   "metadata": {},
   "outputs": [],
   "source": [
    "import scipy.stats as stats"
   ]
  },
  {
   "cell_type": "code",
   "execution_count": 99,
   "id": "d26b52e5",
   "metadata": {},
   "outputs": [],
   "source": [
    "#stats.norm.ppf(q=0.95)\n",
    "#stats.norm.ppf(q=0.975)\n",
    "#stats.norm.ppf(q=0.99)"
   ]
  },
  {
   "cell_type": "code",
   "execution_count": 100,
   "id": "e849e051",
   "metadata": {},
   "outputs": [],
   "source": [
    "z_critical = stats.norm.ppf(q=0.975) # z score\n"
   ]
  },
  {
   "cell_type": "code",
   "execution_count": 102,
   "id": "a8856a18",
   "metadata": {},
   "outputs": [],
   "source": [
    "t_critical = stats.t.ppf(q=0.975,df=24) #  df is degree of freedom"
   ]
  },
  {
   "cell_type": "code",
   "execution_count": 103,
   "id": "58723886",
   "metadata": {},
   "outputs": [],
   "source": [
    "margin_of_error = z_critical * (np.std(mean_of_samples)/np.sqrt(20)) "
   ]
  },
  {
   "cell_type": "code",
   "execution_count": 104,
   "id": "d0166872",
   "metadata": {},
   "outputs": [
    {
     "data": {
      "text/plain": [
       "14.592072116549712"
      ]
     },
     "execution_count": 104,
     "metadata": {},
     "output_type": "execute_result"
    }
   ],
   "source": [
    "np.mean(mean_of_samples)-margin_of_error"
   ]
  },
  {
   "cell_type": "code",
   "execution_count": 105,
   "id": "cbb14e79",
   "metadata": {},
   "outputs": [
    {
     "data": {
      "text/plain": [
       "15.032927883450288"
      ]
     },
     "execution_count": 105,
     "metadata": {},
     "output_type": "execute_result"
    }
   ],
   "source": [
    "np.mean(mean_of_samples)+margin_of_error"
   ]
  },
  {
   "cell_type": "markdown",
   "id": "ccb8f1e4",
   "metadata": {},
   "source": [
    "# Z-test"
   ]
  },
  {
   "cell_type": "code",
   "execution_count": 106,
   "id": "b3992238",
   "metadata": {},
   "outputs": [],
   "source": [
    "from numpy.random import randn\n",
    "population=randn(100)\n"
   ]
  },
  {
   "cell_type": "code",
   "execution_count": 107,
   "id": "d9b4a194",
   "metadata": {},
   "outputs": [
    {
     "data": {
      "text/plain": [
       "array([-1.24428121, -1.60928492,  0.75697294,  0.08206425, -0.90271793,\n",
       "       -0.15445907, -0.0253351 ,  0.25652299,  1.42271564,  1.91438521,\n",
       "       -0.69271079, -1.49396021, -0.20428041,  0.5844753 , -0.49193183,\n",
       "        0.65996276, -0.24251105,  1.10935334,  0.23088479, -0.07072971,\n",
       "       -0.89314316, -0.27865085,  0.87047154,  0.72074818,  0.90829455,\n",
       "        1.14310996,  1.0975469 ,  0.27691251,  0.19868208,  0.67281833,\n",
       "        0.1835226 , -1.80217994,  1.36102141,  0.59332676,  1.05061063,\n",
       "       -0.87636594, -0.73804444, -1.03255436,  0.07322579, -1.4632222 ,\n",
       "       -1.16403727, -0.50796169,  1.54991611, -0.64913354,  0.58782018,\n",
       "        2.91014575,  0.64750299,  1.20615459,  0.03197689, -0.95654383,\n",
       "        1.5046194 ,  0.40208426,  2.0583266 , -0.85504523,  1.32541287,\n",
       "        0.83298418, -0.00476051, -0.66731712,  0.19291283,  0.41213692,\n",
       "        0.64156084,  1.41021126, -0.0142818 , -1.17704169,  0.10664014,\n",
       "       -0.86398069,  0.21024577, -1.3940853 ,  1.2667396 ,  0.67126947,\n",
       "       -0.68995833,  0.25779866,  1.20042577,  0.26115124,  0.08826662,\n",
       "        2.55227561, -0.81698482,  0.33847454, -1.28605854,  0.53275142,\n",
       "        0.12924775, -0.39519894, -0.13619915, -0.30297875,  0.80770082,\n",
       "       -0.75355472,  0.70116807,  1.24943784,  0.16955038,  0.97722351,\n",
       "        0.61033271,  1.34861244, -1.09332075,  0.67617939,  0.23804686,\n",
       "       -0.35016925, -1.65905049,  0.14726552,  0.31173662, -2.83554047])"
      ]
     },
     "execution_count": 107,
     "metadata": {},
     "output_type": "execute_result"
    }
   ],
   "source": [
    "population"
   ]
  },
  {
   "cell_type": "code",
   "execution_count": 44,
   "id": "883c6025",
   "metadata": {},
   "outputs": [
    {
     "name": "stderr",
     "output_type": "stream",
     "text": [
      "f:\\anaconda3\\lib\\site-packages\\seaborn\\distributions.py:2619: FutureWarning: `distplot` is a deprecated function and will be removed in a future version. Please adapt your code to use either `displot` (a figure-level function with similar flexibility) or `histplot` (an axes-level function for histograms).\n",
      "  warnings.warn(msg, FutureWarning)\n"
     ]
    },
    {
     "data": {
      "text/plain": [
       "<AxesSubplot:ylabel='Density'>"
      ]
     },
     "execution_count": 44,
     "metadata": {},
     "output_type": "execute_result"
    },
    {
     "data": {
      "image/png": "[encoded data removed]",
      "text/plain": [
       "<Figure size 640x480 with 1 Axes>"
      ]
     },
     "metadata": {},
     "output_type": "display_data"
    }
   ],
   "source": [
    "sns.distplot(population)"
   ]
  },
  {
   "cell_type": "code",
   "execution_count": 108,
   "id": "148f4652",
   "metadata": {},
   "outputs": [
    {
     "name": "stdout",
     "output_type": "stream",
     "text": [
      "here is a mean of the population: 0.1394436886082401,here is a std dev 0.9876887478703683\n"
     ]
    }
   ],
   "source": [
    "print(f\"here is a mean of the population: {np.mean(population)},here is a std dev {np.std(population)}\")"
   ]
  },
  {
   "cell_type": "code",
   "execution_count": 109,
   "id": "27df3f2a",
   "metadata": {},
   "outputs": [],
   "source": [
    "null_mean= 0.022"
   ]
  },
  {
   "cell_type": "code",
   "execution_count": 113,
   "id": "97972d5d",
   "metadata": {},
   "outputs": [],
   "source": [
    "# C.I=0.95#(95%)\n",
    "# ALPHA=0.05#(5%)\n",
    "# P<=0.05#REJECT THE NULL HYPHOTHESIS\n",
    "# P>0.05 #YOU ARE GOING TO ACCEPT THE NULL HYPHOTEIS\n",
    "# P<=ALPHA\n",
    "# P>ALPHA"
   ]
  },
  {
   "cell_type": "code",
   "execution_count": null,
   "id": "a923b1c9",
   "metadata": {},
   "outputs": [],
   "source": [
    "from statsmodels.stats.weightstats import ztest\n",
    "\n",
    "\n",
    "z_score,p_value=ztest(population,value=null_mean,alternative='larger')"
   ]
  },
  {
   "cell_type": "code",
   "execution_count": null,
   "id": "9aec38a5",
   "metadata": {},
   "outputs": [
    {
     "data": {
      "text/plain": [
       "0.3058568810305518"
      ]
     },
     "execution_count": 115,
     "metadata": {},
     "output_type": "execute_result"
    }
   ],
   "source": [
    "z_score"
   ]
  },
  {
   "cell_type": "code",
   "execution_count": null,
   "id": "f40bb87d",
   "metadata": {},
   "outputs": [
    {
     "data": {
      "text/plain": [
       "0.37985680876945827"
      ]
     },
     "execution_count": 114,
     "metadata": {},
     "output_type": "execute_result"
    }
   ],
   "source": [
    "p_value"
   ]
  },
  {
   "cell_type": "code",
   "execution_count": null,
   "id": "cd8e4f68",
   "metadata": {},
   "outputs": [
    {
     "name": "stdout",
     "output_type": "stream",
     "text": [
      "we are going to accpept the null hyphothesis\n"
     ]
    }
   ],
   "source": [
    "if (p_value<ALPHA):\n",
    "    print(\"reject the null hyphothesis\")\n",
    "else:\n",
    "    print(\"we are going to accpept the null hyphothesis\")\n",
    "    "
   ]
  },
  {
   "cell_type": "code",
   "execution_count": null,
   "id": "4589fb1a",
   "metadata": {},
   "outputs": [],
   "source": []
  }
 ],
 "metadata": {
  "kernelspec": {
   "display_name": "Python 3 (ipykernel)",
   "language": "python",
   "name": "python3"
  },
  "language_info": {
   "codemirror_mode": {
    "name": "ipython",
    "version": 3
   },
   "file_extension": ".py",
   "mimetype": "text/x-python",
   "name": "python",
   "nbconvert_exporter": "python",
   "pygments_lexer": "ipython3",
   "version": "3.9.13"
  }
 },
 "nbformat": 4,
 "nbformat_minor": 5
}
