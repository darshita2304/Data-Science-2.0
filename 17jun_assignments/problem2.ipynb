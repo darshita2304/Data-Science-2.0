{
 "cells": [
  {
   "attachments": {},
   "cell_type": "markdown",
   "metadata": {},
   "source": [
    "You are given two non-empty linked lists representing two non-negative integers. The digits are stored in reverse order, and each of their nodes contains a single digit. Add the two numbers and return the sum as a linked list.\n",
    "\n",
    "You may assume the two numbers do not contain any leading zero, except the number 0 itself.\n",
    "\n",
    "\n",
    "Example 1:\n",
    "\n",
    "Input: l1 = [2,4,3], l2 = [5,6,4] Output: [7,0,8] Explanation: 342 + 465 = 807.\n",
    "\n",
    "Example 2:\n",
    "\n",
    "Input: l1 = [0], l2 = [0] Output: [0]\n",
    "\n",
    "Example 3:\n",
    "\n",
    "Input: l1 = [9,9,9,9,9,9,9], l2 = [9,9,9,9] Output: [8,9,9,9,0,0,0,1]\n",
    "\n",
    "Constraints:\n",
    "\n",
    "The number of nodes in each linked list is in the range [1, 100].\n",
    "0 <= Node.val <= 9 It is guaranteed that the list represents a number that does not have leading zeros.\n",
    "\n",
    "\n",
    "\n",
    "Note: Create a GitHub file for the solution and add the file link the the answer section below."
   ]
  },
  {
   "cell_type": "code",
   "execution_count": 10,
   "metadata": {},
   "outputs": [
    {
     "name": "stdout",
     "output_type": "stream",
     "text": [
      "2\n",
      "4\n",
      "3\n",
      "5\n",
      "6\n",
      "4\n"
     ]
    }
   ],
   "source": [
    "# A single node of a singly linked list\n",
    "class Node:\n",
    "  # constructor\n",
    "  def __init__(self, data = None, next=None): \n",
    "    self.data = data\n",
    "    self.next = next\n",
    "\n",
    "# A Linked List class with a single head node\n",
    "class LinkedList:\n",
    "  def __init__(self):  \n",
    "    self.head = None\n",
    "  \n",
    "  # insertion method for the linked list\n",
    "  def insert(self, data):\n",
    "    newNode = Node(data)\n",
    "    if(self.head):\n",
    "      current = self.head\n",
    "      while(current.next):\n",
    "        current = current.next\n",
    "      current.next = newNode\n",
    "    else:\n",
    "      self.head = newNode\n",
    "  \n",
    "  # print method for the linked list\n",
    "  def printLL(self):\n",
    "    current = self.head\n",
    "    while(current):\n",
    "      print(current.data)\n",
    "      current = current.next\n",
    "\n",
    "# Singly Linked List with insertion and print methods\n",
    "L1 = LinkedList()\n",
    "L1.insert(2)\n",
    "L1.insert(4)\n",
    "L1.insert(3)\n",
    "L1.printLL()\n",
    "\n",
    "L2 = LinkedList()\n",
    "L2.insert(5)\n",
    "L2.insert(6)\n",
    "L2.insert(4)\n",
    "\n",
    "L2.printLL()\n",
    "\n"
   ]
  },
  {
   "cell_type": "code",
   "execution_count": null,
   "metadata": {},
   "outputs": [],
   "source": []
  }
 ],
 "metadata": {
  "kernelspec": {
   "display_name": "base",
   "language": "python",
   "name": "python3"
  },
  "language_info": {
   "codemirror_mode": {
    "name": "ipython",
    "version": 3
   },
   "file_extension": ".py",
   "mimetype": "text/x-python",
   "name": "python",
   "nbconvert_exporter": "python",
   "pygments_lexer": "ipython3",
   "version": "3.9.13"
  },
  "orig_nbformat": 4
 },
 "nbformat": 4,
 "nbformat_minor": 2
}
